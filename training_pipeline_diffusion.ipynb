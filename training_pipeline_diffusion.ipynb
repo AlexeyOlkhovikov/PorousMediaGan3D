{
 "cells": [
  {
   "cell_type": "code",
   "execution_count": 1,
   "id": "29b36f1b",
   "metadata": {},
   "outputs": [],
   "source": [
    "from DDPM.train import Diffusion\n",
    "import pytorch_lightning as pl"
   ]
  },
  {
   "cell_type": "code",
   "execution_count": null,
   "id": "2a4bed6d",
   "metadata": {},
   "outputs": [],
   "source": []
  },
  {
   "cell_type": "code",
   "execution_count": 2,
   "id": "a9b8b16c",
   "metadata": {},
   "outputs": [],
   "source": [
    "def train(experiment_name, use_gpu):\n",
    "    assignment_dir = '../'\n",
    "\n",
    "    logger = pl.loggers.TensorBoardLogger(save_dir=f'{assignment_dir}/logs', name=experiment_name)\n",
    "\n",
    "    trainer = pl.Trainer(\n",
    "        max_epochs=1000, \n",
    "        gpus=[1, 2, 3] if use_gpu else None,\n",
    "        num_sanity_val_steps=0,\n",
    "        benchmark=True, \n",
    "        log_every_n_steps=5,\n",
    "        limit_val_batches=1,\n",
    "        check_val_every_n_epoch=100,\n",
    "        gradient_clip_val=0.5,\n",
    "#         limit_train_batches=25,\n",
    "        strategy='dp',\n",
    "        logger=logger) \n",
    "    \n",
    "    return trainer"
   ]
  },
  {
   "cell_type": "markdown",
   "id": "4ff714ba",
   "metadata": {},
   "source": [
    "## 3D case"
   ]
  },
  {
   "cell_type": "code",
   "execution_count": 3,
   "id": "c17cd40b",
   "metadata": {},
   "outputs": [],
   "source": [
    "diffusion = Diffusion(\n",
    "    \"../data/dataset_train.npy\", \n",
    "    \"../data/dataset_test.npy\",\n",
    "    batch_size=4, \n",
    "    diffusion_type=\"3D\"\n",
    ")"
   ]
  },
  {
   "cell_type": "code",
   "execution_count": 4,
   "id": "561c456d",
   "metadata": {
    "scrolled": false
   },
   "outputs": [
    {
     "name": "stderr",
     "output_type": "stream",
     "text": [
      "GPU available: True, used: True\n",
      "TPU available: False, using: 0 TPU cores\n",
      "IPU available: False, using: 0 IPUs\n",
      "HPU available: False, using: 0 HPUs\n",
      "`Trainer(limit_val_batches=1)` was configured so 1 batch will be used.\n",
      "LOCAL_RANK: 0 - CUDA_VISIBLE_DEVICES: [0,1,2,3]\n",
      "\n",
      "  | Name  | Type              | Params\n",
      "--------------------------------------------\n",
      "0 | model | GaussianDiffusion | 79.3 M\n",
      "--------------------------------------------\n",
      "79.3 M    Trainable params\n",
      "0         Non-trainable params\n",
      "79.3 M    Total params\n",
      "317.311   Total estimated model params size (MB)\n"
     ]
    },
    {
     "data": {
      "application/vnd.jupyter.widget-view+json": {
       "model_id": "397458ac255949bd88e9bfc977c516b0",
       "version_major": 2,
       "version_minor": 0
      },
      "text/plain": [
       "Training: 0it [00:00, ?it/s]"
      ]
     },
     "metadata": {},
     "output_type": "display_data"
    },
    {
     "name": "stderr",
     "output_type": "stream",
     "text": [
      "/home/a.olkhovikov/miniconda3/envs/kg/lib/python3.9/site-packages/pytorch_lightning/trainer/trainer.py:724: UserWarning: Detected KeyboardInterrupt, attempting graceful shutdown...\n",
      "  rank_zero_warn(\"Detected KeyboardInterrupt, attempting graceful shutdown...\")\n"
     ]
    }
   ],
   "source": [
    "trainer = train(f\"DDPM\", True) \n",
    "trainer.fit(diffusion)"
   ]
  },
  {
   "cell_type": "markdown",
   "id": "5112a82a",
   "metadata": {},
   "source": [
    "## 2D case"
   ]
  },
  {
   "cell_type": "code",
   "execution_count": 5,
   "id": "65a9f753",
   "metadata": {},
   "outputs": [],
   "source": [
    "diffusion = Diffusion(\n",
    "    \"../data/dataset_train.npy\", \n",
    "    \"../data/dataset_test.npy\",\n",
    "    batch_size=64, \n",
    "    diffusion_type=\"2D\"\n",
    ")"
   ]
  },
  {
   "cell_type": "code",
   "execution_count": 6,
   "id": "8b651483",
   "metadata": {
    "scrolled": false
   },
   "outputs": [
    {
     "name": "stderr",
     "output_type": "stream",
     "text": [
      "GPU available: True, used: True\n",
      "TPU available: False, using: 0 TPU cores\n",
      "IPU available: False, using: 0 IPUs\n",
      "HPU available: False, using: 0 HPUs\n",
      "`Trainer(limit_val_batches=1)` was configured so 1 batch will be used.\n",
      "LOCAL_RANK: 0 - CUDA_VISIBLE_DEVICES: [0,1,2,3]\n",
      "\n",
      "  | Name  | Type              | Params\n",
      "--------------------------------------------\n",
      "0 | model | GaussianDiffusion | 31.3 M\n",
      "--------------------------------------------\n",
      "31.3 M    Trainable params\n",
      "0         Non-trainable params\n",
      "31.3 M    Total params\n",
      "125.051   Total estimated model params size (MB)\n"
     ]
    },
    {
     "data": {
      "application/vnd.jupyter.widget-view+json": {
       "model_id": "1a69a8923fd74cec823c9fb7e833b8ec",
       "version_major": 2,
       "version_minor": 0
      },
      "text/plain": [
       "Training: 0it [00:00, ?it/s]"
      ]
     },
     "metadata": {},
     "output_type": "display_data"
    },
    {
     "name": "stderr",
     "output_type": "stream",
     "text": [
      "/home/a.olkhovikov/miniconda3/envs/kg/lib/python3.9/site-packages/pytorch_lightning/trainer/trainer.py:724: UserWarning: Detected KeyboardInterrupt, attempting graceful shutdown...\n",
      "  rank_zero_warn(\"Detected KeyboardInterrupt, attempting graceful shutdown...\")\n"
     ]
    }
   ],
   "source": [
    "trainer = train(f\"DDPM\", True) \n",
    "trainer.fit(diffusion)"
   ]
  },
  {
   "cell_type": "code",
   "execution_count": null,
   "id": "cd7a2df3",
   "metadata": {},
   "outputs": [],
   "source": []
  }
 ],
 "metadata": {
  "kernelspec": {
   "display_name": "Python 3 (ipykernel)",
   "language": "python",
   "name": "python3"
  },
  "language_info": {
   "codemirror_mode": {
    "name": "ipython",
    "version": 3
   },
   "file_extension": ".py",
   "mimetype": "text/x-python",
   "name": "python",
   "nbconvert_exporter": "python",
   "pygments_lexer": "ipython3",
   "version": "3.9.12"
  }
 },
 "nbformat": 4,
 "nbformat_minor": 5
}
