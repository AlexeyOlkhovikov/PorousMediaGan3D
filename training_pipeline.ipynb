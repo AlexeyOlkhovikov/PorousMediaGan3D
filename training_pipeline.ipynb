{
 "cells": [
  {
   "cell_type": "code",
   "execution_count": 1,
   "id": "6645eff0",
   "metadata": {},
   "outputs": [],
   "source": [
    "%load_ext autoreload\n",
    "%autoreload 2"
   ]
  },
  {
   "cell_type": "code",
   "execution_count": 2,
   "id": "85e05cd7",
   "metadata": {},
   "outputs": [],
   "source": [
    "from GANs.train import GAN\n",
    "import pytorch_lightning as pl\n",
    "\n",
    "import numpy as np\n",
    "\n",
    "from torchvision import transforms"
   ]
  },
  {
   "cell_type": "code",
   "execution_count": null,
   "id": "214fcec1",
   "metadata": {},
   "outputs": [],
   "source": []
  },
  {
   "cell_type": "code",
   "execution_count": 3,
   "id": "089d8ef3",
   "metadata": {},
   "outputs": [],
   "source": [
    "loss_type = 'standard'\n",
    "\n",
    "tr = transforms.Compose([\n",
    "    transforms.ToTensor(),\n",
    "    transforms.Normalize((0.52, ), (0.12, )),\n",
    "#     transforms.RandomHorizontalFlip(),\n",
    "#     transforms.RandomVerticalFlip(),\n",
    "#     transforms.RandomRotation([-5, 5])\n",
    "])"
   ]
  },
  {
   "cell_type": "code",
   "execution_count": 4,
   "id": "cdebabf6",
   "metadata": {},
   "outputs": [],
   "source": [
    "def train(experiment_name, use_gpu):\n",
    "    assignment_dir = '../'\n",
    "\n",
    "    logger = pl.loggers.TensorBoardLogger(save_dir=f'{assignment_dir}/logs', name=experiment_name)\n",
    "\n",
    "    trainer = pl.Trainer(\n",
    "        max_epochs=250, \n",
    "        gpus=[1, 2, 3] if use_gpu else None,\n",
    "        num_sanity_val_steps=2,\n",
    "        benchmark=True, \n",
    "        log_every_n_steps=5,\n",
    "        check_val_every_n_epoch=2,\n",
    "        gradient_clip_val=0.5,\n",
    "#         limit_train_batches=25,\n",
    "        strategy='dp',\n",
    "        logger=logger) \n",
    "    \n",
    "    return trainer"
   ]
  },
  {
   "cell_type": "code",
   "execution_count": 5,
   "id": "d97151b1",
   "metadata": {},
   "outputs": [],
   "source": [
    "gan = GAN(train_data_path = \"../data/dataset_train.npy\", \n",
    "          valid_data_path = \"../data/dataset_test.npy\",\n",
    "          gan_type='dcgan', #biggan\n",
    "          batch_size=24, \n",
    "          loss_type=loss_type, \n",
    "          transforms=tr)\n",
    "\n",
    "# gan = GAN.load_from_checkpoint(f\"{loss_type}_loss_zone_0_1_3.ckpt\",\n",
    "#                          train_data_path = \"./data/dataset_full.npy\", \n",
    "#                          valid_data_path = \"./data/dataset_zone5.npy\",\n",
    "#                          batch_size=12, \n",
    "#                          loss_type=loss_type, \n",
    "#                          transforms=tr)"
   ]
  },
  {
   "cell_type": "code",
   "execution_count": 6,
   "id": "480ce637",
   "metadata": {
    "scrolled": false
   },
   "outputs": [
    {
     "name": "stderr",
     "output_type": "stream",
     "text": [
      "GPU available: True, used: True\n",
      "TPU available: False, using: 0 TPU cores\n",
      "IPU available: False, using: 0 IPUs\n",
      "HPU available: False, using: 0 HPUs\n"
     ]
    }
   ],
   "source": [
    "trainer = train(f\"{loss_type}_loss_zone_0_1_3\", True)"
   ]
  },
  {
   "cell_type": "code",
   "execution_count": null,
   "id": "30095d60",
   "metadata": {
    "scrolled": false
   },
   "outputs": [
    {
     "name": "stderr",
     "output_type": "stream",
     "text": [
      "LOCAL_RANK: 0 - CUDA_VISIBLE_DEVICES: [0,1,2,3]\n",
      "\n",
      "  | Name    | Type          | Params\n",
      "------------------------------------------\n",
      "0 | loss    | GanLoss       | 0     \n",
      "1 | encoder | Encoder       | 11.7 M\n",
      "2 | gen     | Generator     | 1.7 M \n",
      "3 | dis     | Discriminator | 901 K \n",
      "------------------------------------------\n",
      "14.3 M    Trainable params\n",
      "0         Non-trainable params\n",
      "14.3 M    Total params\n",
      "57.303    Total estimated model params size (MB)\n"
     ]
    },
    {
     "data": {
      "application/vnd.jupyter.widget-view+json": {
       "model_id": "",
       "version_major": 2,
       "version_minor": 0
      },
      "text/plain": [
       "Sanity Checking: 0it [00:00, ?it/s]"
      ]
     },
     "metadata": {},
     "output_type": "display_data"
    },
    {
     "data": {
      "application/vnd.jupyter.widget-view+json": {
       "model_id": "e2410c399eca4a6086c44c29c1473870",
       "version_major": 2,
       "version_minor": 0
      },
      "text/plain": [
       "Training: 0it [00:00, ?it/s]"
      ]
     },
     "metadata": {},
     "output_type": "display_data"
    }
   ],
   "source": [
    "trainer.fit(gan)"
   ]
  },
  {
   "cell_type": "code",
   "execution_count": null,
   "id": "d10f4613",
   "metadata": {},
   "outputs": [],
   "source": [
    "trainer.save_checkpoint(f\"{loss_type}_loss_zone_0_1_3_biggan.ckpt\")"
   ]
  },
  {
   "cell_type": "code",
   "execution_count": null,
   "id": "f443efa9",
   "metadata": {},
   "outputs": [],
   "source": []
  },
  {
   "cell_type": "code",
   "execution_count": null,
   "id": "8d7fbb9e",
   "metadata": {},
   "outputs": [],
   "source": []
  }
 ],
 "metadata": {
  "kernelspec": {
   "display_name": "Python 3 (ipykernel)",
   "language": "python",
   "name": "python3"
  },
  "language_info": {
   "codemirror_mode": {
    "name": "ipython",
    "version": 3
   },
   "file_extension": ".py",
   "mimetype": "text/x-python",
   "name": "python",
   "nbconvert_exporter": "python",
   "pygments_lexer": "ipython3",
   "version": "3.9.12"
  }
 },
 "nbformat": 4,
 "nbformat_minor": 5
}
