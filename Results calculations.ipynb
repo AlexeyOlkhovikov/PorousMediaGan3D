{
  "nbformat": 4,
  "nbformat_minor": 0,
  "metadata": {
    "colab": {
      "name": "Results.ipynb",
      "provenance": [],
      "collapsed_sections": []
    },
    "kernelspec": {
      "name": "python3",
      "display_name": "Python 3"
    },
    "language_info": {
      "name": "python"
    },
    "widgets": {
      "application/vnd.jupyter.widget-state+json": {
        "fe67526d975144c1b5893e536038df05": {
          "model_module": "@jupyter-widgets/controls",
          "model_name": "VBoxModel",
          "model_module_version": "1.5.0",
          "state": {
            "_dom_classes": [
              "widget-interact"
            ],
            "_model_module": "@jupyter-widgets/controls",
            "_model_module_version": "1.5.0",
            "_model_name": "VBoxModel",
            "_view_count": null,
            "_view_module": "@jupyter-widgets/controls",
            "_view_module_version": "1.5.0",
            "_view_name": "VBoxView",
            "box_style": "",
            "children": [
              "IPY_MODEL_94dca0245db4475dbb3f58a6a0ffc1f6",
              "IPY_MODEL_7639a15d974e45738aa12e2d2928a664",
              "IPY_MODEL_3eff9d6f2c78474788628414ea194b9e"
            ],
            "layout": "IPY_MODEL_8c20fc7b83f445dea99930d6b6d856eb"
          }
        },
        "94dca0245db4475dbb3f58a6a0ffc1f6": {
          "model_module": "@jupyter-widgets/controls",
          "model_name": "IntSliderModel",
          "model_module_version": "1.5.0",
          "state": {
            "_dom_classes": [],
            "_model_module": "@jupyter-widgets/controls",
            "_model_module_version": "1.5.0",
            "_model_name": "IntSliderModel",
            "_view_count": null,
            "_view_module": "@jupyter-widgets/controls",
            "_view_module_version": "1.5.0",
            "_view_name": "IntSliderView",
            "continuous_update": true,
            "description": "i",
            "description_tooltip": null,
            "disabled": false,
            "layout": "IPY_MODEL_ef77accc35574128a3c98e9132ab63d8",
            "max": 28,
            "min": 1,
            "orientation": "horizontal",
            "readout": true,
            "readout_format": "d",
            "step": 1,
            "style": "IPY_MODEL_f404d0d8820f47e5bbb9e0e73307da09",
            "value": 3
          }
        },
        "7639a15d974e45738aa12e2d2928a664": {
          "model_module": "@jupyter-widgets/controls",
          "model_name": "IntSliderModel",
          "model_module_version": "1.5.0",
          "state": {
            "_dom_classes": [],
            "_model_module": "@jupyter-widgets/controls",
            "_model_module_version": "1.5.0",
            "_model_name": "IntSliderModel",
            "_view_count": null,
            "_view_module": "@jupyter-widgets/controls",
            "_view_module_version": "1.5.0",
            "_view_name": "IntSliderView",
            "continuous_update": true,
            "description": "j",
            "description_tooltip": null,
            "disabled": false,
            "layout": "IPY_MODEL_14c3ed6c51764004acdc53d258c3c205",
            "max": 63,
            "min": 0,
            "orientation": "horizontal",
            "readout": true,
            "readout_format": "d",
            "step": 1,
            "style": "IPY_MODEL_c3b094a515c7408a82d5c91c4196d788",
            "value": 63
          }
        },
        "3eff9d6f2c78474788628414ea194b9e": {
          "model_module": "@jupyter-widgets/output",
          "model_name": "OutputModel",
          "model_module_version": "1.0.0",
          "state": {
            "_dom_classes": [],
            "_model_module": "@jupyter-widgets/output",
            "_model_module_version": "1.0.0",
            "_model_name": "OutputModel",
            "_view_count": null,
            "_view_module": "@jupyter-widgets/output",
            "_view_module_version": "1.0.0",
            "_view_name": "OutputView",
            "layout": "IPY_MODEL_9631252e17a44791b5106c854d3468a7",
            "msg_id": "",
            "outputs": [
              {
                "output_type": "display_data",
                "data": {
                  "text/plain": "<Figure size 432x288 with 2 Axes>",
                  "image/png": "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\n"
                },
                "metadata": {
                  "needs_background": "light"
                }
              }
            ]
          }
        },
        "8c20fc7b83f445dea99930d6b6d856eb": {
          "model_module": "@jupyter-widgets/base",
          "model_name": "LayoutModel",
          "model_module_version": "1.2.0",
          "state": {
            "_model_module": "@jupyter-widgets/base",
            "_model_module_version": "1.2.0",
            "_model_name": "LayoutModel",
            "_view_count": null,
            "_view_module": "@jupyter-widgets/base",
            "_view_module_version": "1.2.0",
            "_view_name": "LayoutView",
            "align_content": null,
            "align_items": null,
            "align_self": null,
            "border": null,
            "bottom": null,
            "display": null,
            "flex": null,
            "flex_flow": null,
            "grid_area": null,
            "grid_auto_columns": null,
            "grid_auto_flow": null,
            "grid_auto_rows": null,
            "grid_column": null,
            "grid_gap": null,
            "grid_row": null,
            "grid_template_areas": null,
            "grid_template_columns": null,
            "grid_template_rows": null,
            "height": null,
            "justify_content": null,
            "justify_items": null,
            "left": null,
            "margin": null,
            "max_height": null,
            "max_width": null,
            "min_height": null,
            "min_width": null,
            "object_fit": null,
            "object_position": null,
            "order": null,
            "overflow": null,
            "overflow_x": null,
            "overflow_y": null,
            "padding": null,
            "right": null,
            "top": null,
            "visibility": null,
            "width": null
          }
        },
        "ef77accc35574128a3c98e9132ab63d8": {
          "model_module": "@jupyter-widgets/base",
          "model_name": "LayoutModel",
          "model_module_version": "1.2.0",
          "state": {
            "_model_module": "@jupyter-widgets/base",
            "_model_module_version": "1.2.0",
            "_model_name": "LayoutModel",
            "_view_count": null,
            "_view_module": "@jupyter-widgets/base",
            "_view_module_version": "1.2.0",
            "_view_name": "LayoutView",
            "align_content": null,
            "align_items": null,
            "align_self": null,
            "border": null,
            "bottom": null,
            "display": null,
            "flex": null,
            "flex_flow": null,
            "grid_area": null,
            "grid_auto_columns": null,
            "grid_auto_flow": null,
            "grid_auto_rows": null,
            "grid_column": null,
            "grid_gap": null,
            "grid_row": null,
            "grid_template_areas": null,
            "grid_template_columns": null,
            "grid_template_rows": null,
            "height": null,
            "justify_content": null,
            "justify_items": null,
            "left": null,
            "margin": null,
            "max_height": null,
            "max_width": null,
            "min_height": null,
            "min_width": null,
            "object_fit": null,
            "object_position": null,
            "order": null,
            "overflow": null,
            "overflow_x": null,
            "overflow_y": null,
            "padding": null,
            "right": null,
            "top": null,
            "visibility": null,
            "width": null
          }
        },
        "f404d0d8820f47e5bbb9e0e73307da09": {
          "model_module": "@jupyter-widgets/controls",
          "model_name": "SliderStyleModel",
          "model_module_version": "1.5.0",
          "state": {
            "_model_module": "@jupyter-widgets/controls",
            "_model_module_version": "1.5.0",
            "_model_name": "SliderStyleModel",
            "_view_count": null,
            "_view_module": "@jupyter-widgets/base",
            "_view_module_version": "1.2.0",
            "_view_name": "StyleView",
            "description_width": "",
            "handle_color": null
          }
        },
        "14c3ed6c51764004acdc53d258c3c205": {
          "model_module": "@jupyter-widgets/base",
          "model_name": "LayoutModel",
          "model_module_version": "1.2.0",
          "state": {
            "_model_module": "@jupyter-widgets/base",
            "_model_module_version": "1.2.0",
            "_model_name": "LayoutModel",
            "_view_count": null,
            "_view_module": "@jupyter-widgets/base",
            "_view_module_version": "1.2.0",
            "_view_name": "LayoutView",
            "align_content": null,
            "align_items": null,
            "align_self": null,
            "border": null,
            "bottom": null,
            "display": null,
            "flex": null,
            "flex_flow": null,
            "grid_area": null,
            "grid_auto_columns": null,
            "grid_auto_flow": null,
            "grid_auto_rows": null,
            "grid_column": null,
            "grid_gap": null,
            "grid_row": null,
            "grid_template_areas": null,
            "grid_template_columns": null,
            "grid_template_rows": null,
            "height": null,
            "justify_content": null,
            "justify_items": null,
            "left": null,
            "margin": null,
            "max_height": null,
            "max_width": null,
            "min_height": null,
            "min_width": null,
            "object_fit": null,
            "object_position": null,
            "order": null,
            "overflow": null,
            "overflow_x": null,
            "overflow_y": null,
            "padding": null,
            "right": null,
            "top": null,
            "visibility": null,
            "width": null
          }
        },
        "c3b094a515c7408a82d5c91c4196d788": {
          "model_module": "@jupyter-widgets/controls",
          "model_name": "SliderStyleModel",
          "model_module_version": "1.5.0",
          "state": {
            "_model_module": "@jupyter-widgets/controls",
            "_model_module_version": "1.5.0",
            "_model_name": "SliderStyleModel",
            "_view_count": null,
            "_view_module": "@jupyter-widgets/base",
            "_view_module_version": "1.2.0",
            "_view_name": "StyleView",
            "description_width": "",
            "handle_color": null
          }
        },
        "9631252e17a44791b5106c854d3468a7": {
          "model_module": "@jupyter-widgets/base",
          "model_name": "LayoutModel",
          "model_module_version": "1.2.0",
          "state": {
            "_model_module": "@jupyter-widgets/base",
            "_model_module_version": "1.2.0",
            "_model_name": "LayoutModel",
            "_view_count": null,
            "_view_module": "@jupyter-widgets/base",
            "_view_module_version": "1.2.0",
            "_view_name": "LayoutView",
            "align_content": null,
            "align_items": null,
            "align_self": null,
            "border": null,
            "bottom": null,
            "display": null,
            "flex": null,
            "flex_flow": null,
            "grid_area": null,
            "grid_auto_columns": null,
            "grid_auto_flow": null,
            "grid_auto_rows": null,
            "grid_column": null,
            "grid_gap": null,
            "grid_row": null,
            "grid_template_areas": null,
            "grid_template_columns": null,
            "grid_template_rows": null,
            "height": null,
            "justify_content": null,
            "justify_items": null,
            "left": null,
            "margin": null,
            "max_height": null,
            "max_width": null,
            "min_height": null,
            "min_width": null,
            "object_fit": null,
            "object_position": null,
            "order": null,
            "overflow": null,
            "overflow_x": null,
            "overflow_y": null,
            "padding": null,
            "right": null,
            "top": null,
            "visibility": null,
            "width": null
          }
        }
      }
    }
  },
  "cells": [
    {
      "cell_type": "code",
      "source": [
        "!pip install config\n",
        "!pip install pytorch_lightning\n",
        "!pip install timm\n",
        "!pip install quantimpy\n",
        "!pip install trackpy\n",
        "!pip install porespy"
      ],
      "metadata": {
        "colab": {
          "base_uri": "https://localhost:8080/"
        },
        "id": "RjFE5BqTNnLe",
        "outputId": "9f67991a-c6e2-4387-e584-2b0bba33665d"
      },
      "execution_count": 1,
      "outputs": [
        {
          "output_type": "stream",
          "name": "stdout",
          "text": [
            "Looking in indexes: https://pypi.org/simple, https://us-python.pkg.dev/colab-wheels/public/simple/\n",
            "Collecting config\n",
            "  Downloading config-0.5.1-py2.py3-none-any.whl (20 kB)\n",
            "Installing collected packages: config\n",
            "Successfully installed config-0.5.1\n",
            "Looking in indexes: https://pypi.org/simple, https://us-python.pkg.dev/colab-wheels/public/simple/\n",
            "Collecting pytorch_lightning\n",
            "  Downloading pytorch_lightning-1.6.3-py3-none-any.whl (584 kB)\n",
            "\u001b[K     |████████████████████████████████| 584 kB 5.0 MB/s \n",
            "\u001b[?25hRequirement already satisfied: tensorboard>=2.2.0 in /usr/local/lib/python3.7/dist-packages (from pytorch_lightning) (2.8.0)\n",
            "Requirement already satisfied: torch>=1.8.* in /usr/local/lib/python3.7/dist-packages (from pytorch_lightning) (1.11.0+cu113)\n",
            "Collecting torchmetrics>=0.4.1\n",
            "  Downloading torchmetrics-0.8.2-py3-none-any.whl (409 kB)\n",
            "\u001b[K     |████████████████████████████████| 409 kB 44.5 MB/s \n",
            "\u001b[?25hRequirement already satisfied: packaging>=17.0 in /usr/local/lib/python3.7/dist-packages (from pytorch_lightning) (21.3)\n",
            "Requirement already satisfied: typing-extensions>=4.0.0 in /usr/local/lib/python3.7/dist-packages (from pytorch_lightning) (4.2.0)\n",
            "Requirement already satisfied: tqdm>=4.57.0 in /usr/local/lib/python3.7/dist-packages (from pytorch_lightning) (4.64.0)\n",
            "Collecting PyYAML>=5.4\n",
            "  Downloading PyYAML-6.0-cp37-cp37m-manylinux_2_5_x86_64.manylinux1_x86_64.manylinux_2_12_x86_64.manylinux2010_x86_64.whl (596 kB)\n",
            "\u001b[K     |████████████████████████████████| 596 kB 47.4 MB/s \n",
            "\u001b[?25hCollecting fsspec[http]!=2021.06.0,>=2021.05.0\n",
            "  Downloading fsspec-2022.5.0-py3-none-any.whl (140 kB)\n",
            "\u001b[K     |████████████████████████████████| 140 kB 45.2 MB/s \n",
            "\u001b[?25hCollecting pyDeprecate<0.4.0,>=0.3.1\n",
            "  Downloading pyDeprecate-0.3.2-py3-none-any.whl (10 kB)\n",
            "Requirement already satisfied: numpy>=1.17.2 in /usr/local/lib/python3.7/dist-packages (from pytorch_lightning) (1.21.6)\n",
            "Collecting aiohttp\n",
            "  Downloading aiohttp-3.8.1-cp37-cp37m-manylinux_2_5_x86_64.manylinux1_x86_64.manylinux_2_12_x86_64.manylinux2010_x86_64.whl (1.1 MB)\n",
            "\u001b[K     |████████████████████████████████| 1.1 MB 40.6 MB/s \n",
            "\u001b[?25hRequirement already satisfied: requests in /usr/local/lib/python3.7/dist-packages (from fsspec[http]!=2021.06.0,>=2021.05.0->pytorch_lightning) (2.23.0)\n",
            "Requirement already satisfied: pyparsing!=3.0.5,>=2.0.2 in /usr/local/lib/python3.7/dist-packages (from packaging>=17.0->pytorch_lightning) (3.0.9)\n",
            "Requirement already satisfied: absl-py>=0.4 in /usr/local/lib/python3.7/dist-packages (from tensorboard>=2.2.0->pytorch_lightning) (1.0.0)\n",
            "Requirement already satisfied: google-auth-oauthlib<0.5,>=0.4.1 in /usr/local/lib/python3.7/dist-packages (from tensorboard>=2.2.0->pytorch_lightning) (0.4.6)\n",
            "Requirement already satisfied: tensorboard-plugin-wit>=1.6.0 in /usr/local/lib/python3.7/dist-packages (from tensorboard>=2.2.0->pytorch_lightning) (1.8.1)\n",
            "Requirement already satisfied: wheel>=0.26 in /usr/local/lib/python3.7/dist-packages (from tensorboard>=2.2.0->pytorch_lightning) (0.37.1)\n",
            "Requirement already satisfied: protobuf>=3.6.0 in /usr/local/lib/python3.7/dist-packages (from tensorboard>=2.2.0->pytorch_lightning) (3.17.3)\n",
            "Requirement already satisfied: grpcio>=1.24.3 in /usr/local/lib/python3.7/dist-packages (from tensorboard>=2.2.0->pytorch_lightning) (1.46.1)\n",
            "Requirement already satisfied: google-auth<3,>=1.6.3 in /usr/local/lib/python3.7/dist-packages (from tensorboard>=2.2.0->pytorch_lightning) (1.35.0)\n",
            "Requirement already satisfied: tensorboard-data-server<0.7.0,>=0.6.0 in /usr/local/lib/python3.7/dist-packages (from tensorboard>=2.2.0->pytorch_lightning) (0.6.1)\n",
            "Requirement already satisfied: markdown>=2.6.8 in /usr/local/lib/python3.7/dist-packages (from tensorboard>=2.2.0->pytorch_lightning) (3.3.7)\n",
            "Requirement already satisfied: setuptools>=41.0.0 in /usr/local/lib/python3.7/dist-packages (from tensorboard>=2.2.0->pytorch_lightning) (57.4.0)\n",
            "Requirement already satisfied: werkzeug>=0.11.15 in /usr/local/lib/python3.7/dist-packages (from tensorboard>=2.2.0->pytorch_lightning) (1.0.1)\n",
            "Requirement already satisfied: six in /usr/local/lib/python3.7/dist-packages (from absl-py>=0.4->tensorboard>=2.2.0->pytorch_lightning) (1.15.0)\n",
            "Requirement already satisfied: rsa<5,>=3.1.4 in /usr/local/lib/python3.7/dist-packages (from google-auth<3,>=1.6.3->tensorboard>=2.2.0->pytorch_lightning) (4.8)\n",
            "Requirement already satisfied: pyasn1-modules>=0.2.1 in /usr/local/lib/python3.7/dist-packages (from google-auth<3,>=1.6.3->tensorboard>=2.2.0->pytorch_lightning) (0.2.8)\n",
            "Requirement already satisfied: cachetools<5.0,>=2.0.0 in /usr/local/lib/python3.7/dist-packages (from google-auth<3,>=1.6.3->tensorboard>=2.2.0->pytorch_lightning) (4.2.4)\n",
            "Requirement already satisfied: requests-oauthlib>=0.7.0 in /usr/local/lib/python3.7/dist-packages (from google-auth-oauthlib<0.5,>=0.4.1->tensorboard>=2.2.0->pytorch_lightning) (1.3.1)\n",
            "Requirement already satisfied: importlib-metadata>=4.4 in /usr/local/lib/python3.7/dist-packages (from markdown>=2.6.8->tensorboard>=2.2.0->pytorch_lightning) (4.11.3)\n",
            "Requirement already satisfied: zipp>=0.5 in /usr/local/lib/python3.7/dist-packages (from importlib-metadata>=4.4->markdown>=2.6.8->tensorboard>=2.2.0->pytorch_lightning) (3.8.0)\n",
            "Requirement already satisfied: pyasn1<0.5.0,>=0.4.6 in /usr/local/lib/python3.7/dist-packages (from pyasn1-modules>=0.2.1->google-auth<3,>=1.6.3->tensorboard>=2.2.0->pytorch_lightning) (0.4.8)\n",
            "Requirement already satisfied: idna<3,>=2.5 in /usr/local/lib/python3.7/dist-packages (from requests->fsspec[http]!=2021.06.0,>=2021.05.0->pytorch_lightning) (2.10)\n",
            "Requirement already satisfied: certifi>=2017.4.17 in /usr/local/lib/python3.7/dist-packages (from requests->fsspec[http]!=2021.06.0,>=2021.05.0->pytorch_lightning) (2022.5.18.1)\n",
            "Requirement already satisfied: urllib3!=1.25.0,!=1.25.1,<1.26,>=1.21.1 in /usr/local/lib/python3.7/dist-packages (from requests->fsspec[http]!=2021.06.0,>=2021.05.0->pytorch_lightning) (1.24.3)\n",
            "Requirement already satisfied: chardet<4,>=3.0.2 in /usr/local/lib/python3.7/dist-packages (from requests->fsspec[http]!=2021.06.0,>=2021.05.0->pytorch_lightning) (3.0.4)\n",
            "Requirement already satisfied: oauthlib>=3.0.0 in /usr/local/lib/python3.7/dist-packages (from requests-oauthlib>=0.7.0->google-auth-oauthlib<0.5,>=0.4.1->tensorboard>=2.2.0->pytorch_lightning) (3.2.0)\n",
            "Requirement already satisfied: attrs>=17.3.0 in /usr/local/lib/python3.7/dist-packages (from aiohttp->fsspec[http]!=2021.06.0,>=2021.05.0->pytorch_lightning) (21.4.0)\n",
            "Requirement already satisfied: charset-normalizer<3.0,>=2.0 in /usr/local/lib/python3.7/dist-packages (from aiohttp->fsspec[http]!=2021.06.0,>=2021.05.0->pytorch_lightning) (2.0.12)\n",
            "Collecting yarl<2.0,>=1.0\n",
            "  Downloading yarl-1.7.2-cp37-cp37m-manylinux_2_5_x86_64.manylinux1_x86_64.manylinux_2_12_x86_64.manylinux2010_x86_64.whl (271 kB)\n",
            "\u001b[K     |████████████████████████████████| 271 kB 44.4 MB/s \n",
            "\u001b[?25hCollecting aiosignal>=1.1.2\n",
            "  Downloading aiosignal-1.2.0-py3-none-any.whl (8.2 kB)\n",
            "Collecting multidict<7.0,>=4.5\n",
            "  Downloading multidict-6.0.2-cp37-cp37m-manylinux_2_17_x86_64.manylinux2014_x86_64.whl (94 kB)\n",
            "\u001b[K     |████████████████████████████████| 94 kB 2.5 MB/s \n",
            "\u001b[?25hCollecting async-timeout<5.0,>=4.0.0a3\n",
            "  Downloading async_timeout-4.0.2-py3-none-any.whl (5.8 kB)\n",
            "Collecting frozenlist>=1.1.1\n",
            "  Downloading frozenlist-1.3.0-cp37-cp37m-manylinux_2_5_x86_64.manylinux1_x86_64.manylinux_2_17_x86_64.manylinux2014_x86_64.whl (144 kB)\n",
            "\u001b[K     |████████████████████████████████| 144 kB 12.1 MB/s \n",
            "\u001b[?25hCollecting asynctest==0.13.0\n",
            "  Downloading asynctest-0.13.0-py3-none-any.whl (26 kB)\n",
            "Installing collected packages: multidict, frozenlist, yarl, asynctest, async-timeout, aiosignal, pyDeprecate, fsspec, aiohttp, torchmetrics, PyYAML, pytorch-lightning\n",
            "  Attempting uninstall: PyYAML\n",
            "    Found existing installation: PyYAML 3.13\n",
            "    Uninstalling PyYAML-3.13:\n",
            "      Successfully uninstalled PyYAML-3.13\n",
            "Successfully installed PyYAML-6.0 aiohttp-3.8.1 aiosignal-1.2.0 async-timeout-4.0.2 asynctest-0.13.0 frozenlist-1.3.0 fsspec-2022.5.0 multidict-6.0.2 pyDeprecate-0.3.2 pytorch-lightning-1.6.3 torchmetrics-0.8.2 yarl-1.7.2\n",
            "Looking in indexes: https://pypi.org/simple, https://us-python.pkg.dev/colab-wheels/public/simple/\n",
            "Collecting timm\n",
            "  Downloading timm-0.5.4-py3-none-any.whl (431 kB)\n",
            "\u001b[K     |████████████████████████████████| 431 kB 4.5 MB/s \n",
            "\u001b[?25hRequirement already satisfied: torch>=1.4 in /usr/local/lib/python3.7/dist-packages (from timm) (1.11.0+cu113)\n",
            "Requirement already satisfied: torchvision in /usr/local/lib/python3.7/dist-packages (from timm) (0.12.0+cu113)\n",
            "Requirement already satisfied: typing-extensions in /usr/local/lib/python3.7/dist-packages (from torch>=1.4->timm) (4.2.0)\n",
            "Requirement already satisfied: pillow!=8.3.*,>=5.3.0 in /usr/local/lib/python3.7/dist-packages (from torchvision->timm) (7.1.2)\n",
            "Requirement already satisfied: requests in /usr/local/lib/python3.7/dist-packages (from torchvision->timm) (2.23.0)\n",
            "Requirement already satisfied: numpy in /usr/local/lib/python3.7/dist-packages (from torchvision->timm) (1.21.6)\n",
            "Requirement already satisfied: idna<3,>=2.5 in /usr/local/lib/python3.7/dist-packages (from requests->torchvision->timm) (2.10)\n",
            "Requirement already satisfied: chardet<4,>=3.0.2 in /usr/local/lib/python3.7/dist-packages (from requests->torchvision->timm) (3.0.4)\n",
            "Requirement already satisfied: urllib3!=1.25.0,!=1.25.1,<1.26,>=1.21.1 in /usr/local/lib/python3.7/dist-packages (from requests->torchvision->timm) (1.24.3)\n",
            "Requirement already satisfied: certifi>=2017.4.17 in /usr/local/lib/python3.7/dist-packages (from requests->torchvision->timm) (2022.5.18.1)\n",
            "Installing collected packages: timm\n",
            "Successfully installed timm-0.5.4\n",
            "Looking in indexes: https://pypi.org/simple, https://us-python.pkg.dev/colab-wheels/public/simple/\n",
            "Collecting quantimpy\n",
            "  Downloading quantimpy-0.4.5-cp37-cp37m-manylinux_2_17_x86_64.manylinux2014_x86_64.whl (1.7 MB)\n",
            "\u001b[K     |████████████████████████████████| 1.7 MB 5.0 MB/s \n",
            "\u001b[?25hRequirement already satisfied: numpy in /usr/local/lib/python3.7/dist-packages (from quantimpy) (1.21.6)\n",
            "Requirement already satisfied: matplotlib in /usr/local/lib/python3.7/dist-packages (from quantimpy) (3.2.2)\n",
            "Requirement already satisfied: scipy in /usr/local/lib/python3.7/dist-packages (from quantimpy) (1.4.1)\n",
            "Collecting edt\n",
            "  Downloading edt-2.3.0-cp37-cp37m-manylinux_2_17_x86_64.manylinux2014_x86_64.whl (2.8 MB)\n",
            "\u001b[K     |████████████████████████████████| 2.8 MB 41.2 MB/s \n",
            "\u001b[?25hRequirement already satisfied: cycler>=0.10 in /usr/local/lib/python3.7/dist-packages (from matplotlib->quantimpy) (0.11.0)\n",
            "Requirement already satisfied: pyparsing!=2.0.4,!=2.1.2,!=2.1.6,>=2.0.1 in /usr/local/lib/python3.7/dist-packages (from matplotlib->quantimpy) (3.0.9)\n",
            "Requirement already satisfied: python-dateutil>=2.1 in /usr/local/lib/python3.7/dist-packages (from matplotlib->quantimpy) (2.8.2)\n",
            "Requirement already satisfied: kiwisolver>=1.0.1 in /usr/local/lib/python3.7/dist-packages (from matplotlib->quantimpy) (1.4.2)\n",
            "Requirement already satisfied: typing-extensions in /usr/local/lib/python3.7/dist-packages (from kiwisolver>=1.0.1->matplotlib->quantimpy) (4.2.0)\n",
            "Requirement already satisfied: six>=1.5 in /usr/local/lib/python3.7/dist-packages (from python-dateutil>=2.1->matplotlib->quantimpy) (1.15.0)\n",
            "Installing collected packages: edt, quantimpy\n",
            "Successfully installed edt-2.3.0 quantimpy-0.4.5\n",
            "Looking in indexes: https://pypi.org/simple, https://us-python.pkg.dev/colab-wheels/public/simple/\n",
            "Collecting trackpy\n",
            "  Downloading trackpy-0.5.0.tar.gz (131 kB)\n",
            "\u001b[K     |████████████████████████████████| 131 kB 4.9 MB/s \n",
            "\u001b[?25hRequirement already satisfied: numpy>=1.14 in /usr/local/lib/python3.7/dist-packages (from trackpy) (1.21.6)\n",
            "Requirement already satisfied: scipy>=1.1 in /usr/local/lib/python3.7/dist-packages (from trackpy) (1.4.1)\n",
            "Requirement already satisfied: pandas>=0.22 in /usr/local/lib/python3.7/dist-packages (from trackpy) (1.3.5)\n",
            "Requirement already satisfied: pyyaml in /usr/local/lib/python3.7/dist-packages (from trackpy) (6.0)\n",
            "Requirement already satisfied: matplotlib in /usr/local/lib/python3.7/dist-packages (from trackpy) (3.2.2)\n",
            "Requirement already satisfied: python-dateutil>=2.7.3 in /usr/local/lib/python3.7/dist-packages (from pandas>=0.22->trackpy) (2.8.2)\n",
            "Requirement already satisfied: pytz>=2017.3 in /usr/local/lib/python3.7/dist-packages (from pandas>=0.22->trackpy) (2022.1)\n",
            "Requirement already satisfied: six>=1.5 in /usr/local/lib/python3.7/dist-packages (from python-dateutil>=2.7.3->pandas>=0.22->trackpy) (1.15.0)\n",
            "Requirement already satisfied: kiwisolver>=1.0.1 in /usr/local/lib/python3.7/dist-packages (from matplotlib->trackpy) (1.4.2)\n",
            "Requirement already satisfied: pyparsing!=2.0.4,!=2.1.2,!=2.1.6,>=2.0.1 in /usr/local/lib/python3.7/dist-packages (from matplotlib->trackpy) (3.0.9)\n",
            "Requirement already satisfied: cycler>=0.10 in /usr/local/lib/python3.7/dist-packages (from matplotlib->trackpy) (0.11.0)\n",
            "Requirement already satisfied: typing-extensions in /usr/local/lib/python3.7/dist-packages (from kiwisolver>=1.0.1->matplotlib->trackpy) (4.2.0)\n",
            "Building wheels for collected packages: trackpy\n",
            "  Building wheel for trackpy (setup.py) ... \u001b[?25l\u001b[?25hdone\n",
            "  Created wheel for trackpy: filename=trackpy-0.5.0-py3-none-any.whl size=128767 sha256=2e8171910c9f4660711632da712e8b23e1155b1d075c0ac858c4ffe9f85c801e\n",
            "  Stored in directory: /root/.cache/pip/wheels/fa/0b/63/748d0a53a28526c0bfd68b1b71b3a107060a1cfdb5849ae2d1\n",
            "Successfully built trackpy\n",
            "Installing collected packages: trackpy\n",
            "Successfully installed trackpy-0.5.0\n",
            "Looking in indexes: https://pypi.org/simple, https://us-python.pkg.dev/colab-wheels/public/simple/\n",
            "Collecting porespy\n",
            "  Downloading porespy-2.0.2-py3-none-any.whl (123 kB)\n",
            "\u001b[K     |████████████████████████████████| 123 kB 5.0 MB/s \n",
            "\u001b[?25hCollecting trimesh\n",
            "  Downloading trimesh-3.12.3-py3-none-any.whl (646 kB)\n",
            "\u001b[K     |████████████████████████████████| 646 kB 35.7 MB/s \n",
            "\u001b[?25hCollecting numpy-stl\n",
            "  Downloading numpy_stl-2.17.1-py3-none-any.whl (18 kB)\n",
            "Collecting scikit-fmm\n",
            "  Downloading scikit-fmm-2022.3.26.tar.gz (432 kB)\n",
            "\u001b[K     |████████████████████████████████| 432 kB 52.6 MB/s \n",
            "\u001b[?25h  Installing build dependencies ... \u001b[?25l\u001b[?25hdone\n",
            "  Getting requirements to build wheel ... \u001b[?25l\u001b[?25hdone\n",
            "    Preparing wheel metadata ... \u001b[?25l\u001b[?25hdone\n",
            "Collecting loguru\n",
            "  Downloading loguru-0.6.0-py3-none-any.whl (58 kB)\n",
            "\u001b[K     |████████████████████████████████| 58 kB 4.9 MB/s \n",
            "\u001b[?25hRequirement already satisfied: psutil in /usr/local/lib/python3.7/dist-packages (from porespy) (5.4.8)\n",
            "Collecting pyfastnoisesimd\n",
            "  Downloading pyfastnoisesimd-0.4.2-cp37-cp37m-manylinux2010_x86_64.whl (3.5 MB)\n",
            "\u001b[K     |████████████████████████████████| 3.5 MB 43.9 MB/s \n",
            "\u001b[?25hRequirement already satisfied: pandas in /usr/local/lib/python3.7/dist-packages (from porespy) (1.3.5)\n",
            "Collecting openpnm\n",
            "  Downloading openpnm-2.8.2-py3-none-any.whl (421 kB)\n",
            "\u001b[K     |████████████████████████████████| 421 kB 44.6 MB/s \n",
            "\u001b[?25hRequirement already satisfied: edt in /usr/local/lib/python3.7/dist-packages (from porespy) (2.3.0)\n",
            "Requirement already satisfied: numpy in /usr/local/lib/python3.7/dist-packages (from porespy) (1.21.6)\n",
            "Collecting transforms3d\n",
            "  Downloading transforms3d-0.3.1.tar.gz (62 kB)\n",
            "\u001b[K     |████████████████████████████████| 62 kB 1.1 MB/s \n",
            "\u001b[?25hRequirement already satisfied: matplotlib in /usr/local/lib/python3.7/dist-packages (from porespy) (3.2.2)\n",
            "Requirement already satisfied: imageio in /usr/local/lib/python3.7/dist-packages (from porespy) (2.4.1)\n",
            "Requirement already satisfied: dask in /usr/local/lib/python3.7/dist-packages (from porespy) (2.12.0)\n",
            "Requirement already satisfied: jupyterlab-widgets in /usr/local/lib/python3.7/dist-packages (from porespy) (1.1.0)\n",
            "Requirement already satisfied: numba in /usr/local/lib/python3.7/dist-packages (from porespy) (0.51.2)\n",
            "Requirement already satisfied: tqdm in /usr/local/lib/python3.7/dist-packages (from porespy) (4.64.0)\n",
            "Requirement already satisfied: scikit-image in /usr/local/lib/python3.7/dist-packages (from porespy) (0.18.3)\n",
            "Collecting pyevtk\n",
            "  Downloading pyevtk-1.5.0-py3-none-any.whl (20 kB)\n",
            "Requirement already satisfied: scipy in /usr/local/lib/python3.7/dist-packages (from porespy) (1.4.1)\n",
            "Requirement already satisfied: pillow in /usr/local/lib/python3.7/dist-packages (from imageio->porespy) (7.1.2)\n",
            "Requirement already satisfied: kiwisolver>=1.0.1 in /usr/local/lib/python3.7/dist-packages (from matplotlib->porespy) (1.4.2)\n",
            "Requirement already satisfied: pyparsing!=2.0.4,!=2.1.2,!=2.1.6,>=2.0.1 in /usr/local/lib/python3.7/dist-packages (from matplotlib->porespy) (3.0.9)\n",
            "Requirement already satisfied: python-dateutil>=2.1 in /usr/local/lib/python3.7/dist-packages (from matplotlib->porespy) (2.8.2)\n",
            "Requirement already satisfied: cycler>=0.10 in /usr/local/lib/python3.7/dist-packages (from matplotlib->porespy) (0.11.0)\n",
            "Requirement already satisfied: typing-extensions in /usr/local/lib/python3.7/dist-packages (from kiwisolver>=1.0.1->matplotlib->porespy) (4.2.0)\n",
            "Requirement already satisfied: six>=1.5 in /usr/local/lib/python3.7/dist-packages (from python-dateutil>=2.1->matplotlib->porespy) (1.15.0)\n",
            "Requirement already satisfied: llvmlite<0.35,>=0.34.0.dev0 in /usr/local/lib/python3.7/dist-packages (from numba->porespy) (0.34.0)\n",
            "Requirement already satisfied: setuptools in /usr/local/lib/python3.7/dist-packages (from numba->porespy) (57.4.0)\n",
            "Requirement already satisfied: python-utils>=1.6.2 in /usr/local/lib/python3.7/dist-packages (from numpy-stl->porespy) (3.2.3)\n",
            "Collecting flatdict\n",
            "  Downloading flatdict-4.0.1.tar.gz (8.3 kB)\n",
            "Requirement already satisfied: h5py in /usr/local/lib/python3.7/dist-packages (from openpnm->porespy) (3.1.0)\n",
            "Collecting docrep>=0.3\n",
            "  Downloading docrep-0.3.2.tar.gz (33 kB)\n",
            "Collecting gitpython\n",
            "  Downloading GitPython-3.1.27-py3-none-any.whl (181 kB)\n",
            "\u001b[K     |████████████████████████████████| 181 kB 32.1 MB/s \n",
            "\u001b[?25hRequirement already satisfied: ipython in /usr/local/lib/python3.7/dist-packages (from openpnm->porespy) (5.5.0)\n",
            "Collecting json-tricks\n",
            "  Downloading json_tricks-3.15.5-py2.py3-none-any.whl (26 kB)\n",
            "Requirement already satisfied: sympy in /usr/local/lib/python3.7/dist-packages (from openpnm->porespy) (1.7.1)\n",
            "Requirement already satisfied: networkx in /usr/local/lib/python3.7/dist-packages (from openpnm->porespy) (2.6.3)\n",
            "Requirement already satisfied: jsonschema in /usr/local/lib/python3.7/dist-packages (from openpnm->porespy) (4.3.3)\n",
            "Collecting chemicals\n",
            "  Downloading chemicals-1.0.21.tar.gz (19.9 MB)\n",
            "\u001b[K     |████████████████████████████████| 19.9 MB 1.2 MB/s \n",
            "\u001b[?25hCollecting pypardiso\n",
            "  Downloading pypardiso-0.4.1-py3-none-any.whl (10 kB)\n",
            "Collecting terminaltables\n",
            "  Downloading terminaltables-3.1.10-py2.py3-none-any.whl (15 kB)\n",
            "Collecting fluids>=1.0.21\n",
            "  Downloading fluids-1.0.21.tar.gz (2.9 MB)\n",
            "\u001b[K     |████████████████████████████████| 2.9 MB 33.5 MB/s \n",
            "\u001b[?25hCollecting gitdb<5,>=4.0.1\n",
            "  Downloading gitdb-4.0.9-py3-none-any.whl (63 kB)\n",
            "\u001b[K     |████████████████████████████████| 63 kB 1.7 MB/s \n",
            "\u001b[?25hCollecting smmap<6,>=3.0.1\n",
            "  Downloading smmap-5.0.0-py3-none-any.whl (24 kB)\n",
            "Requirement already satisfied: cached-property in /usr/local/lib/python3.7/dist-packages (from h5py->openpnm->porespy) (1.5.2)\n",
            "Requirement already satisfied: traitlets>=4.2 in /usr/local/lib/python3.7/dist-packages (from ipython->openpnm->porespy) (5.1.1)\n",
            "Requirement already satisfied: simplegeneric>0.8 in /usr/local/lib/python3.7/dist-packages (from ipython->openpnm->porespy) (0.8.1)\n",
            "Requirement already satisfied: pexpect in /usr/local/lib/python3.7/dist-packages (from ipython->openpnm->porespy) (4.8.0)\n",
            "Requirement already satisfied: decorator in /usr/local/lib/python3.7/dist-packages (from ipython->openpnm->porespy) (4.4.2)\n",
            "Requirement already satisfied: pygments in /usr/local/lib/python3.7/dist-packages (from ipython->openpnm->porespy) (2.6.1)\n",
            "Requirement already satisfied: pickleshare in /usr/local/lib/python3.7/dist-packages (from ipython->openpnm->porespy) (0.7.5)\n",
            "Requirement already satisfied: prompt-toolkit<2.0.0,>=1.0.4 in /usr/local/lib/python3.7/dist-packages (from ipython->openpnm->porespy) (1.0.18)\n",
            "Requirement already satisfied: wcwidth in /usr/local/lib/python3.7/dist-packages (from prompt-toolkit<2.0.0,>=1.0.4->ipython->openpnm->porespy) (0.2.5)\n",
            "Requirement already satisfied: importlib-metadata in /usr/local/lib/python3.7/dist-packages (from jsonschema->openpnm->porespy) (4.11.3)\n",
            "Requirement already satisfied: pyrsistent!=0.17.0,!=0.17.1,!=0.17.2,>=0.14.0 in /usr/local/lib/python3.7/dist-packages (from jsonschema->openpnm->porespy) (0.18.1)\n",
            "Requirement already satisfied: importlib-resources>=1.4.0 in /usr/local/lib/python3.7/dist-packages (from jsonschema->openpnm->porespy) (5.7.1)\n",
            "Requirement already satisfied: attrs>=17.4.0 in /usr/local/lib/python3.7/dist-packages (from jsonschema->openpnm->porespy) (21.4.0)\n",
            "Requirement already satisfied: zipp>=3.1.0 in /usr/local/lib/python3.7/dist-packages (from importlib-resources>=1.4.0->jsonschema->openpnm->porespy) (3.8.0)\n",
            "Requirement already satisfied: pytz>=2017.3 in /usr/local/lib/python3.7/dist-packages (from pandas->porespy) (2022.1)\n",
            "Requirement already satisfied: ptyprocess>=0.5 in /usr/local/lib/python3.7/dist-packages (from pexpect->ipython->openpnm->porespy) (0.7.0)\n",
            "Requirement already satisfied: mkl in /usr/local/lib/python3.7/dist-packages (from pypardiso->openpnm->porespy) (2019.0)\n",
            "Requirement already satisfied: intel-openmp in /usr/local/lib/python3.7/dist-packages (from mkl->pypardiso->openpnm->porespy) (2022.1.0)\n",
            "Requirement already satisfied: tifffile>=2019.7.26 in /usr/local/lib/python3.7/dist-packages (from scikit-image->porespy) (2021.11.2)\n",
            "Requirement already satisfied: PyWavelets>=1.1.1 in /usr/local/lib/python3.7/dist-packages (from scikit-image->porespy) (1.3.0)\n",
            "Requirement already satisfied: mpmath>=0.19 in /usr/local/lib/python3.7/dist-packages (from sympy->openpnm->porespy) (1.2.1)\n",
            "Building wheels for collected packages: docrep, chemicals, fluids, flatdict, scikit-fmm, transforms3d\n",
            "  Building wheel for docrep (setup.py) ... \u001b[?25l\u001b[?25hdone\n",
            "  Created wheel for docrep: filename=docrep-0.3.2-py3-none-any.whl size=19896 sha256=380a8de7756584452b0311eb7b0cf0b7fb857e761b61f0a6f5f2614c91a49995\n",
            "  Stored in directory: /root/.cache/pip/wheels/4b/a1/89/8c863c13903012831ee9e6f0544375e06de9c461659e968c40\n",
            "  Building wheel for chemicals (setup.py) ... \u001b[?25l\u001b[?25hdone\n",
            "  Created wheel for chemicals: filename=chemicals-1.0.21-py3-none-any.whl size=19842362 sha256=6ecb274416e3a32c355bf600f82cd21dfefdb836c28085883faa1562390294f8\n",
            "  Stored in directory: /root/.cache/pip/wheels/b2/db/0a/6ec9ccc4adc8b61b0809b3bc535557e909a6d45704902387a9\n",
            "  Building wheel for fluids (setup.py) ... \u001b[?25l\u001b[?25hdone\n",
            "  Created wheel for fluids: filename=fluids-1.0.21-py3-none-any.whl size=1494325 sha256=98d93f6f4b92b8ced683073acc7a90cc00ba4a9968c11d9a05533ae5d23ed12f\n",
            "  Stored in directory: /root/.cache/pip/wheels/89/2f/e5/34528be8474b90b1d077256662d81d930b0888c183467ed002\n",
            "  Building wheel for flatdict (setup.py) ... \u001b[?25l\u001b[?25hdone\n",
            "  Created wheel for flatdict: filename=flatdict-4.0.1-py3-none-any.whl size=6946 sha256=2dab1b584587f3e1e2a4a22b4060db2116d7c7391b1e38ee84593e8c488f8dfd\n",
            "  Stored in directory: /root/.cache/pip/wheels/45/8e/ad/5b3f88ff913fa6563c5eb2c84cc0cd78ca223548ff913ca822\n",
            "  Building wheel for scikit-fmm (PEP 517) ... \u001b[?25l\u001b[?25hdone\n",
            "  Created wheel for scikit-fmm: filename=scikit_fmm-2022.3.26-cp37-cp37m-linux_x86_64.whl size=221490 sha256=d6514f7d8a7eb702a1279f3fb32dd53aac5c761b8b8addcc101c50679d13728f\n",
            "  Stored in directory: /root/.cache/pip/wheels/38/3f/06/ea7ad6a1acf5d919871252b111f6dd2b709b76b6a8e941dff3\n",
            "  Building wheel for transforms3d (setup.py) ... \u001b[?25l\u001b[?25hdone\n",
            "  Created wheel for transforms3d: filename=transforms3d-0.3.1-py3-none-any.whl size=59373 sha256=7044dfd029314bccb3faa872e793a9f4f98c2a4b031174f70e14579c409a7c66\n",
            "  Stored in directory: /root/.cache/pip/wheels/b5/b7/93/8985551f83720ce37548a5b543c75380bb707955a9c2c5d28c\n",
            "Successfully built docrep chemicals fluids flatdict scikit-fmm transforms3d\n",
            "Installing collected packages: smmap, gitdb, fluids, transforms3d, terminaltables, pypardiso, json-tricks, gitpython, flatdict, docrep, chemicals, trimesh, scikit-fmm, pyfastnoisesimd, pyevtk, openpnm, numpy-stl, loguru, porespy\n",
            "Successfully installed chemicals-1.0.21 docrep-0.3.2 flatdict-4.0.1 fluids-1.0.21 gitdb-4.0.9 gitpython-3.1.27 json-tricks-3.15.5 loguru-0.6.0 numpy-stl-2.17.1 openpnm-2.8.2 porespy-2.0.2 pyevtk-1.5.0 pyfastnoisesimd-0.4.2 pypardiso-0.4.1 scikit-fmm-2022.3.26 smmap-5.0.0 terminaltables-3.1.10 transforms3d-0.3.1 trimesh-3.12.3\n"
          ]
        }
      ]
    },
    {
      "cell_type": "code",
      "execution_count": 2,
      "metadata": {
        "id": "Zk-Q2RXxJC42"
      },
      "outputs": [],
      "source": [
        "%load_ext autoreload\n",
        "%autoreload 2\n",
        "import gdown\n",
        "from torch.utils.data import Dataset, DataLoader\n",
        "from torchvision.transforms import ToTensor\n",
        "import os\n",
        "from PIL import Image\n",
        "import numpy as np\n",
        "import torch\n",
        "import torch.nn as nn\n",
        "import matplotlib.pyplot as plt\n",
        "import torch.nn.functional as F\n",
        "import torchvision\n",
        "import seaborn as sns\n",
        "import config\n",
        "import torchvision.transforms\n",
        "from mpl_toolkits.mplot3d import Axes3D\n",
        "\n",
        "from quantimpy import minkowski\n",
        "from skimage.segmentation import random_walker\n",
        "from tqdm import tqdm\n",
        "from scipy import stats\n",
        "import trackpy as tp\n",
        "import cv2"
      ]
    },
    {
      "cell_type": "code",
      "source": [
        "from google.colab import drive\n",
        "drive.mount('/content/drive')"
      ],
      "metadata": {
        "colab": {
          "base_uri": "https://localhost:8080/"
        },
        "id": "HD_6Z0-4Jeae",
        "outputId": "aa5799c6-13bb-4d60-f37e-091347f5e900"
      },
      "execution_count": 3,
      "outputs": [
        {
          "output_type": "stream",
          "name": "stdout",
          "text": [
            "Mounted at /content/drive\n"
          ]
        }
      ]
    },
    {
      "cell_type": "code",
      "source": [
        "import sys\n",
        "sys.path.insert(0,'/content/drive/MyDrive/Final_project/code')\n",
        "sys.path.insert(0,'/content/drive/MyDrive/Final_project/data')"
      ],
      "metadata": {
        "id": "oSd6_CiSJgud"
      },
      "execution_count": 4,
      "outputs": []
    },
    {
      "cell_type": "code",
      "source": [
        "from train import GAN\n",
        "from utils import GanDataset"
      ],
      "metadata": {
        "id": "VYg4U2t6PYrT"
      },
      "execution_count": 5,
      "outputs": []
    },
    {
      "cell_type": "code",
      "source": [
        "!gdown --folder https://drive.google.com/drive/folders/15Vsq9xh0VNwDjhFqhG0SW0t2aGjhcdU7"
      ],
      "metadata": {
        "id": "aBqNqNnhKP9_"
      },
      "execution_count": null,
      "outputs": []
    },
    {
      "cell_type": "code",
      "source": [
        "#checkpoint_file = '/content/drive/MyDrive/Final_project/data/standard_loss_zone_0_1_3_5_additional_training.ckpt'\n",
        "checkpoint_file = '/content/drive/MyDrive/Final_project/data/standard_loss_zone_0_1_3_5_mse_from_beggining_effnetb3_encoder_add_add_training.ckpt'"
      ],
      "metadata": {
        "id": "FJy8WowDNOC4"
      },
      "execution_count": 7,
      "outputs": []
    },
    {
      "cell_type": "code",
      "source": [
        "dataset_test = np.load('/content/DL_project_dataset/dataset_test.npy')"
      ],
      "metadata": {
        "id": "4PYAM67XPvF4"
      },
      "execution_count": 9,
      "outputs": []
    },
    {
      "cell_type": "code",
      "source": [
        "dataset_train = np.load('/content/DL_project_dataset/dataset_train.npy')"
      ],
      "metadata": {
        "id": "ldW3585VR-pM"
      },
      "execution_count": 10,
      "outputs": []
    },
    {
      "cell_type": "code",
      "source": [
        "model = GAN( train_data_path= '/content/DL_project_dataset/dataset_test.npy',\n",
        "            valid_data_path = '/content/DL_project_dataset/dataset_train.npy',\n",
        "            gan_type = 'dcgan',\n",
        "            loss_type = 'standard')"
      ],
      "metadata": {
        "colab": {
          "base_uri": "https://localhost:8080/"
        },
        "id": "vOzyNjgeNggU",
        "outputId": "a55c3b47-5eae-401b-a45e-6dc855ed52dc"
      },
      "execution_count": 11,
      "outputs": [
        {
          "output_type": "stream",
          "name": "stderr",
          "text": [
            "Downloading: \"https://github.com/rwightman/pytorch-image-models/releases/download/v0.1-weights/efficientnet_b3_ra2-cf984f9c.pth\" to /root/.cache/torch/hub/checkpoints/efficientnet_b3_ra2-cf984f9c.pth\n"
          ]
        }
      ]
    },
    {
      "cell_type": "code",
      "source": [
        "checkpoint = torch.load(checkpoint_file)"
      ],
      "metadata": {
        "id": "aquq-rTbUem0"
      },
      "execution_count": 12,
      "outputs": []
    },
    {
      "cell_type": "code",
      "source": [
        "checkpoint['state_dict'].keys()"
      ],
      "metadata": {
        "colab": {
          "base_uri": "https://localhost:8080/"
        },
        "id": "_eBckahsbw3b",
        "outputId": "5c0ee96b-864b-4182-b113-4b6e6ca3042e"
      },
      "execution_count": 13,
      "outputs": [
        {
          "output_type": "execute_result",
          "data": {
            "text/plain": [
              "odict_keys(['encoder.conv_stem.weight', 'encoder.bn1.weight', 'encoder.bn1.bias', 'encoder.bn1.running_mean', 'encoder.bn1.running_var', 'encoder.bn1.num_batches_tracked', 'encoder.blocks.0.0.conv_dw.weight', 'encoder.blocks.0.0.bn1.weight', 'encoder.blocks.0.0.bn1.bias', 'encoder.blocks.0.0.bn1.running_mean', 'encoder.blocks.0.0.bn1.running_var', 'encoder.blocks.0.0.bn1.num_batches_tracked', 'encoder.blocks.0.0.se.conv_reduce.weight', 'encoder.blocks.0.0.se.conv_reduce.bias', 'encoder.blocks.0.0.se.conv_expand.weight', 'encoder.blocks.0.0.se.conv_expand.bias', 'encoder.blocks.0.0.conv_pw.weight', 'encoder.blocks.0.0.bn2.weight', 'encoder.blocks.0.0.bn2.bias', 'encoder.blocks.0.0.bn2.running_mean', 'encoder.blocks.0.0.bn2.running_var', 'encoder.blocks.0.0.bn2.num_batches_tracked', 'encoder.blocks.0.1.conv_dw.weight', 'encoder.blocks.0.1.bn1.weight', 'encoder.blocks.0.1.bn1.bias', 'encoder.blocks.0.1.bn1.running_mean', 'encoder.blocks.0.1.bn1.running_var', 'encoder.blocks.0.1.bn1.num_batches_tracked', 'encoder.blocks.0.1.se.conv_reduce.weight', 'encoder.blocks.0.1.se.conv_reduce.bias', 'encoder.blocks.0.1.se.conv_expand.weight', 'encoder.blocks.0.1.se.conv_expand.bias', 'encoder.blocks.0.1.conv_pw.weight', 'encoder.blocks.0.1.bn2.weight', 'encoder.blocks.0.1.bn2.bias', 'encoder.blocks.0.1.bn2.running_mean', 'encoder.blocks.0.1.bn2.running_var', 'encoder.blocks.0.1.bn2.num_batches_tracked', 'encoder.blocks.1.0.conv_pw.weight', 'encoder.blocks.1.0.bn1.weight', 'encoder.blocks.1.0.bn1.bias', 'encoder.blocks.1.0.bn1.running_mean', 'encoder.blocks.1.0.bn1.running_var', 'encoder.blocks.1.0.bn1.num_batches_tracked', 'encoder.blocks.1.0.conv_dw.weight', 'encoder.blocks.1.0.bn2.weight', 'encoder.blocks.1.0.bn2.bias', 'encoder.blocks.1.0.bn2.running_mean', 'encoder.blocks.1.0.bn2.running_var', 'encoder.blocks.1.0.bn2.num_batches_tracked', 'encoder.blocks.1.0.se.conv_reduce.weight', 'encoder.blocks.1.0.se.conv_reduce.bias', 'encoder.blocks.1.0.se.conv_expand.weight', 'encoder.blocks.1.0.se.conv_expand.bias', 'encoder.blocks.1.0.conv_pwl.weight', 'encoder.blocks.1.0.bn3.weight', 'encoder.blocks.1.0.bn3.bias', 'encoder.blocks.1.0.bn3.running_mean', 'encoder.blocks.1.0.bn3.running_var', 'encoder.blocks.1.0.bn3.num_batches_tracked', 'encoder.blocks.1.1.conv_pw.weight', 'encoder.blocks.1.1.bn1.weight', 'encoder.blocks.1.1.bn1.bias', 'encoder.blocks.1.1.bn1.running_mean', 'encoder.blocks.1.1.bn1.running_var', 'encoder.blocks.1.1.bn1.num_batches_tracked', 'encoder.blocks.1.1.conv_dw.weight', 'encoder.blocks.1.1.bn2.weight', 'encoder.blocks.1.1.bn2.bias', 'encoder.blocks.1.1.bn2.running_mean', 'encoder.blocks.1.1.bn2.running_var', 'encoder.blocks.1.1.bn2.num_batches_tracked', 'encoder.blocks.1.1.se.conv_reduce.weight', 'encoder.blocks.1.1.se.conv_reduce.bias', 'encoder.blocks.1.1.se.conv_expand.weight', 'encoder.blocks.1.1.se.conv_expand.bias', 'encoder.blocks.1.1.conv_pwl.weight', 'encoder.blocks.1.1.bn3.weight', 'encoder.blocks.1.1.bn3.bias', 'encoder.blocks.1.1.bn3.running_mean', 'encoder.blocks.1.1.bn3.running_var', 'encoder.blocks.1.1.bn3.num_batches_tracked', 'encoder.blocks.1.2.conv_pw.weight', 'encoder.blocks.1.2.bn1.weight', 'encoder.blocks.1.2.bn1.bias', 'encoder.blocks.1.2.bn1.running_mean', 'encoder.blocks.1.2.bn1.running_var', 'encoder.blocks.1.2.bn1.num_batches_tracked', 'encoder.blocks.1.2.conv_dw.weight', 'encoder.blocks.1.2.bn2.weight', 'encoder.blocks.1.2.bn2.bias', 'encoder.blocks.1.2.bn2.running_mean', 'encoder.blocks.1.2.bn2.running_var', 'encoder.blocks.1.2.bn2.num_batches_tracked', 'encoder.blocks.1.2.se.conv_reduce.weight', 'encoder.blocks.1.2.se.conv_reduce.bias', 'encoder.blocks.1.2.se.conv_expand.weight', 'encoder.blocks.1.2.se.conv_expand.bias', 'encoder.blocks.1.2.conv_pwl.weight', 'encoder.blocks.1.2.bn3.weight', 'encoder.blocks.1.2.bn3.bias', 'encoder.blocks.1.2.bn3.running_mean', 'encoder.blocks.1.2.bn3.running_var', 'encoder.blocks.1.2.bn3.num_batches_tracked', 'encoder.blocks.2.0.conv_pw.weight', 'encoder.blocks.2.0.bn1.weight', 'encoder.blocks.2.0.bn1.bias', 'encoder.blocks.2.0.bn1.running_mean', 'encoder.blocks.2.0.bn1.running_var', 'encoder.blocks.2.0.bn1.num_batches_tracked', 'encoder.blocks.2.0.conv_dw.weight', 'encoder.blocks.2.0.bn2.weight', 'encoder.blocks.2.0.bn2.bias', 'encoder.blocks.2.0.bn2.running_mean', 'encoder.blocks.2.0.bn2.running_var', 'encoder.blocks.2.0.bn2.num_batches_tracked', 'encoder.blocks.2.0.se.conv_reduce.weight', 'encoder.blocks.2.0.se.conv_reduce.bias', 'encoder.blocks.2.0.se.conv_expand.weight', 'encoder.blocks.2.0.se.conv_expand.bias', 'encoder.blocks.2.0.conv_pwl.weight', 'encoder.blocks.2.0.bn3.weight', 'encoder.blocks.2.0.bn3.bias', 'encoder.blocks.2.0.bn3.running_mean', 'encoder.blocks.2.0.bn3.running_var', 'encoder.blocks.2.0.bn3.num_batches_tracked', 'encoder.blocks.2.1.conv_pw.weight', 'encoder.blocks.2.1.bn1.weight', 'encoder.blocks.2.1.bn1.bias', 'encoder.blocks.2.1.bn1.running_mean', 'encoder.blocks.2.1.bn1.running_var', 'encoder.blocks.2.1.bn1.num_batches_tracked', 'encoder.blocks.2.1.conv_dw.weight', 'encoder.blocks.2.1.bn2.weight', 'encoder.blocks.2.1.bn2.bias', 'encoder.blocks.2.1.bn2.running_mean', 'encoder.blocks.2.1.bn2.running_var', 'encoder.blocks.2.1.bn2.num_batches_tracked', 'encoder.blocks.2.1.se.conv_reduce.weight', 'encoder.blocks.2.1.se.conv_reduce.bias', 'encoder.blocks.2.1.se.conv_expand.weight', 'encoder.blocks.2.1.se.conv_expand.bias', 'encoder.blocks.2.1.conv_pwl.weight', 'encoder.blocks.2.1.bn3.weight', 'encoder.blocks.2.1.bn3.bias', 'encoder.blocks.2.1.bn3.running_mean', 'encoder.blocks.2.1.bn3.running_var', 'encoder.blocks.2.1.bn3.num_batches_tracked', 'encoder.blocks.2.2.conv_pw.weight', 'encoder.blocks.2.2.bn1.weight', 'encoder.blocks.2.2.bn1.bias', 'encoder.blocks.2.2.bn1.running_mean', 'encoder.blocks.2.2.bn1.running_var', 'encoder.blocks.2.2.bn1.num_batches_tracked', 'encoder.blocks.2.2.conv_dw.weight', 'encoder.blocks.2.2.bn2.weight', 'encoder.blocks.2.2.bn2.bias', 'encoder.blocks.2.2.bn2.running_mean', 'encoder.blocks.2.2.bn2.running_var', 'encoder.blocks.2.2.bn2.num_batches_tracked', 'encoder.blocks.2.2.se.conv_reduce.weight', 'encoder.blocks.2.2.se.conv_reduce.bias', 'encoder.blocks.2.2.se.conv_expand.weight', 'encoder.blocks.2.2.se.conv_expand.bias', 'encoder.blocks.2.2.conv_pwl.weight', 'encoder.blocks.2.2.bn3.weight', 'encoder.blocks.2.2.bn3.bias', 'encoder.blocks.2.2.bn3.running_mean', 'encoder.blocks.2.2.bn3.running_var', 'encoder.blocks.2.2.bn3.num_batches_tracked', 'encoder.blocks.3.0.conv_pw.weight', 'encoder.blocks.3.0.bn1.weight', 'encoder.blocks.3.0.bn1.bias', 'encoder.blocks.3.0.bn1.running_mean', 'encoder.blocks.3.0.bn1.running_var', 'encoder.blocks.3.0.bn1.num_batches_tracked', 'encoder.blocks.3.0.conv_dw.weight', 'encoder.blocks.3.0.bn2.weight', 'encoder.blocks.3.0.bn2.bias', 'encoder.blocks.3.0.bn2.running_mean', 'encoder.blocks.3.0.bn2.running_var', 'encoder.blocks.3.0.bn2.num_batches_tracked', 'encoder.blocks.3.0.se.conv_reduce.weight', 'encoder.blocks.3.0.se.conv_reduce.bias', 'encoder.blocks.3.0.se.conv_expand.weight', 'encoder.blocks.3.0.se.conv_expand.bias', 'encoder.blocks.3.0.conv_pwl.weight', 'encoder.blocks.3.0.bn3.weight', 'encoder.blocks.3.0.bn3.bias', 'encoder.blocks.3.0.bn3.running_mean', 'encoder.blocks.3.0.bn3.running_var', 'encoder.blocks.3.0.bn3.num_batches_tracked', 'encoder.blocks.3.1.conv_pw.weight', 'encoder.blocks.3.1.bn1.weight', 'encoder.blocks.3.1.bn1.bias', 'encoder.blocks.3.1.bn1.running_mean', 'encoder.blocks.3.1.bn1.running_var', 'encoder.blocks.3.1.bn1.num_batches_tracked', 'encoder.blocks.3.1.conv_dw.weight', 'encoder.blocks.3.1.bn2.weight', 'encoder.blocks.3.1.bn2.bias', 'encoder.blocks.3.1.bn2.running_mean', 'encoder.blocks.3.1.bn2.running_var', 'encoder.blocks.3.1.bn2.num_batches_tracked', 'encoder.blocks.3.1.se.conv_reduce.weight', 'encoder.blocks.3.1.se.conv_reduce.bias', 'encoder.blocks.3.1.se.conv_expand.weight', 'encoder.blocks.3.1.se.conv_expand.bias', 'encoder.blocks.3.1.conv_pwl.weight', 'encoder.blocks.3.1.bn3.weight', 'encoder.blocks.3.1.bn3.bias', 'encoder.blocks.3.1.bn3.running_mean', 'encoder.blocks.3.1.bn3.running_var', 'encoder.blocks.3.1.bn3.num_batches_tracked', 'encoder.blocks.3.2.conv_pw.weight', 'encoder.blocks.3.2.bn1.weight', 'encoder.blocks.3.2.bn1.bias', 'encoder.blocks.3.2.bn1.running_mean', 'encoder.blocks.3.2.bn1.running_var', 'encoder.blocks.3.2.bn1.num_batches_tracked', 'encoder.blocks.3.2.conv_dw.weight', 'encoder.blocks.3.2.bn2.weight', 'encoder.blocks.3.2.bn2.bias', 'encoder.blocks.3.2.bn2.running_mean', 'encoder.blocks.3.2.bn2.running_var', 'encoder.blocks.3.2.bn2.num_batches_tracked', 'encoder.blocks.3.2.se.conv_reduce.weight', 'encoder.blocks.3.2.se.conv_reduce.bias', 'encoder.blocks.3.2.se.conv_expand.weight', 'encoder.blocks.3.2.se.conv_expand.bias', 'encoder.blocks.3.2.conv_pwl.weight', 'encoder.blocks.3.2.bn3.weight', 'encoder.blocks.3.2.bn3.bias', 'encoder.blocks.3.2.bn3.running_mean', 'encoder.blocks.3.2.bn3.running_var', 'encoder.blocks.3.2.bn3.num_batches_tracked', 'encoder.blocks.3.3.conv_pw.weight', 'encoder.blocks.3.3.bn1.weight', 'encoder.blocks.3.3.bn1.bias', 'encoder.blocks.3.3.bn1.running_mean', 'encoder.blocks.3.3.bn1.running_var', 'encoder.blocks.3.3.bn1.num_batches_tracked', 'encoder.blocks.3.3.conv_dw.weight', 'encoder.blocks.3.3.bn2.weight', 'encoder.blocks.3.3.bn2.bias', 'encoder.blocks.3.3.bn2.running_mean', 'encoder.blocks.3.3.bn2.running_var', 'encoder.blocks.3.3.bn2.num_batches_tracked', 'encoder.blocks.3.3.se.conv_reduce.weight', 'encoder.blocks.3.3.se.conv_reduce.bias', 'encoder.blocks.3.3.se.conv_expand.weight', 'encoder.blocks.3.3.se.conv_expand.bias', 'encoder.blocks.3.3.conv_pwl.weight', 'encoder.blocks.3.3.bn3.weight', 'encoder.blocks.3.3.bn3.bias', 'encoder.blocks.3.3.bn3.running_mean', 'encoder.blocks.3.3.bn3.running_var', 'encoder.blocks.3.3.bn3.num_batches_tracked', 'encoder.blocks.3.4.conv_pw.weight', 'encoder.blocks.3.4.bn1.weight', 'encoder.blocks.3.4.bn1.bias', 'encoder.blocks.3.4.bn1.running_mean', 'encoder.blocks.3.4.bn1.running_var', 'encoder.blocks.3.4.bn1.num_batches_tracked', 'encoder.blocks.3.4.conv_dw.weight', 'encoder.blocks.3.4.bn2.weight', 'encoder.blocks.3.4.bn2.bias', 'encoder.blocks.3.4.bn2.running_mean', 'encoder.blocks.3.4.bn2.running_var', 'encoder.blocks.3.4.bn2.num_batches_tracked', 'encoder.blocks.3.4.se.conv_reduce.weight', 'encoder.blocks.3.4.se.conv_reduce.bias', 'encoder.blocks.3.4.se.conv_expand.weight', 'encoder.blocks.3.4.se.conv_expand.bias', 'encoder.blocks.3.4.conv_pwl.weight', 'encoder.blocks.3.4.bn3.weight', 'encoder.blocks.3.4.bn3.bias', 'encoder.blocks.3.4.bn3.running_mean', 'encoder.blocks.3.4.bn3.running_var', 'encoder.blocks.3.4.bn3.num_batches_tracked', 'encoder.blocks.4.0.conv_pw.weight', 'encoder.blocks.4.0.bn1.weight', 'encoder.blocks.4.0.bn1.bias', 'encoder.blocks.4.0.bn1.running_mean', 'encoder.blocks.4.0.bn1.running_var', 'encoder.blocks.4.0.bn1.num_batches_tracked', 'encoder.blocks.4.0.conv_dw.weight', 'encoder.blocks.4.0.bn2.weight', 'encoder.blocks.4.0.bn2.bias', 'encoder.blocks.4.0.bn2.running_mean', 'encoder.blocks.4.0.bn2.running_var', 'encoder.blocks.4.0.bn2.num_batches_tracked', 'encoder.blocks.4.0.se.conv_reduce.weight', 'encoder.blocks.4.0.se.conv_reduce.bias', 'encoder.blocks.4.0.se.conv_expand.weight', 'encoder.blocks.4.0.se.conv_expand.bias', 'encoder.blocks.4.0.conv_pwl.weight', 'encoder.blocks.4.0.bn3.weight', 'encoder.blocks.4.0.bn3.bias', 'encoder.blocks.4.0.bn3.running_mean', 'encoder.blocks.4.0.bn3.running_var', 'encoder.blocks.4.0.bn3.num_batches_tracked', 'encoder.blocks.4.1.conv_pw.weight', 'encoder.blocks.4.1.bn1.weight', 'encoder.blocks.4.1.bn1.bias', 'encoder.blocks.4.1.bn1.running_mean', 'encoder.blocks.4.1.bn1.running_var', 'encoder.blocks.4.1.bn1.num_batches_tracked', 'encoder.blocks.4.1.conv_dw.weight', 'encoder.blocks.4.1.bn2.weight', 'encoder.blocks.4.1.bn2.bias', 'encoder.blocks.4.1.bn2.running_mean', 'encoder.blocks.4.1.bn2.running_var', 'encoder.blocks.4.1.bn2.num_batches_tracked', 'encoder.blocks.4.1.se.conv_reduce.weight', 'encoder.blocks.4.1.se.conv_reduce.bias', 'encoder.blocks.4.1.se.conv_expand.weight', 'encoder.blocks.4.1.se.conv_expand.bias', 'encoder.blocks.4.1.conv_pwl.weight', 'encoder.blocks.4.1.bn3.weight', 'encoder.blocks.4.1.bn3.bias', 'encoder.blocks.4.1.bn3.running_mean', 'encoder.blocks.4.1.bn3.running_var', 'encoder.blocks.4.1.bn3.num_batches_tracked', 'encoder.blocks.4.2.conv_pw.weight', 'encoder.blocks.4.2.bn1.weight', 'encoder.blocks.4.2.bn1.bias', 'encoder.blocks.4.2.bn1.running_mean', 'encoder.blocks.4.2.bn1.running_var', 'encoder.blocks.4.2.bn1.num_batches_tracked', 'encoder.blocks.4.2.conv_dw.weight', 'encoder.blocks.4.2.bn2.weight', 'encoder.blocks.4.2.bn2.bias', 'encoder.blocks.4.2.bn2.running_mean', 'encoder.blocks.4.2.bn2.running_var', 'encoder.blocks.4.2.bn2.num_batches_tracked', 'encoder.blocks.4.2.se.conv_reduce.weight', 'encoder.blocks.4.2.se.conv_reduce.bias', 'encoder.blocks.4.2.se.conv_expand.weight', 'encoder.blocks.4.2.se.conv_expand.bias', 'encoder.blocks.4.2.conv_pwl.weight', 'encoder.blocks.4.2.bn3.weight', 'encoder.blocks.4.2.bn3.bias', 'encoder.blocks.4.2.bn3.running_mean', 'encoder.blocks.4.2.bn3.running_var', 'encoder.blocks.4.2.bn3.num_batches_tracked', 'encoder.blocks.4.3.conv_pw.weight', 'encoder.blocks.4.3.bn1.weight', 'encoder.blocks.4.3.bn1.bias', 'encoder.blocks.4.3.bn1.running_mean', 'encoder.blocks.4.3.bn1.running_var', 'encoder.blocks.4.3.bn1.num_batches_tracked', 'encoder.blocks.4.3.conv_dw.weight', 'encoder.blocks.4.3.bn2.weight', 'encoder.blocks.4.3.bn2.bias', 'encoder.blocks.4.3.bn2.running_mean', 'encoder.blocks.4.3.bn2.running_var', 'encoder.blocks.4.3.bn2.num_batches_tracked', 'encoder.blocks.4.3.se.conv_reduce.weight', 'encoder.blocks.4.3.se.conv_reduce.bias', 'encoder.blocks.4.3.se.conv_expand.weight', 'encoder.blocks.4.3.se.conv_expand.bias', 'encoder.blocks.4.3.conv_pwl.weight', 'encoder.blocks.4.3.bn3.weight', 'encoder.blocks.4.3.bn3.bias', 'encoder.blocks.4.3.bn3.running_mean', 'encoder.blocks.4.3.bn3.running_var', 'encoder.blocks.4.3.bn3.num_batches_tracked', 'encoder.blocks.4.4.conv_pw.weight', 'encoder.blocks.4.4.bn1.weight', 'encoder.blocks.4.4.bn1.bias', 'encoder.blocks.4.4.bn1.running_mean', 'encoder.blocks.4.4.bn1.running_var', 'encoder.blocks.4.4.bn1.num_batches_tracked', 'encoder.blocks.4.4.conv_dw.weight', 'encoder.blocks.4.4.bn2.weight', 'encoder.blocks.4.4.bn2.bias', 'encoder.blocks.4.4.bn2.running_mean', 'encoder.blocks.4.4.bn2.running_var', 'encoder.blocks.4.4.bn2.num_batches_tracked', 'encoder.blocks.4.4.se.conv_reduce.weight', 'encoder.blocks.4.4.se.conv_reduce.bias', 'encoder.blocks.4.4.se.conv_expand.weight', 'encoder.blocks.4.4.se.conv_expand.bias', 'encoder.blocks.4.4.conv_pwl.weight', 'encoder.blocks.4.4.bn3.weight', 'encoder.blocks.4.4.bn3.bias', 'encoder.blocks.4.4.bn3.running_mean', 'encoder.blocks.4.4.bn3.running_var', 'encoder.blocks.4.4.bn3.num_batches_tracked', 'encoder.blocks.5.0.conv_pw.weight', 'encoder.blocks.5.0.bn1.weight', 'encoder.blocks.5.0.bn1.bias', 'encoder.blocks.5.0.bn1.running_mean', 'encoder.blocks.5.0.bn1.running_var', 'encoder.blocks.5.0.bn1.num_batches_tracked', 'encoder.blocks.5.0.conv_dw.weight', 'encoder.blocks.5.0.bn2.weight', 'encoder.blocks.5.0.bn2.bias', 'encoder.blocks.5.0.bn2.running_mean', 'encoder.blocks.5.0.bn2.running_var', 'encoder.blocks.5.0.bn2.num_batches_tracked', 'encoder.blocks.5.0.se.conv_reduce.weight', 'encoder.blocks.5.0.se.conv_reduce.bias', 'encoder.blocks.5.0.se.conv_expand.weight', 'encoder.blocks.5.0.se.conv_expand.bias', 'encoder.blocks.5.0.conv_pwl.weight', 'encoder.blocks.5.0.bn3.weight', 'encoder.blocks.5.0.bn3.bias', 'encoder.blocks.5.0.bn3.running_mean', 'encoder.blocks.5.0.bn3.running_var', 'encoder.blocks.5.0.bn3.num_batches_tracked', 'encoder.blocks.5.1.conv_pw.weight', 'encoder.blocks.5.1.bn1.weight', 'encoder.blocks.5.1.bn1.bias', 'encoder.blocks.5.1.bn1.running_mean', 'encoder.blocks.5.1.bn1.running_var', 'encoder.blocks.5.1.bn1.num_batches_tracked', 'encoder.blocks.5.1.conv_dw.weight', 'encoder.blocks.5.1.bn2.weight', 'encoder.blocks.5.1.bn2.bias', 'encoder.blocks.5.1.bn2.running_mean', 'encoder.blocks.5.1.bn2.running_var', 'encoder.blocks.5.1.bn2.num_batches_tracked', 'encoder.blocks.5.1.se.conv_reduce.weight', 'encoder.blocks.5.1.se.conv_reduce.bias', 'encoder.blocks.5.1.se.conv_expand.weight', 'encoder.blocks.5.1.se.conv_expand.bias', 'encoder.blocks.5.1.conv_pwl.weight', 'encoder.blocks.5.1.bn3.weight', 'encoder.blocks.5.1.bn3.bias', 'encoder.blocks.5.1.bn3.running_mean', 'encoder.blocks.5.1.bn3.running_var', 'encoder.blocks.5.1.bn3.num_batches_tracked', 'encoder.blocks.5.2.conv_pw.weight', 'encoder.blocks.5.2.bn1.weight', 'encoder.blocks.5.2.bn1.bias', 'encoder.blocks.5.2.bn1.running_mean', 'encoder.blocks.5.2.bn1.running_var', 'encoder.blocks.5.2.bn1.num_batches_tracked', 'encoder.blocks.5.2.conv_dw.weight', 'encoder.blocks.5.2.bn2.weight', 'encoder.blocks.5.2.bn2.bias', 'encoder.blocks.5.2.bn2.running_mean', 'encoder.blocks.5.2.bn2.running_var', 'encoder.blocks.5.2.bn2.num_batches_tracked', 'encoder.blocks.5.2.se.conv_reduce.weight', 'encoder.blocks.5.2.se.conv_reduce.bias', 'encoder.blocks.5.2.se.conv_expand.weight', 'encoder.blocks.5.2.se.conv_expand.bias', 'encoder.blocks.5.2.conv_pwl.weight', 'encoder.blocks.5.2.bn3.weight', 'encoder.blocks.5.2.bn3.bias', 'encoder.blocks.5.2.bn3.running_mean', 'encoder.blocks.5.2.bn3.running_var', 'encoder.blocks.5.2.bn3.num_batches_tracked', 'encoder.blocks.5.3.conv_pw.weight', 'encoder.blocks.5.3.bn1.weight', 'encoder.blocks.5.3.bn1.bias', 'encoder.blocks.5.3.bn1.running_mean', 'encoder.blocks.5.3.bn1.running_var', 'encoder.blocks.5.3.bn1.num_batches_tracked', 'encoder.blocks.5.3.conv_dw.weight', 'encoder.blocks.5.3.bn2.weight', 'encoder.blocks.5.3.bn2.bias', 'encoder.blocks.5.3.bn2.running_mean', 'encoder.blocks.5.3.bn2.running_var', 'encoder.blocks.5.3.bn2.num_batches_tracked', 'encoder.blocks.5.3.se.conv_reduce.weight', 'encoder.blocks.5.3.se.conv_reduce.bias', 'encoder.blocks.5.3.se.conv_expand.weight', 'encoder.blocks.5.3.se.conv_expand.bias', 'encoder.blocks.5.3.conv_pwl.weight', 'encoder.blocks.5.3.bn3.weight', 'encoder.blocks.5.3.bn3.bias', 'encoder.blocks.5.3.bn3.running_mean', 'encoder.blocks.5.3.bn3.running_var', 'encoder.blocks.5.3.bn3.num_batches_tracked', 'encoder.blocks.5.4.conv_pw.weight', 'encoder.blocks.5.4.bn1.weight', 'encoder.blocks.5.4.bn1.bias', 'encoder.blocks.5.4.bn1.running_mean', 'encoder.blocks.5.4.bn1.running_var', 'encoder.blocks.5.4.bn1.num_batches_tracked', 'encoder.blocks.5.4.conv_dw.weight', 'encoder.blocks.5.4.bn2.weight', 'encoder.blocks.5.4.bn2.bias', 'encoder.blocks.5.4.bn2.running_mean', 'encoder.blocks.5.4.bn2.running_var', 'encoder.blocks.5.4.bn2.num_batches_tracked', 'encoder.blocks.5.4.se.conv_reduce.weight', 'encoder.blocks.5.4.se.conv_reduce.bias', 'encoder.blocks.5.4.se.conv_expand.weight', 'encoder.blocks.5.4.se.conv_expand.bias', 'encoder.blocks.5.4.conv_pwl.weight', 'encoder.blocks.5.4.bn3.weight', 'encoder.blocks.5.4.bn3.bias', 'encoder.blocks.5.4.bn3.running_mean', 'encoder.blocks.5.4.bn3.running_var', 'encoder.blocks.5.4.bn3.num_batches_tracked', 'encoder.blocks.5.5.conv_pw.weight', 'encoder.blocks.5.5.bn1.weight', 'encoder.blocks.5.5.bn1.bias', 'encoder.blocks.5.5.bn1.running_mean', 'encoder.blocks.5.5.bn1.running_var', 'encoder.blocks.5.5.bn1.num_batches_tracked', 'encoder.blocks.5.5.conv_dw.weight', 'encoder.blocks.5.5.bn2.weight', 'encoder.blocks.5.5.bn2.bias', 'encoder.blocks.5.5.bn2.running_mean', 'encoder.blocks.5.5.bn2.running_var', 'encoder.blocks.5.5.bn2.num_batches_tracked', 'encoder.blocks.5.5.se.conv_reduce.weight', 'encoder.blocks.5.5.se.conv_reduce.bias', 'encoder.blocks.5.5.se.conv_expand.weight', 'encoder.blocks.5.5.se.conv_expand.bias', 'encoder.blocks.5.5.conv_pwl.weight', 'encoder.blocks.5.5.bn3.weight', 'encoder.blocks.5.5.bn3.bias', 'encoder.blocks.5.5.bn3.running_mean', 'encoder.blocks.5.5.bn3.running_var', 'encoder.blocks.5.5.bn3.num_batches_tracked', 'encoder.blocks.6.0.conv_pw.weight', 'encoder.blocks.6.0.bn1.weight', 'encoder.blocks.6.0.bn1.bias', 'encoder.blocks.6.0.bn1.running_mean', 'encoder.blocks.6.0.bn1.running_var', 'encoder.blocks.6.0.bn1.num_batches_tracked', 'encoder.blocks.6.0.conv_dw.weight', 'encoder.blocks.6.0.bn2.weight', 'encoder.blocks.6.0.bn2.bias', 'encoder.blocks.6.0.bn2.running_mean', 'encoder.blocks.6.0.bn2.running_var', 'encoder.blocks.6.0.bn2.num_batches_tracked', 'encoder.blocks.6.0.se.conv_reduce.weight', 'encoder.blocks.6.0.se.conv_reduce.bias', 'encoder.blocks.6.0.se.conv_expand.weight', 'encoder.blocks.6.0.se.conv_expand.bias', 'encoder.blocks.6.0.conv_pwl.weight', 'encoder.blocks.6.0.bn3.weight', 'encoder.blocks.6.0.bn3.bias', 'encoder.blocks.6.0.bn3.running_mean', 'encoder.blocks.6.0.bn3.running_var', 'encoder.blocks.6.0.bn3.num_batches_tracked', 'encoder.blocks.6.1.conv_pw.weight', 'encoder.blocks.6.1.bn1.weight', 'encoder.blocks.6.1.bn1.bias', 'encoder.blocks.6.1.bn1.running_mean', 'encoder.blocks.6.1.bn1.running_var', 'encoder.blocks.6.1.bn1.num_batches_tracked', 'encoder.blocks.6.1.conv_dw.weight', 'encoder.blocks.6.1.bn2.weight', 'encoder.blocks.6.1.bn2.bias', 'encoder.blocks.6.1.bn2.running_mean', 'encoder.blocks.6.1.bn2.running_var', 'encoder.blocks.6.1.bn2.num_batches_tracked', 'encoder.blocks.6.1.se.conv_reduce.weight', 'encoder.blocks.6.1.se.conv_reduce.bias', 'encoder.blocks.6.1.se.conv_expand.weight', 'encoder.blocks.6.1.se.conv_expand.bias', 'encoder.blocks.6.1.conv_pwl.weight', 'encoder.blocks.6.1.bn3.weight', 'encoder.blocks.6.1.bn3.bias', 'encoder.blocks.6.1.bn3.running_mean', 'encoder.blocks.6.1.bn3.running_var', 'encoder.blocks.6.1.bn3.num_batches_tracked', 'encoder.conv_head.weight', 'encoder.bn2.weight', 'encoder.bn2.bias', 'encoder.bn2.running_mean', 'encoder.bn2.running_var', 'encoder.bn2.num_batches_tracked', 'gen.linear_mapping.0.weight_orig', 'gen.linear_mapping.0.weight_u', 'gen.linear_mapping.0.weight_v', 'gen.block1.skip_connection.0.weight_orig', 'gen.block1.skip_connection.0.weight_u', 'gen.block1.skip_connection.0.weight_v', 'gen.block1.skip_connection.1.weight', 'gen.block1.skip_connection.1.bias', 'gen.block1.skip_connection.1.running_mean', 'gen.block1.skip_connection.1.running_var', 'gen.block1.skip_connection.1.num_batches_tracked', 'gen.block1.basic_block.0.batch_norm.running_mean', 'gen.block1.basic_block.0.batch_norm.running_var', 'gen.block1.basic_block.0.batch_norm.num_batches_tracked', 'gen.block1.basic_block.0.gamma.weight', 'gen.block1.basic_block.0.gamma.bias', 'gen.block1.basic_block.0.bias.weight', 'gen.block1.basic_block.0.bias.bias', 'gen.block1.basic_block.2.weight_orig', 'gen.block1.basic_block.2.weight_u', 'gen.block1.basic_block.2.weight_v', 'gen.block1.basic_block.3.batch_norm.running_mean', 'gen.block1.basic_block.3.batch_norm.running_var', 'gen.block1.basic_block.3.batch_norm.num_batches_tracked', 'gen.block1.basic_block.3.gamma.weight', 'gen.block1.basic_block.3.gamma.bias', 'gen.block1.basic_block.3.bias.weight', 'gen.block1.basic_block.3.bias.bias', 'gen.block1.basic_block.5.weight_orig', 'gen.block1.basic_block.5.weight_u', 'gen.block1.basic_block.5.weight_v', 'gen.block2.skip_connection.0.weight_orig', 'gen.block2.skip_connection.0.weight_u', 'gen.block2.skip_connection.0.weight_v', 'gen.block2.skip_connection.1.weight', 'gen.block2.skip_connection.1.bias', 'gen.block2.skip_connection.1.running_mean', 'gen.block2.skip_connection.1.running_var', 'gen.block2.skip_connection.1.num_batches_tracked', 'gen.block2.basic_block.0.batch_norm.running_mean', 'gen.block2.basic_block.0.batch_norm.running_var', 'gen.block2.basic_block.0.batch_norm.num_batches_tracked', 'gen.block2.basic_block.0.gamma.weight', 'gen.block2.basic_block.0.gamma.bias', 'gen.block2.basic_block.0.bias.weight', 'gen.block2.basic_block.0.bias.bias', 'gen.block2.basic_block.2.weight_orig', 'gen.block2.basic_block.2.weight_u', 'gen.block2.basic_block.2.weight_v', 'gen.block2.basic_block.3.batch_norm.running_mean', 'gen.block2.basic_block.3.batch_norm.running_var', 'gen.block2.basic_block.3.batch_norm.num_batches_tracked', 'gen.block2.basic_block.3.gamma.weight', 'gen.block2.basic_block.3.gamma.bias', 'gen.block2.basic_block.3.bias.weight', 'gen.block2.basic_block.3.bias.bias', 'gen.block2.basic_block.5.weight_orig', 'gen.block2.basic_block.5.weight_u', 'gen.block2.basic_block.5.weight_v', 'gen.block3.skip_connection.0.weight_orig', 'gen.block3.skip_connection.0.weight_u', 'gen.block3.skip_connection.0.weight_v', 'gen.block3.skip_connection.1.weight', 'gen.block3.skip_connection.1.bias', 'gen.block3.skip_connection.1.running_mean', 'gen.block3.skip_connection.1.running_var', 'gen.block3.skip_connection.1.num_batches_tracked', 'gen.block3.basic_block.0.batch_norm.running_mean', 'gen.block3.basic_block.0.batch_norm.running_var', 'gen.block3.basic_block.0.batch_norm.num_batches_tracked', 'gen.block3.basic_block.0.gamma.weight', 'gen.block3.basic_block.0.gamma.bias', 'gen.block3.basic_block.0.bias.weight', 'gen.block3.basic_block.0.bias.bias', 'gen.block3.basic_block.2.weight_orig', 'gen.block3.basic_block.2.weight_u', 'gen.block3.basic_block.2.weight_v', 'gen.block3.basic_block.3.batch_norm.running_mean', 'gen.block3.basic_block.3.batch_norm.running_var', 'gen.block3.basic_block.3.batch_norm.num_batches_tracked', 'gen.block3.basic_block.3.gamma.weight', 'gen.block3.basic_block.3.gamma.bias', 'gen.block3.basic_block.3.bias.weight', 'gen.block3.basic_block.3.bias.bias', 'gen.block3.basic_block.5.weight_orig', 'gen.block3.basic_block.5.weight_u', 'gen.block3.basic_block.5.weight_v', 'gen.block4.skip_connection.0.weight_orig', 'gen.block4.skip_connection.0.weight_u', 'gen.block4.skip_connection.0.weight_v', 'gen.block4.skip_connection.1.weight', 'gen.block4.skip_connection.1.bias', 'gen.block4.skip_connection.1.running_mean', 'gen.block4.skip_connection.1.running_var', 'gen.block4.skip_connection.1.num_batches_tracked', 'gen.block4.basic_block.0.batch_norm.running_mean', 'gen.block4.basic_block.0.batch_norm.running_var', 'gen.block4.basic_block.0.batch_norm.num_batches_tracked', 'gen.block4.basic_block.0.gamma.weight', 'gen.block4.basic_block.0.gamma.bias', 'gen.block4.basic_block.0.bias.weight', 'gen.block4.basic_block.0.bias.bias', 'gen.block4.basic_block.2.weight_orig', 'gen.block4.basic_block.2.weight_u', 'gen.block4.basic_block.2.weight_v', 'gen.block4.basic_block.3.batch_norm.running_mean', 'gen.block4.basic_block.3.batch_norm.running_var', 'gen.block4.basic_block.3.batch_norm.num_batches_tracked', 'gen.block4.basic_block.3.gamma.weight', 'gen.block4.basic_block.3.gamma.bias', 'gen.block4.basic_block.3.bias.weight', 'gen.block4.basic_block.3.bias.bias', 'gen.block4.basic_block.5.weight_orig', 'gen.block4.basic_block.5.weight_u', 'gen.block4.basic_block.5.weight_v', 'gen.final_layer.0.weight', 'gen.final_layer.0.bias', 'gen.final_layer.0.running_mean', 'gen.final_layer.0.running_var', 'gen.final_layer.0.num_batches_tracked', 'gen.final_layer.2.weight_orig', 'gen.final_layer.2.weight_u', 'gen.final_layer.2.weight_v', 'dis.first_layer.0.weight', 'dis.first_layer.0.bias', 'dis.first_layer.0.running_mean', 'dis.first_layer.0.running_var', 'dis.first_layer.0.num_batches_tracked', 'dis.first_layer.2.weight_orig', 'dis.first_layer.2.weight_u', 'dis.first_layer.2.weight_v', 'dis.linear_mapping.0.bias', 'dis.linear_mapping.0.weight_orig', 'dis.linear_mapping.0.weight_u', 'dis.linear_mapping.0.weight_v', 'dis.block1.skip_connection.0.weight_orig', 'dis.block1.skip_connection.0.weight_u', 'dis.block1.skip_connection.0.weight_v', 'dis.block1.skip_connection.1.weight', 'dis.block1.skip_connection.1.bias', 'dis.block1.skip_connection.1.running_mean', 'dis.block1.skip_connection.1.running_var', 'dis.block1.skip_connection.1.num_batches_tracked', 'dis.block1.basic_block.0.weight', 'dis.block1.basic_block.0.bias', 'dis.block1.basic_block.0.running_mean', 'dis.block1.basic_block.0.running_var', 'dis.block1.basic_block.0.num_batches_tracked', 'dis.block1.basic_block.2.weight_orig', 'dis.block1.basic_block.2.weight_u', 'dis.block1.basic_block.2.weight_v', 'dis.block1.basic_block.3.weight', 'dis.block1.basic_block.3.bias', 'dis.block1.basic_block.3.running_mean', 'dis.block1.basic_block.3.running_var', 'dis.block1.basic_block.3.num_batches_tracked', 'dis.block1.basic_block.5.weight_orig', 'dis.block1.basic_block.5.weight_u', 'dis.block1.basic_block.5.weight_v', 'dis.block2.skip_connection.0.weight_orig', 'dis.block2.skip_connection.0.weight_u', 'dis.block2.skip_connection.0.weight_v', 'dis.block2.skip_connection.1.weight', 'dis.block2.skip_connection.1.bias', 'dis.block2.skip_connection.1.running_mean', 'dis.block2.skip_connection.1.running_var', 'dis.block2.skip_connection.1.num_batches_tracked', 'dis.block2.basic_block.0.weight', 'dis.block2.basic_block.0.bias', 'dis.block2.basic_block.0.running_mean', 'dis.block2.basic_block.0.running_var', 'dis.block2.basic_block.0.num_batches_tracked', 'dis.block2.basic_block.2.weight_orig', 'dis.block2.basic_block.2.weight_u', 'dis.block2.basic_block.2.weight_v', 'dis.block2.basic_block.3.weight', 'dis.block2.basic_block.3.bias', 'dis.block2.basic_block.3.running_mean', 'dis.block2.basic_block.3.running_var', 'dis.block2.basic_block.3.num_batches_tracked', 'dis.block2.basic_block.5.weight_orig', 'dis.block2.basic_block.5.weight_u', 'dis.block2.basic_block.5.weight_v', 'dis.block3.skip_connection.0.weight_orig', 'dis.block3.skip_connection.0.weight_u', 'dis.block3.skip_connection.0.weight_v', 'dis.block3.skip_connection.1.weight', 'dis.block3.skip_connection.1.bias', 'dis.block3.skip_connection.1.running_mean', 'dis.block3.skip_connection.1.running_var', 'dis.block3.skip_connection.1.num_batches_tracked', 'dis.block3.basic_block.0.weight', 'dis.block3.basic_block.0.bias', 'dis.block3.basic_block.0.running_mean', 'dis.block3.basic_block.0.running_var', 'dis.block3.basic_block.0.num_batches_tracked', 'dis.block3.basic_block.2.weight_orig', 'dis.block3.basic_block.2.weight_u', 'dis.block3.basic_block.2.weight_v', 'dis.block3.basic_block.3.weight', 'dis.block3.basic_block.3.bias', 'dis.block3.basic_block.3.running_mean', 'dis.block3.basic_block.3.running_var', 'dis.block3.basic_block.3.num_batches_tracked', 'dis.block3.basic_block.5.weight_orig', 'dis.block3.basic_block.5.weight_u', 'dis.block3.basic_block.5.weight_v', 'dis.block4.skip_connection.0.weight_orig', 'dis.block4.skip_connection.0.weight_u', 'dis.block4.skip_connection.0.weight_v', 'dis.block4.skip_connection.1.weight', 'dis.block4.skip_connection.1.bias', 'dis.block4.skip_connection.1.running_mean', 'dis.block4.skip_connection.1.running_var', 'dis.block4.skip_connection.1.num_batches_tracked', 'dis.block4.basic_block.0.weight', 'dis.block4.basic_block.0.bias', 'dis.block4.basic_block.0.running_mean', 'dis.block4.basic_block.0.running_var', 'dis.block4.basic_block.0.num_batches_tracked', 'dis.block4.basic_block.2.weight_orig', 'dis.block4.basic_block.2.weight_u', 'dis.block4.basic_block.2.weight_v', 'dis.block4.basic_block.3.weight', 'dis.block4.basic_block.3.bias', 'dis.block4.basic_block.3.running_mean', 'dis.block4.basic_block.3.running_var', 'dis.block4.basic_block.3.num_batches_tracked', 'dis.block4.basic_block.5.weight_orig', 'dis.block4.basic_block.5.weight_u', 'dis.block4.basic_block.5.weight_v'])"
            ]
          },
          "metadata": {},
          "execution_count": 13
        }
      ]
    },
    {
      "cell_type": "code",
      "source": [
        "model.load_state_dict(checkpoint['state_dict'])"
      ],
      "metadata": {
        "colab": {
          "base_uri": "https://localhost:8080/"
        },
        "id": "Kr_ZgD0sWfEa",
        "outputId": "101008c6-3741-4def-85e5-f9f699f92e66"
      },
      "execution_count": 14,
      "outputs": [
        {
          "output_type": "execute_result",
          "data": {
            "text/plain": [
              "<All keys matched successfully>"
            ]
          },
          "metadata": {},
          "execution_count": 14
        }
      ]
    },
    {
      "cell_type": "code",
      "source": [
        "gan = GAN.load_from_checkpoint(checkpoint_file,\n",
        "                          train_data_path = '/content/DL_project_dataset/dataset_test.npy', \n",
        "                          valid_data_path = '/content/DL_project_dataset/dataset_train.npy',\n",
        "                          batch_size=6, \n",
        "                          loss_type='standard', \n",
        "                       )"
      ],
      "metadata": {
        "id": "DZSFoRYJKRGz"
      },
      "execution_count": 15,
      "outputs": []
    },
    {
      "cell_type": "code",
      "source": [
        "valid_dataset = GanDataset(dataset_test, None)"
      ],
      "metadata": {
        "id": "45CncaDAzHnm"
      },
      "execution_count": 16,
      "outputs": []
    },
    {
      "cell_type": "code",
      "source": [
        "val = DataLoader(valid_dataset, num_workers=8, batch_size=28, shuffle=False)"
      ],
      "metadata": {
        "colab": {
          "base_uri": "https://localhost:8080/"
        },
        "id": "w9oqYPmyy_XF",
        "outputId": "8e363211-e528-4406-935f-ed820ce5efe9"
      },
      "execution_count": 17,
      "outputs": [
        {
          "output_type": "stream",
          "name": "stderr",
          "text": [
            "/usr/local/lib/python3.7/dist-packages/torch/utils/data/dataloader.py:490: UserWarning: This DataLoader will create 8 worker processes in total. Our suggested max number of worker in current system is 2, which is smaller than what this DataLoader is going to create. Please be aware that excessive worker creation might get DataLoader running slow or even freeze, lower the worker number to avoid potential slowness/freeze if necessary.\n",
            "  cpuset_checked))\n"
          ]
        }
      ]
    },
    {
      "cell_type": "code",
      "source": [
        "i = iter(val)\n",
        "exampl = next(i)"
      ],
      "metadata": {
        "colab": {
          "base_uri": "https://localhost:8080/"
        },
        "id": "AE7HvLnOzc0z",
        "outputId": "fd9c504e-bf5d-437f-d7b2-faf28afd0d3d"
      },
      "execution_count": 18,
      "outputs": [
        {
          "output_type": "stream",
          "name": "stderr",
          "text": [
            "/usr/local/lib/python3.7/dist-packages/torch/utils/data/dataloader.py:490: UserWarning: This DataLoader will create 8 worker processes in total. Our suggested max number of worker in current system is 2, which is smaller than what this DataLoader is going to create. Please be aware that excessive worker creation might get DataLoader running slow or even freeze, lower the worker number to avoid potential slowness/freeze if necessary.\n",
            "  cpuset_checked))\n"
          ]
        }
      ]
    },
    {
      "cell_type": "code",
      "source": [
        "exampl[0].shape"
      ],
      "metadata": {
        "colab": {
          "base_uri": "https://localhost:8080/"
        },
        "id": "zZk3vRvnzkiR",
        "outputId": "625b7fc9-6824-48ea-9fc9-1d8e33e6e194"
      },
      "execution_count": 19,
      "outputs": [
        {
          "output_type": "execute_result",
          "data": {
            "text/plain": [
              "torch.Size([28, 1, 64, 64, 64])"
            ]
          },
          "metadata": {},
          "execution_count": 19
        }
      ]
    },
    {
      "cell_type": "code",
      "source": [
        "res = gan.validation_step(exampl,1)"
      ],
      "metadata": {
        "id": "3hU_tqt4NTil"
      },
      "execution_count": 20,
      "outputs": []
    },
    {
      "cell_type": "code",
      "source": [
        "res['fake_images'].shape"
      ],
      "metadata": {
        "colab": {
          "base_uri": "https://localhost:8080/"
        },
        "id": "71aWrc_vzv4b",
        "outputId": "57a98158-b98c-4cb8-979e-c4292694d03e"
      },
      "execution_count": 21,
      "outputs": [
        {
          "output_type": "execute_result",
          "data": {
            "text/plain": [
              "torch.Size([28, 1, 64, 64, 64])"
            ]
          },
          "metadata": {},
          "execution_count": 21
        }
      ]
    },
    {
      "cell_type": "code",
      "source": [
        "res_numpy = res['fake_images'].cpu().detach().numpy()"
      ],
      "metadata": {
        "id": "jzKWvhig0Atj"
      },
      "execution_count": 22,
      "outputs": []
    },
    {
      "cell_type": "code",
      "source": [
        "res_numpy = res_numpy.squeeze(axis=1)\n",
        "#res_numpy = res_numpy.squeeze(axis=0)"
      ],
      "metadata": {
        "id": "nL4SzrDW0Nt8"
      },
      "execution_count": 23,
      "outputs": []
    },
    {
      "cell_type": "code",
      "source": [
        "res_numpy = res_numpy*0.12 +0.52"
      ],
      "metadata": {
        "id": "C2tzWRR00aCz"
      },
      "execution_count": 24,
      "outputs": []
    },
    {
      "cell_type": "code",
      "source": [
        "res_numpy = res_numpy*255"
      ],
      "metadata": {
        "id": "QOTzy3DO_fi3"
      },
      "execution_count": 25,
      "outputs": []
    },
    {
      "cell_type": "markdown",
      "source": [
        "# Thresholding"
      ],
      "metadata": {
        "id": "O2Dixh0hg6ID"
      }
    },
    {
      "cell_type": "code",
      "source": [
        "# Алгоритм денозийнга одного слайса\n",
        "def denoise(img):\n",
        "    # Bandpass фильтр\n",
        "    x = tp.preprocessing.bandpass(img, 0, 17, threshold=-151, truncate=-10)\n",
        "    # Нормализация\n",
        "    out = (x - x.min()) / (x.max() - x.min())\n",
        "    out = 255 * out\n",
        "    out = np.uint8(out)\n",
        "    # Non local mean фильтр\n",
        "    out = non_local_means(out, h=20) \n",
        "    return out"
      ],
      "metadata": {
        "id": "h7C07G0s796F"
      },
      "execution_count": 26,
      "outputs": []
    },
    {
      "cell_type": "code",
      "source": [
        "# Функция денойзинга. Выполняется для каждого из 3х направлений по-отдельности\n",
        "def denoising_3d(img3d, mode):\n",
        "    out3d = np.empty(img3d.shape)\n",
        "    a, b, c = out3d.shape\n",
        "    if mode == \"y\":\n",
        "        for i in range(a):\n",
        "            out = denoise(img3d[i,:,:])\n",
        "            out3d[i,:,:] = out\n",
        "    elif mode == \"x\":\n",
        "        for i in range(b):\n",
        "            out = denoise(img3d[:,i,:])\n",
        "            out3d[:,i,:] = out\n",
        "    elif mode == \"z\":\n",
        "        for i in range(c):\n",
        "            out = denoise(img3d[:,:,i])\n",
        "            out3d[:,:,i] = out\n",
        "            \n",
        "    return out3d"
      ],
      "metadata": {
        "id": "rZvdimCN7-o0"
      },
      "execution_count": 27,
      "outputs": []
    },
    {
      "cell_type": "code",
      "source": [
        "\n",
        "#### Non-local means алгоритм\n",
        "def non_local_means(image, h=50):\n",
        "    return cv2.fastNlMeansDenoising(image, h=h)\n",
        "\n",
        "### Бинаризация\n",
        "\n",
        "#### Нормализация от 0 до 1\n",
        "def change_range(image):\n",
        "    vmin, vmax = stats.scoreatpercentile(image, (.1, 99))\n",
        "    A = np.clip(image, vmin, vmax)\n",
        "    A = (A - vmin) / (vmax - vmin)\n",
        "    return A\n",
        "\n",
        "#### Маска для алгоритма Randow walker\n",
        "def create_markers(image, pores, solid):\n",
        "    markers = np.zeros(image.shape)\n",
        "    markers[image < pores] = 1\n",
        "    markers[image > solid] = 2\n",
        "    return markers\n",
        "\n",
        "#### Random walker \n",
        "def r_walker(image, markers):\n",
        "    return random_walker(image, markers, beta=10, mode='bf')\n",
        "\n",
        "#### Объединение двух вышестоящих функций\n",
        "def r_walker2(image, pores, solid):\n",
        "    vmin, vmax = stats.scoreatpercentile(image, (.1, 99))\n",
        "    A = np.clip(image, vmin, vmax)\n",
        "    A = (A - vmin) / (vmax - vmin)\n",
        "    markers = np.zeros(A.shape)\n",
        "    markers[A < pores] = 1\n",
        "    markers[A > solid] = 2\n",
        "    return random_walker(image, markers, beta=10, mode='bf', tol=0.0001)"
      ],
      "metadata": {
        "id": "3zmGI5LY7Fio"
      },
      "execution_count": 28,
      "outputs": []
    },
    {
      "cell_type": "code",
      "source": [
        "# Алгоритм бинаризации\n",
        "def binarize(img):\n",
        "    # Делаем значения от 0 до 1\n",
        "    img = change_range(img)\n",
        "    # Берем среднее и отклонение из распределения пикселей\n",
        "    # Для каждого снимка это распределение будет уникальным\n",
        "    # Так что для каждого слайса эти значения будут отличаться\n",
        "    mean = stats.describe(img.flatten())[2]\n",
        "    var = stats.describe(img.flatten())[3]\n",
        "    k = mean / var * 0.001 \n",
        "    x = mean - k / 3   \n",
        "    y = mean  \n",
        "    # Припишем значения для пор и непроницаемой среды\n",
        "    pores_value = x\n",
        "    solid_value = y\n",
        "    # Используя алгоритм Random Walker произведем бинаризацию\n",
        "    markers = create_markers(img, pores=pores_value, solid=solid_value)\n",
        "    output = r_walker(img, markers)\n",
        "    output_markers = np.zeros(output.shape)\n",
        "    output_markers[output == 2] = 255\n",
        "    return output_markers"
      ],
      "metadata": {
        "id": "bNlmnvz77d2u"
      },
      "execution_count": 29,
      "outputs": []
    },
    {
      "cell_type": "code",
      "source": [
        "# Бинаризация по каждому из направлений\n",
        "def binarization_3d(img3d, direction):\n",
        "    a, b, c = img3d.shape\n",
        "    bin3d = np.empty(img3d.shape)\n",
        "    \n",
        "    if direction == \"z\":\n",
        "        for i in tqdm(range(c)):\n",
        "            img = img3d[:,:,i]\n",
        "            output_markers = binarize(img)\n",
        "            bin3d[:,:,i] = output_markers\n",
        "            \n",
        "    elif direction == \"y\":\n",
        "        for i in tqdm(range(a)):\n",
        "            img = img3d[i,:,:]\n",
        "            output_markers = binarize(img)\n",
        "            bin3d[i,:,:] = output_markers\n",
        "            \n",
        "    elif direction == \"x\":\n",
        "        for i in tqdm(range(b)):\n",
        "            img = img3d[:,i,:]\n",
        "            output_markers = binarize(img)\n",
        "            bin3d[:,i,:] = output_markers\n",
        "            \n",
        "    return bin3d"
      ],
      "metadata": {
        "id": "j8mc1x1m7fV0"
      },
      "execution_count": 30,
      "outputs": []
    },
    {
      "cell_type": "code",
      "source": [
        "def full_preprocessing(img3d):\n",
        "  # Запустите алгоритмы денойзинга\n",
        "  fibsem_3d_after_denoising_y = denoising_3d(img3d, mode=\"y\")\n",
        "  fibsem_3d_after_denoising_x = denoising_3d(img3d, mode=\"x\")\n",
        "  fibsem_3d_after_denoising_z = denoising_3d(img3d, mode=\"z\")\n",
        "\n",
        "  \n",
        "  fibsem_binarized_z = binarization_3d(fibsem_3d_after_denoising_z, direction=\"z\")\n",
        "  fibsem_binarized_y = binarization_3d(fibsem_3d_after_denoising_y, direction=\"y\")\n",
        "  fibsem_binarized_x = binarization_3d(fibsem_3d_after_denoising_x, direction=\"x\")\n",
        "  fib = np.stack([\n",
        "    fibsem_binarized_y,\n",
        "    fibsem_binarized_x,\n",
        "    fibsem_binarized_z\n",
        "])\n",
        "\n",
        "  fib = np.median(fib, axis=0)\n",
        "  fib = np.uint8(fib)\n",
        "  print(f\"Проверяем размерность модели: {fib.shape}\")\n",
        "  return fib\n",
        "\n",
        "\n"
      ],
      "metadata": {
        "id": "PvD26wi5_b4r"
      },
      "execution_count": 31,
      "outputs": []
    },
    {
      "cell_type": "code",
      "source": [
        "dataset_test_bin = np.zeros_like(dataset_test)\n",
        "res_numpy_bin = np.zeros_like(dataset_test)"
      ],
      "metadata": {
        "id": "icVEpdwG_vXe"
      },
      "execution_count": 32,
      "outputs": []
    },
    {
      "cell_type": "code",
      "source": [
        "for i in range(0,len(dataset_test)):\n",
        "  dataset_test_bin[i] = full_preprocessing(dataset_test[i])\n"
      ],
      "metadata": {
        "colab": {
          "base_uri": "https://localhost:8080/"
        },
        "id": "aYAITOPX_rx6",
        "outputId": "cbd85371-122e-4283-9a37-df50d03519d7"
      },
      "execution_count": 33,
      "outputs": [
        {
          "output_type": "stream",
          "name": "stderr",
          "text": [
            "100%|██████████| 64/64 [00:00<00:00, 133.48it/s]\n",
            "  0%|          | 0/64 [00:00<?, ?it/s]/usr/local/lib/python3.7/dist-packages/skimage/segmentation/random_walker_segmentation.py:470: UserWarning: Random walker only segments unlabeled areas, where labels == 0. No zero valued areas in labels were found. Returning provided labels.\n",
            "  inds_isolated_seeds, isolated_values) = _preprocess(labels)\n",
            " 23%|██▎       | 15/64 [00:00<00:00, 143.28it/s]/usr/local/lib/python3.7/dist-packages/skimage/segmentation/random_walker_segmentation.py:470: UserWarning: Random walker only segments unlabeled areas, where labels == 0. No zero valued areas in labels were found. Returning provided labels.\n",
            "  inds_isolated_seeds, isolated_values) = _preprocess(labels)\n",
            " 47%|████▋     | 30/64 [00:00<00:00, 146.52it/s]/usr/local/lib/python3.7/dist-packages/skimage/segmentation/random_walker_segmentation.py:470: UserWarning: Random walker only segments unlabeled areas, where labels == 0. No zero valued areas in labels were found. Returning provided labels.\n",
            "  inds_isolated_seeds, isolated_values) = _preprocess(labels)\n",
            "/usr/local/lib/python3.7/dist-packages/skimage/segmentation/random_walker_segmentation.py:470: UserWarning: Random walker only segments unlabeled areas, where labels == 0. No zero valued areas in labels were found. Returning provided labels.\n",
            "  inds_isolated_seeds, isolated_values) = _preprocess(labels)\n",
            "/usr/local/lib/python3.7/dist-packages/skimage/segmentation/random_walker_segmentation.py:470: UserWarning: Random walker only segments unlabeled areas, where labels == 0. No zero valued areas in labels were found. Returning provided labels.\n",
            "  inds_isolated_seeds, isolated_values) = _preprocess(labels)\n",
            " 72%|███████▏  | 46/64 [00:00<00:00, 151.77it/s]/usr/local/lib/python3.7/dist-packages/skimage/segmentation/random_walker_segmentation.py:470: UserWarning: Random walker only segments unlabeled areas, where labels == 0. No zero valued areas in labels were found. Returning provided labels.\n",
            "  inds_isolated_seeds, isolated_values) = _preprocess(labels)\n",
            "/usr/local/lib/python3.7/dist-packages/skimage/segmentation/random_walker_segmentation.py:470: UserWarning: Random walker only segments unlabeled areas, where labels == 0. No zero valued areas in labels were found. Returning provided labels.\n",
            "  inds_isolated_seeds, isolated_values) = _preprocess(labels)\n",
            "/usr/local/lib/python3.7/dist-packages/skimage/segmentation/random_walker_segmentation.py:470: UserWarning: Random walker only segments unlabeled areas, where labels == 0. No zero valued areas in labels were found. Returning provided labels.\n",
            "  inds_isolated_seeds, isolated_values) = _preprocess(labels)\n",
            "100%|██████████| 64/64 [00:00<00:00, 139.64it/s]\n",
            "100%|██████████| 64/64 [00:00<00:00, 128.88it/s]\n"
          ]
        },
        {
          "output_type": "stream",
          "name": "stdout",
          "text": [
            "Проверяем размерность модели: (64, 64, 64)\n"
          ]
        },
        {
          "output_type": "stream",
          "name": "stderr",
          "text": [
            "100%|██████████| 64/64 [00:00<00:00, 103.21it/s]\n",
            "100%|██████████| 64/64 [00:00<00:00, 99.67it/s] \n",
            "100%|██████████| 64/64 [00:00<00:00, 98.47it/s]\n"
          ]
        },
        {
          "output_type": "stream",
          "name": "stdout",
          "text": [
            "Проверяем размерность модели: (64, 64, 64)\n"
          ]
        },
        {
          "output_type": "stream",
          "name": "stderr",
          "text": [
            " 12%|█▎        | 8/64 [00:00<00:00, 78.90it/s]/usr/local/lib/python3.7/dist-packages/skimage/segmentation/random_walker_segmentation.py:470: UserWarning: Random walker only segments unlabeled areas, where labels == 0. No zero valued areas in labels were found. Returning provided labels.\n",
            "  inds_isolated_seeds, isolated_values) = _preprocess(labels)\n",
            "100%|██████████| 64/64 [00:00<00:00, 105.17it/s]\n",
            "100%|██████████| 64/64 [00:00<00:00, 118.11it/s]\n",
            " 22%|██▏       | 14/64 [00:00<00:00, 139.53it/s]/usr/local/lib/python3.7/dist-packages/skimage/segmentation/random_walker_segmentation.py:470: UserWarning: Random walker only segments unlabeled areas, where labels == 0. No zero valued areas in labels were found. Returning provided labels.\n",
            "  inds_isolated_seeds, isolated_values) = _preprocess(labels)\n",
            "100%|██████████| 64/64 [00:00<00:00, 135.77it/s]\n"
          ]
        },
        {
          "output_type": "stream",
          "name": "stdout",
          "text": [
            "Проверяем размерность модели: (64, 64, 64)\n"
          ]
        },
        {
          "output_type": "stream",
          "name": "stderr",
          "text": [
            " 44%|████▍     | 28/64 [00:00<00:00, 85.28it/s]/usr/local/lib/python3.7/dist-packages/skimage/segmentation/random_walker_segmentation.py:470: UserWarning: Random walker only segments unlabeled areas, where labels == 0. No zero valued areas in labels were found. Returning provided labels.\n",
            "  inds_isolated_seeds, isolated_values) = _preprocess(labels)\n",
            "/usr/local/lib/python3.7/dist-packages/skimage/segmentation/random_walker_segmentation.py:470: UserWarning: Random walker only segments unlabeled areas, where labels == 0. No zero valued areas in labels were found. Returning provided labels.\n",
            "  inds_isolated_seeds, isolated_values) = _preprocess(labels)\n",
            "100%|██████████| 64/64 [00:00<00:00, 83.48it/s]\n",
            " 33%|███▎      | 21/64 [00:00<00:00, 100.45it/s]/usr/local/lib/python3.7/dist-packages/skimage/segmentation/random_walker_segmentation.py:470: UserWarning: Random walker only segments unlabeled areas, where labels == 0. No zero valued areas in labels were found. Returning provided labels.\n",
            "  inds_isolated_seeds, isolated_values) = _preprocess(labels)\n",
            "100%|██████████| 64/64 [00:00<00:00, 105.66it/s]\n",
            "100%|██████████| 64/64 [00:00<00:00, 103.14it/s]\n"
          ]
        },
        {
          "output_type": "stream",
          "name": "stdout",
          "text": [
            "Проверяем размерность модели: (64, 64, 64)\n"
          ]
        },
        {
          "output_type": "stream",
          "name": "stderr",
          "text": [
            "100%|██████████| 64/64 [00:00<00:00, 116.57it/s]\n",
            " 70%|███████   | 45/64 [00:00<00:00, 134.84it/s]/usr/local/lib/python3.7/dist-packages/skimage/segmentation/random_walker_segmentation.py:470: UserWarning: Random walker only segments unlabeled areas, where labels == 0. No zero valued areas in labels were found. Returning provided labels.\n",
            "  inds_isolated_seeds, isolated_values) = _preprocess(labels)\n",
            "100%|██████████| 64/64 [00:00<00:00, 121.70it/s]\n",
            "100%|██████████| 64/64 [00:00<00:00, 124.02it/s]\n"
          ]
        },
        {
          "output_type": "stream",
          "name": "stdout",
          "text": [
            "Проверяем размерность модели: (64, 64, 64)\n"
          ]
        },
        {
          "output_type": "stream",
          "name": "stderr",
          "text": [
            "  0%|          | 0/64 [00:00<?, ?it/s]/usr/local/lib/python3.7/dist-packages/skimage/segmentation/random_walker_segmentation.py:470: UserWarning: Random walker only segments unlabeled areas, where labels == 0. No zero valued areas in labels were found. Returning provided labels.\n",
            "  inds_isolated_seeds, isolated_values) = _preprocess(labels)\n",
            "/usr/local/lib/python3.7/dist-packages/skimage/segmentation/random_walker_segmentation.py:470: UserWarning: Random walker only segments unlabeled areas, where labels == 0. No zero valued areas in labels were found. Returning provided labels.\n",
            "  inds_isolated_seeds, isolated_values) = _preprocess(labels)\n",
            "100%|██████████| 64/64 [00:00<00:00, 120.41it/s]\n",
            "100%|██████████| 64/64 [00:00<00:00, 104.27it/s]\n",
            "100%|██████████| 64/64 [00:00<00:00, 105.54it/s]\n"
          ]
        },
        {
          "output_type": "stream",
          "name": "stdout",
          "text": [
            "Проверяем размерность модели: (64, 64, 64)\n"
          ]
        },
        {
          "output_type": "stream",
          "name": "stderr",
          "text": [
            "  0%|          | 0/64 [00:00<?, ?it/s]/usr/local/lib/python3.7/dist-packages/skimage/segmentation/random_walker_segmentation.py:470: UserWarning: Random walker only segments unlabeled areas, where labels == 0. No zero valued areas in labels were found. Returning provided labels.\n",
            "  inds_isolated_seeds, isolated_values) = _preprocess(labels)\n",
            " 22%|██▏       | 14/64 [00:00<00:00, 137.14it/s]/usr/local/lib/python3.7/dist-packages/skimage/segmentation/random_walker_segmentation.py:470: UserWarning: Random walker only segments unlabeled areas, where labels == 0. No zero valued areas in labels were found. Returning provided labels.\n",
            "  inds_isolated_seeds, isolated_values) = _preprocess(labels)\n",
            " 44%|████▍     | 28/64 [00:00<00:00, 130.32it/s]/usr/local/lib/python3.7/dist-packages/skimage/segmentation/random_walker_segmentation.py:470: UserWarning: Random walker only segments unlabeled areas, where labels == 0. No zero valued areas in labels were found. Returning provided labels.\n",
            "  inds_isolated_seeds, isolated_values) = _preprocess(labels)\n",
            "100%|██████████| 64/64 [00:00<00:00, 101.37it/s]\n",
            "100%|██████████| 64/64 [00:00<00:00, 103.32it/s]\n",
            " 30%|██▉       | 19/64 [00:00<00:00, 86.72it/s]/usr/local/lib/python3.7/dist-packages/skimage/segmentation/random_walker_segmentation.py:470: UserWarning: Random walker only segments unlabeled areas, where labels == 0. No zero valued areas in labels were found. Returning provided labels.\n",
            "  inds_isolated_seeds, isolated_values) = _preprocess(labels)\n",
            "100%|██████████| 64/64 [00:00<00:00, 108.39it/s]\n"
          ]
        },
        {
          "output_type": "stream",
          "name": "stdout",
          "text": [
            "Проверяем размерность модели: (64, 64, 64)\n"
          ]
        },
        {
          "output_type": "stream",
          "name": "stderr",
          "text": [
            "100%|██████████| 64/64 [00:00<00:00, 105.10it/s]\n",
            "100%|██████████| 64/64 [00:00<00:00, 93.53it/s] \n",
            "100%|██████████| 64/64 [00:00<00:00, 117.93it/s]\n"
          ]
        },
        {
          "output_type": "stream",
          "name": "stdout",
          "text": [
            "Проверяем размерность модели: (64, 64, 64)\n"
          ]
        },
        {
          "output_type": "stream",
          "name": "stderr",
          "text": [
            "100%|██████████| 64/64 [00:00<00:00, 94.02it/s]\n",
            "100%|██████████| 64/64 [00:00<00:00, 106.95it/s]\n",
            "100%|██████████| 64/64 [00:00<00:00, 106.95it/s]\n"
          ]
        },
        {
          "output_type": "stream",
          "name": "stdout",
          "text": [
            "Проверяем размерность модели: (64, 64, 64)\n"
          ]
        },
        {
          "output_type": "stream",
          "name": "stderr",
          "text": [
            "100%|██████████| 64/64 [00:00<00:00, 88.88it/s]\n",
            " 45%|████▌     | 29/64 [00:00<00:00, 96.86it/s]/usr/local/lib/python3.7/dist-packages/skimage/segmentation/random_walker_segmentation.py:470: UserWarning: Random walker only segments unlabeled areas, where labels == 0. No zero valued areas in labels were found. Returning provided labels.\n",
            "  inds_isolated_seeds, isolated_values) = _preprocess(labels)\n",
            "100%|██████████| 64/64 [00:00<00:00, 89.99it/s]\n",
            "100%|██████████| 64/64 [00:00<00:00, 91.97it/s]\n"
          ]
        },
        {
          "output_type": "stream",
          "name": "stdout",
          "text": [
            "Проверяем размерность модели: (64, 64, 64)\n"
          ]
        },
        {
          "output_type": "stream",
          "name": "stderr",
          "text": [
            "100%|██████████| 64/64 [00:00<00:00, 95.94it/s]\n",
            "100%|██████████| 64/64 [00:00<00:00, 97.84it/s]\n",
            "100%|██████████| 64/64 [00:00<00:00, 95.51it/s]\n"
          ]
        },
        {
          "output_type": "stream",
          "name": "stdout",
          "text": [
            "Проверяем размерность модели: (64, 64, 64)\n"
          ]
        },
        {
          "output_type": "stream",
          "name": "stderr",
          "text": [
            "100%|██████████| 64/64 [00:00<00:00, 84.83it/s]\n",
            "100%|██████████| 64/64 [00:00<00:00, 93.43it/s]\n",
            "  0%|          | 0/64 [00:00<?, ?it/s]/usr/local/lib/python3.7/dist-packages/skimage/segmentation/random_walker_segmentation.py:470: UserWarning: Random walker only segments unlabeled areas, where labels == 0. No zero valued areas in labels were found. Returning provided labels.\n",
            "  inds_isolated_seeds, isolated_values) = _preprocess(labels)\n",
            "100%|██████████| 64/64 [00:00<00:00, 93.66it/s]\n"
          ]
        },
        {
          "output_type": "stream",
          "name": "stdout",
          "text": [
            "Проверяем размерность модели: (64, 64, 64)\n"
          ]
        },
        {
          "output_type": "stream",
          "name": "stderr",
          "text": [
            "  0%|          | 0/64 [00:00<?, ?it/s]/usr/local/lib/python3.7/dist-packages/skimage/segmentation/random_walker_segmentation.py:470: UserWarning: Random walker only segments unlabeled areas, where labels == 0. No zero valued areas in labels were found. Returning provided labels.\n",
            "  inds_isolated_seeds, isolated_values) = _preprocess(labels)\n",
            "/usr/local/lib/python3.7/dist-packages/skimage/segmentation/random_walker_segmentation.py:470: UserWarning: Random walker only segments unlabeled areas, where labels == 0. No zero valued areas in labels were found. Returning provided labels.\n",
            "  inds_isolated_seeds, isolated_values) = _preprocess(labels)\n",
            "/usr/local/lib/python3.7/dist-packages/skimage/segmentation/random_walker_segmentation.py:470: UserWarning: Random walker only segments unlabeled areas, where labels == 0. No zero valued areas in labels were found. Returning provided labels.\n",
            "  inds_isolated_seeds, isolated_values) = _preprocess(labels)\n",
            "/usr/local/lib/python3.7/dist-packages/skimage/segmentation/random_walker_segmentation.py:470: UserWarning: Random walker only segments unlabeled areas, where labels == 0. No zero valued areas in labels were found. Returning provided labels.\n",
            "  inds_isolated_seeds, isolated_values) = _preprocess(labels)\n",
            " 25%|██▌       | 16/64 [00:00<00:00, 153.77it/s]/usr/local/lib/python3.7/dist-packages/skimage/segmentation/random_walker_segmentation.py:470: UserWarning: Random walker only segments unlabeled areas, where labels == 0. No zero valued areas in labels were found. Returning provided labels.\n",
            "  inds_isolated_seeds, isolated_values) = _preprocess(labels)\n",
            "100%|██████████| 64/64 [00:00<00:00, 126.13it/s]\n",
            "100%|██████████| 64/64 [00:00<00:00, 135.71it/s]\n",
            "  0%|          | 0/64 [00:00<?, ?it/s]/usr/local/lib/python3.7/dist-packages/skimage/segmentation/random_walker_segmentation.py:470: UserWarning: Random walker only segments unlabeled areas, where labels == 0. No zero valued areas in labels were found. Returning provided labels.\n",
            "  inds_isolated_seeds, isolated_values) = _preprocess(labels)\n",
            "/usr/local/lib/python3.7/dist-packages/skimage/segmentation/random_walker_segmentation.py:470: UserWarning: Random walker only segments unlabeled areas, where labels == 0. No zero valued areas in labels were found. Returning provided labels.\n",
            "  inds_isolated_seeds, isolated_values) = _preprocess(labels)\n",
            "100%|██████████| 64/64 [00:00<00:00, 123.31it/s]\n"
          ]
        },
        {
          "output_type": "stream",
          "name": "stdout",
          "text": [
            "Проверяем размерность модели: (64, 64, 64)\n"
          ]
        },
        {
          "output_type": "stream",
          "name": "stderr",
          "text": [
            "100%|██████████| 64/64 [00:00<00:00, 100.16it/s]\n",
            "100%|██████████| 64/64 [00:00<00:00, 92.40it/s]\n",
            "100%|██████████| 64/64 [00:00<00:00, 103.33it/s]\n"
          ]
        },
        {
          "output_type": "stream",
          "name": "stdout",
          "text": [
            "Проверяем размерность модели: (64, 64, 64)\n"
          ]
        },
        {
          "output_type": "stream",
          "name": "stderr",
          "text": [
            "100%|██████████| 64/64 [00:00<00:00, 103.74it/s]\n",
            "100%|██████████| 64/64 [00:00<00:00, 97.43it/s]\n",
            "100%|██████████| 64/64 [00:00<00:00, 92.35it/s]\n"
          ]
        },
        {
          "output_type": "stream",
          "name": "stdout",
          "text": [
            "Проверяем размерность модели: (64, 64, 64)\n"
          ]
        },
        {
          "output_type": "stream",
          "name": "stderr",
          "text": [
            "100%|██████████| 64/64 [00:00<00:00, 119.92it/s]\n",
            "100%|██████████| 64/64 [00:00<00:00, 118.75it/s]\n",
            "100%|██████████| 64/64 [00:00<00:00, 118.63it/s]\n"
          ]
        },
        {
          "output_type": "stream",
          "name": "stdout",
          "text": [
            "Проверяем размерность модели: (64, 64, 64)\n"
          ]
        },
        {
          "output_type": "stream",
          "name": "stderr",
          "text": [
            "100%|██████████| 64/64 [00:00<00:00, 99.15it/s]\n",
            "100%|██████████| 64/64 [00:00<00:00, 106.14it/s]\n",
            "100%|██████████| 64/64 [00:00<00:00, 98.59it/s]\n"
          ]
        },
        {
          "output_type": "stream",
          "name": "stdout",
          "text": [
            "Проверяем размерность модели: (64, 64, 64)\n"
          ]
        },
        {
          "output_type": "stream",
          "name": "stderr",
          "text": [
            "100%|██████████| 64/64 [00:00<00:00, 98.33it/s]\n",
            "100%|██████████| 64/64 [00:00<00:00, 102.33it/s]\n",
            "  0%|          | 0/64 [00:00<?, ?it/s]/usr/local/lib/python3.7/dist-packages/skimage/segmentation/random_walker_segmentation.py:470: UserWarning: Random walker only segments unlabeled areas, where labels == 0. No zero valued areas in labels were found. Returning provided labels.\n",
            "  inds_isolated_seeds, isolated_values) = _preprocess(labels)\n",
            "100%|██████████| 64/64 [00:00<00:00, 97.17it/s]\n"
          ]
        },
        {
          "output_type": "stream",
          "name": "stdout",
          "text": [
            "Проверяем размерность модели: (64, 64, 64)\n"
          ]
        },
        {
          "output_type": "stream",
          "name": "stderr",
          "text": [
            "100%|██████████| 64/64 [00:00<00:00, 84.82it/s]\n",
            "100%|██████████| 64/64 [00:00<00:00, 91.35it/s]\n",
            "100%|██████████| 64/64 [00:00<00:00, 78.70it/s]\n"
          ]
        },
        {
          "output_type": "stream",
          "name": "stdout",
          "text": [
            "Проверяем размерность модели: (64, 64, 64)\n"
          ]
        },
        {
          "output_type": "stream",
          "name": "stderr",
          "text": [
            "100%|██████████| 64/64 [00:00<00:00, 110.19it/s]\n",
            "100%|██████████| 64/64 [00:00<00:00, 104.03it/s]\n",
            "100%|██████████| 64/64 [00:00<00:00, 106.57it/s]\n"
          ]
        },
        {
          "output_type": "stream",
          "name": "stdout",
          "text": [
            "Проверяем размерность модели: (64, 64, 64)\n"
          ]
        },
        {
          "output_type": "stream",
          "name": "stderr",
          "text": [
            "100%|██████████| 64/64 [00:00<00:00, 110.69it/s]\n",
            "100%|██████████| 64/64 [00:00<00:00, 107.04it/s]\n",
            "100%|██████████| 64/64 [00:00<00:00, 117.63it/s]\n"
          ]
        },
        {
          "output_type": "stream",
          "name": "stdout",
          "text": [
            "Проверяем размерность модели: (64, 64, 64)\n"
          ]
        },
        {
          "output_type": "stream",
          "name": "stderr",
          "text": [
            "100%|██████████| 64/64 [00:00<00:00, 111.22it/s]\n",
            "100%|██████████| 64/64 [00:00<00:00, 117.27it/s]\n",
            "100%|██████████| 64/64 [00:00<00:00, 111.02it/s]\n"
          ]
        },
        {
          "output_type": "stream",
          "name": "stdout",
          "text": [
            "Проверяем размерность модели: (64, 64, 64)\n"
          ]
        },
        {
          "output_type": "stream",
          "name": "stderr",
          "text": [
            " 56%|█████▋    | 36/64 [00:00<00:00, 82.30it/s]/usr/local/lib/python3.7/dist-packages/skimage/segmentation/random_walker_segmentation.py:470: UserWarning: Random walker only segments unlabeled areas, where labels == 0. No zero valued areas in labels were found. Returning provided labels.\n",
            "  inds_isolated_seeds, isolated_values) = _preprocess(labels)\n",
            "/usr/local/lib/python3.7/dist-packages/skimage/segmentation/random_walker_segmentation.py:470: UserWarning: Random walker only segments unlabeled areas, where labels == 0. No zero valued areas in labels were found. Returning provided labels.\n",
            "  inds_isolated_seeds, isolated_values) = _preprocess(labels)\n",
            "100%|██████████| 64/64 [00:00<00:00, 86.78it/s]\n",
            "100%|██████████| 64/64 [00:00<00:00, 77.70it/s]\n",
            " 28%|██▊       | 18/64 [00:00<00:00, 84.27it/s]/usr/local/lib/python3.7/dist-packages/skimage/segmentation/random_walker_segmentation.py:470: UserWarning: Random walker only segments unlabeled areas, where labels == 0. No zero valued areas in labels were found. Returning provided labels.\n",
            "  inds_isolated_seeds, isolated_values) = _preprocess(labels)\n",
            " 61%|██████    | 39/64 [00:00<00:00, 92.56it/s]/usr/local/lib/python3.7/dist-packages/skimage/segmentation/random_walker_segmentation.py:470: UserWarning: Random walker only segments unlabeled areas, where labels == 0. No zero valued areas in labels were found. Returning provided labels.\n",
            "  inds_isolated_seeds, isolated_values) = _preprocess(labels)\n",
            "100%|██████████| 64/64 [00:00<00:00, 104.23it/s]\n"
          ]
        },
        {
          "output_type": "stream",
          "name": "stdout",
          "text": [
            "Проверяем размерность модели: (64, 64, 64)\n"
          ]
        },
        {
          "output_type": "stream",
          "name": "stderr",
          "text": [
            " 66%|██████▌   | 42/64 [00:00<00:00, 96.39it/s]/usr/local/lib/python3.7/dist-packages/skimage/segmentation/random_walker_segmentation.py:470: UserWarning: Random walker only segments unlabeled areas, where labels == 0. No zero valued areas in labels were found. Returning provided labels.\n",
            "  inds_isolated_seeds, isolated_values) = _preprocess(labels)\n",
            "100%|██████████| 64/64 [00:00<00:00, 100.98it/s]\n",
            "100%|██████████| 64/64 [00:00<00:00, 105.13it/s]\n",
            " 33%|███▎      | 21/64 [00:00<00:00, 102.71it/s]/usr/local/lib/python3.7/dist-packages/skimage/segmentation/random_walker_segmentation.py:470: UserWarning: Random walker only segments unlabeled areas, where labels == 0. No zero valued areas in labels were found. Returning provided labels.\n",
            "  inds_isolated_seeds, isolated_values) = _preprocess(labels)\n",
            "100%|██████████| 64/64 [00:00<00:00, 115.71it/s]\n"
          ]
        },
        {
          "output_type": "stream",
          "name": "stdout",
          "text": [
            "Проверяем размерность модели: (64, 64, 64)\n"
          ]
        },
        {
          "output_type": "stream",
          "name": "stderr",
          "text": [
            "100%|██████████| 64/64 [00:00<00:00, 136.86it/s]\n",
            "100%|██████████| 64/64 [00:00<00:00, 125.30it/s]\n",
            "100%|██████████| 64/64 [00:00<00:00, 141.86it/s]\n"
          ]
        },
        {
          "output_type": "stream",
          "name": "stdout",
          "text": [
            "Проверяем размерность модели: (64, 64, 64)\n"
          ]
        },
        {
          "output_type": "stream",
          "name": "stderr",
          "text": [
            " 16%|█▌        | 10/64 [00:00<00:00, 99.91it/s]/usr/local/lib/python3.7/dist-packages/skimage/segmentation/random_walker_segmentation.py:470: UserWarning: Random walker only segments unlabeled areas, where labels == 0. No zero valued areas in labels were found. Returning provided labels.\n",
            "  inds_isolated_seeds, isolated_values) = _preprocess(labels)\n",
            "100%|██████████| 64/64 [00:00<00:00, 114.87it/s]\n",
            "100%|██████████| 64/64 [00:00<00:00, 107.64it/s]\n",
            "100%|██████████| 64/64 [00:00<00:00, 97.69it/s] \n"
          ]
        },
        {
          "output_type": "stream",
          "name": "stdout",
          "text": [
            "Проверяем размерность модели: (64, 64, 64)\n"
          ]
        },
        {
          "output_type": "stream",
          "name": "stderr",
          "text": [
            "100%|██████████| 64/64 [00:00<00:00, 87.96it/s]\n",
            "100%|██████████| 64/64 [00:00<00:00, 91.35it/s]\n",
            "100%|██████████| 64/64 [00:00<00:00, 90.38it/s]\n"
          ]
        },
        {
          "output_type": "stream",
          "name": "stdout",
          "text": [
            "Проверяем размерность модели: (64, 64, 64)\n"
          ]
        },
        {
          "output_type": "stream",
          "name": "stderr",
          "text": [
            "100%|██████████| 64/64 [00:00<00:00, 97.82it/s]\n",
            "100%|██████████| 64/64 [00:00<00:00, 78.75it/s]\n",
            " 38%|███▊      | 24/64 [00:00<00:00, 60.17it/s]/usr/local/lib/python3.7/dist-packages/skimage/segmentation/random_walker_segmentation.py:470: UserWarning: Random walker only segments unlabeled areas, where labels == 0. No zero valued areas in labels were found. Returning provided labels.\n",
            "  inds_isolated_seeds, isolated_values) = _preprocess(labels)\n",
            "100%|██████████| 64/64 [00:00<00:00, 69.58it/s]\n"
          ]
        },
        {
          "output_type": "stream",
          "name": "stdout",
          "text": [
            "Проверяем размерность модели: (64, 64, 64)\n"
          ]
        }
      ]
    },
    {
      "cell_type": "code",
      "source": [
        "for i in range(0,len(dataset_test)):\n",
        "  res_numpy_bin[i] = full_preprocessing(res_numpy[i])"
      ],
      "metadata": {
        "colab": {
          "base_uri": "https://localhost:8080/"
        },
        "id": "6KoimcSSMmj8",
        "outputId": "70485cd8-c50f-4737-ce7b-99445cf220bf"
      },
      "execution_count": 34,
      "outputs": [
        {
          "output_type": "stream",
          "name": "stderr",
          "text": [
            "100%|██████████| 64/64 [00:00<00:00, 133.88it/s]\n",
            "100%|██████████| 64/64 [00:00<00:00, 129.94it/s]\n",
            "100%|██████████| 64/64 [00:00<00:00, 136.18it/s]\n"
          ]
        },
        {
          "output_type": "stream",
          "name": "stdout",
          "text": [
            "Проверяем размерность модели: (64, 64, 64)\n"
          ]
        },
        {
          "output_type": "stream",
          "name": "stderr",
          "text": [
            "  0%|          | 0/64 [00:00<?, ?it/s]/usr/local/lib/python3.7/dist-packages/skimage/segmentation/random_walker_segmentation.py:470: UserWarning: Random walker only segments unlabeled areas, where labels == 0. No zero valued areas in labels were found. Returning provided labels.\n",
            "  inds_isolated_seeds, isolated_values) = _preprocess(labels)\n",
            " 50%|█████     | 32/64 [00:00<00:00, 152.47it/s]/usr/local/lib/python3.7/dist-packages/skimage/segmentation/random_walker_segmentation.py:470: UserWarning: Random walker only segments unlabeled areas, where labels == 0. No zero valued areas in labels were found. Returning provided labels.\n",
            "  inds_isolated_seeds, isolated_values) = _preprocess(labels)\n",
            "100%|██████████| 64/64 [00:00<00:00, 151.34it/s]\n",
            "  0%|          | 0/64 [00:00<?, ?it/s]/usr/local/lib/python3.7/dist-packages/skimage/segmentation/random_walker_segmentation.py:470: UserWarning: Random walker only segments unlabeled areas, where labels == 0. No zero valued areas in labels were found. Returning provided labels.\n",
            "  inds_isolated_seeds, isolated_values) = _preprocess(labels)\n",
            " 25%|██▌       | 16/64 [00:00<00:00, 152.31it/s]/usr/local/lib/python3.7/dist-packages/skimage/segmentation/random_walker_segmentation.py:470: UserWarning: Random walker only segments unlabeled areas, where labels == 0. No zero valued areas in labels were found. Returning provided labels.\n",
            "  inds_isolated_seeds, isolated_values) = _preprocess(labels)\n",
            "/usr/local/lib/python3.7/dist-packages/skimage/segmentation/random_walker_segmentation.py:470: UserWarning: Random walker only segments unlabeled areas, where labels == 0. No zero valued areas in labels were found. Returning provided labels.\n",
            "  inds_isolated_seeds, isolated_values) = _preprocess(labels)\n",
            " 53%|█████▎    | 34/64 [00:00<00:00, 164.01it/s]/usr/local/lib/python3.7/dist-packages/skimage/segmentation/random_walker_segmentation.py:470: UserWarning: Random walker only segments unlabeled areas, where labels == 0. No zero valued areas in labels were found. Returning provided labels.\n",
            "  inds_isolated_seeds, isolated_values) = _preprocess(labels)\n",
            " 80%|███████▉  | 51/64 [00:00<00:00, 165.22it/s]/usr/local/lib/python3.7/dist-packages/skimage/segmentation/random_walker_segmentation.py:470: UserWarning: Random walker only segments unlabeled areas, where labels == 0. No zero valued areas in labels were found. Returning provided labels.\n",
            "  inds_isolated_seeds, isolated_values) = _preprocess(labels)\n",
            "/usr/local/lib/python3.7/dist-packages/skimage/segmentation/random_walker_segmentation.py:470: UserWarning: Random walker only segments unlabeled areas, where labels == 0. No zero valued areas in labels were found. Returning provided labels.\n",
            "  inds_isolated_seeds, isolated_values) = _preprocess(labels)\n",
            "100%|██████████| 64/64 [00:00<00:00, 163.43it/s]\n",
            "100%|██████████| 64/64 [00:00<00:00, 144.75it/s]\n"
          ]
        },
        {
          "output_type": "stream",
          "name": "stdout",
          "text": [
            "Проверяем размерность модели: (64, 64, 64)\n"
          ]
        },
        {
          "output_type": "stream",
          "name": "stderr",
          "text": [
            "  0%|          | 0/64 [00:00<?, ?it/s]/usr/local/lib/python3.7/dist-packages/skimage/segmentation/random_walker_segmentation.py:470: UserWarning: Random walker only segments unlabeled areas, where labels == 0. No zero valued areas in labels were found. Returning provided labels.\n",
            "  inds_isolated_seeds, isolated_values) = _preprocess(labels)\n",
            " 25%|██▌       | 16/64 [00:00<00:00, 151.93it/s]/usr/local/lib/python3.7/dist-packages/skimage/segmentation/random_walker_segmentation.py:470: UserWarning: Random walker only segments unlabeled areas, where labels == 0. No zero valued areas in labels were found. Returning provided labels.\n",
            "  inds_isolated_seeds, isolated_values) = _preprocess(labels)\n",
            "/usr/local/lib/python3.7/dist-packages/skimage/segmentation/random_walker_segmentation.py:470: UserWarning: Random walker only segments unlabeled areas, where labels == 0. No zero valued areas in labels were found. Returning provided labels.\n",
            "  inds_isolated_seeds, isolated_values) = _preprocess(labels)\n",
            "/usr/local/lib/python3.7/dist-packages/skimage/segmentation/random_walker_segmentation.py:470: UserWarning: Random walker only segments unlabeled areas, where labels == 0. No zero valued areas in labels were found. Returning provided labels.\n",
            "  inds_isolated_seeds, isolated_values) = _preprocess(labels)\n",
            " 55%|█████▍    | 35/64 [00:00<00:00, 166.57it/s]/usr/local/lib/python3.7/dist-packages/skimage/segmentation/random_walker_segmentation.py:470: UserWarning: Random walker only segments unlabeled areas, where labels == 0. No zero valued areas in labels were found. Returning provided labels.\n",
            "  inds_isolated_seeds, isolated_values) = _preprocess(labels)\n",
            "/usr/local/lib/python3.7/dist-packages/skimage/segmentation/random_walker_segmentation.py:470: UserWarning: Random walker only segments unlabeled areas, where labels == 0. No zero valued areas in labels were found. Returning provided labels.\n",
            "  inds_isolated_seeds, isolated_values) = _preprocess(labels)\n",
            " 81%|████████▏ | 52/64 [00:00<00:00, 152.95it/s]/usr/local/lib/python3.7/dist-packages/skimage/segmentation/random_walker_segmentation.py:470: UserWarning: Random walker only segments unlabeled areas, where labels == 0. No zero valued areas in labels were found. Returning provided labels.\n",
            "  inds_isolated_seeds, isolated_values) = _preprocess(labels)\n",
            "/usr/local/lib/python3.7/dist-packages/skimage/segmentation/random_walker_segmentation.py:470: UserWarning: Random walker only segments unlabeled areas, where labels == 0. No zero valued areas in labels were found. Returning provided labels.\n",
            "  inds_isolated_seeds, isolated_values) = _preprocess(labels)\n",
            "100%|██████████| 64/64 [00:00<00:00, 168.26it/s]\n",
            "  0%|          | 0/64 [00:00<?, ?it/s]/usr/local/lib/python3.7/dist-packages/skimage/segmentation/random_walker_segmentation.py:470: UserWarning: Random walker only segments unlabeled areas, where labels == 0. No zero valued areas in labels were found. Returning provided labels.\n",
            "  inds_isolated_seeds, isolated_values) = _preprocess(labels)\n",
            " 25%|██▌       | 16/64 [00:00<00:00, 152.75it/s]/usr/local/lib/python3.7/dist-packages/skimage/segmentation/random_walker_segmentation.py:470: UserWarning: Random walker only segments unlabeled areas, where labels == 0. No zero valued areas in labels were found. Returning provided labels.\n",
            "  inds_isolated_seeds, isolated_values) = _preprocess(labels)\n",
            "/usr/local/lib/python3.7/dist-packages/skimage/segmentation/random_walker_segmentation.py:470: UserWarning: Random walker only segments unlabeled areas, where labels == 0. No zero valued areas in labels were found. Returning provided labels.\n",
            "  inds_isolated_seeds, isolated_values) = _preprocess(labels)\n",
            " 52%|█████▏    | 33/64 [00:00<00:00, 159.99it/s]/usr/local/lib/python3.7/dist-packages/skimage/segmentation/random_walker_segmentation.py:470: UserWarning: Random walker only segments unlabeled areas, where labels == 0. No zero valued areas in labels were found. Returning provided labels.\n",
            "  inds_isolated_seeds, isolated_values) = _preprocess(labels)\n",
            "/usr/local/lib/python3.7/dist-packages/skimage/segmentation/random_walker_segmentation.py:470: UserWarning: Random walker only segments unlabeled areas, where labels == 0. No zero valued areas in labels were found. Returning provided labels.\n",
            "  inds_isolated_seeds, isolated_values) = _preprocess(labels)\n",
            " 83%|████████▎ | 53/64 [00:00<00:00, 170.02it/s]/usr/local/lib/python3.7/dist-packages/skimage/segmentation/random_walker_segmentation.py:470: UserWarning: Random walker only segments unlabeled areas, where labels == 0. No zero valued areas in labels were found. Returning provided labels.\n",
            "  inds_isolated_seeds, isolated_values) = _preprocess(labels)\n",
            "/usr/local/lib/python3.7/dist-packages/skimage/segmentation/random_walker_segmentation.py:470: UserWarning: Random walker only segments unlabeled areas, where labels == 0. No zero valued areas in labels were found. Returning provided labels.\n",
            "  inds_isolated_seeds, isolated_values) = _preprocess(labels)\n",
            "100%|██████████| 64/64 [00:00<00:00, 162.18it/s]\n",
            "  0%|          | 0/64 [00:00<?, ?it/s]/usr/local/lib/python3.7/dist-packages/skimage/segmentation/random_walker_segmentation.py:470: UserWarning: Random walker only segments unlabeled areas, where labels == 0. No zero valued areas in labels were found. Returning provided labels.\n",
            "  inds_isolated_seeds, isolated_values) = _preprocess(labels)\n",
            "/usr/local/lib/python3.7/dist-packages/skimage/segmentation/random_walker_segmentation.py:470: UserWarning: Random walker only segments unlabeled areas, where labels == 0. No zero valued areas in labels were found. Returning provided labels.\n",
            "  inds_isolated_seeds, isolated_values) = _preprocess(labels)\n",
            "/usr/local/lib/python3.7/dist-packages/skimage/segmentation/random_walker_segmentation.py:470: UserWarning: Random walker only segments unlabeled areas, where labels == 0. No zero valued areas in labels were found. Returning provided labels.\n",
            "  inds_isolated_seeds, isolated_values) = _preprocess(labels)\n",
            " 25%|██▌       | 16/64 [00:00<00:00, 157.46it/s]/usr/local/lib/python3.7/dist-packages/skimage/segmentation/random_walker_segmentation.py:470: UserWarning: Random walker only segments unlabeled areas, where labels == 0. No zero valued areas in labels were found. Returning provided labels.\n",
            "  inds_isolated_seeds, isolated_values) = _preprocess(labels)\n",
            "/usr/local/lib/python3.7/dist-packages/skimage/segmentation/random_walker_segmentation.py:470: UserWarning: Random walker only segments unlabeled areas, where labels == 0. No zero valued areas in labels were found. Returning provided labels.\n",
            "  inds_isolated_seeds, isolated_values) = _preprocess(labels)\n",
            "/usr/local/lib/python3.7/dist-packages/skimage/segmentation/random_walker_segmentation.py:470: UserWarning: Random walker only segments unlabeled areas, where labels == 0. No zero valued areas in labels were found. Returning provided labels.\n",
            "  inds_isolated_seeds, isolated_values) = _preprocess(labels)\n",
            " 56%|█████▋    | 36/64 [00:00<00:00, 174.46it/s]/usr/local/lib/python3.7/dist-packages/skimage/segmentation/random_walker_segmentation.py:470: UserWarning: Random walker only segments unlabeled areas, where labels == 0. No zero valued areas in labels were found. Returning provided labels.\n",
            "  inds_isolated_seeds, isolated_values) = _preprocess(labels)\n",
            "/usr/local/lib/python3.7/dist-packages/skimage/segmentation/random_walker_segmentation.py:470: UserWarning: Random walker only segments unlabeled areas, where labels == 0. No zero valued areas in labels were found. Returning provided labels.\n",
            "  inds_isolated_seeds, isolated_values) = _preprocess(labels)\n",
            "/usr/local/lib/python3.7/dist-packages/skimage/segmentation/random_walker_segmentation.py:470: UserWarning: Random walker only segments unlabeled areas, where labels == 0. No zero valued areas in labels were found. Returning provided labels.\n",
            "  inds_isolated_seeds, isolated_values) = _preprocess(labels)\n",
            "100%|██████████| 64/64 [00:00<00:00, 164.89it/s]\n"
          ]
        },
        {
          "output_type": "stream",
          "name": "stdout",
          "text": [
            "Проверяем размерность модели: (64, 64, 64)\n"
          ]
        },
        {
          "output_type": "stream",
          "name": "stderr",
          "text": [
            " 25%|██▌       | 16/64 [00:00<00:00, 151.71it/s]/usr/local/lib/python3.7/dist-packages/skimage/segmentation/random_walker_segmentation.py:470: UserWarning: Random walker only segments unlabeled areas, where labels == 0. No zero valued areas in labels were found. Returning provided labels.\n",
            "  inds_isolated_seeds, isolated_values) = _preprocess(labels)\n",
            " 50%|█████     | 32/64 [00:00<00:00, 143.53it/s]/usr/local/lib/python3.7/dist-packages/skimage/segmentation/random_walker_segmentation.py:470: UserWarning: Random walker only segments unlabeled areas, where labels == 0. No zero valued areas in labels were found. Returning provided labels.\n",
            "  inds_isolated_seeds, isolated_values) = _preprocess(labels)\n",
            "100%|██████████| 64/64 [00:00<00:00, 138.94it/s]\n",
            " 20%|██        | 13/64 [00:00<00:00, 124.67it/s]/usr/local/lib/python3.7/dist-packages/skimage/segmentation/random_walker_segmentation.py:470: UserWarning: Random walker only segments unlabeled areas, where labels == 0. No zero valued areas in labels were found. Returning provided labels.\n",
            "  inds_isolated_seeds, isolated_values) = _preprocess(labels)\n",
            " 66%|██████▌   | 42/64 [00:00<00:00, 128.82it/s]/usr/local/lib/python3.7/dist-packages/skimage/segmentation/random_walker_segmentation.py:470: UserWarning: Random walker only segments unlabeled areas, where labels == 0. No zero valued areas in labels were found. Returning provided labels.\n",
            "  inds_isolated_seeds, isolated_values) = _preprocess(labels)\n",
            " 89%|████████▉ | 57/64 [00:00<00:00, 136.40it/s]/usr/local/lib/python3.7/dist-packages/skimage/segmentation/random_walker_segmentation.py:470: UserWarning: Random walker only segments unlabeled areas, where labels == 0. No zero valued areas in labels were found. Returning provided labels.\n",
            "  inds_isolated_seeds, isolated_values) = _preprocess(labels)\n",
            "100%|██████████| 64/64 [00:00<00:00, 138.27it/s]\n",
            "  0%|          | 0/64 [00:00<?, ?it/s]/usr/local/lib/python3.7/dist-packages/skimage/segmentation/random_walker_segmentation.py:470: UserWarning: Random walker only segments unlabeled areas, where labels == 0. No zero valued areas in labels were found. Returning provided labels.\n",
            "  inds_isolated_seeds, isolated_values) = _preprocess(labels)\n",
            "100%|██████████| 64/64 [00:00<00:00, 145.46it/s]\n"
          ]
        },
        {
          "output_type": "stream",
          "name": "stdout",
          "text": [
            "Проверяем размерность модели: (64, 64, 64)\n"
          ]
        },
        {
          "output_type": "stream",
          "name": "stderr",
          "text": [
            "  0%|          | 0/64 [00:00<?, ?it/s]/usr/local/lib/python3.7/dist-packages/skimage/segmentation/random_walker_segmentation.py:470: UserWarning: Random walker only segments unlabeled areas, where labels == 0. No zero valued areas in labels were found. Returning provided labels.\n",
            "  inds_isolated_seeds, isolated_values) = _preprocess(labels)\n",
            " 53%|█████▎    | 34/64 [00:00<00:00, 142.87it/s]/usr/local/lib/python3.7/dist-packages/skimage/segmentation/random_walker_segmentation.py:470: UserWarning: Random walker only segments unlabeled areas, where labels == 0. No zero valued areas in labels were found. Returning provided labels.\n",
            "  inds_isolated_seeds, isolated_values) = _preprocess(labels)\n",
            "/usr/local/lib/python3.7/dist-packages/skimage/segmentation/random_walker_segmentation.py:470: UserWarning: Random walker only segments unlabeled areas, where labels == 0. No zero valued areas in labels were found. Returning provided labels.\n",
            "  inds_isolated_seeds, isolated_values) = _preprocess(labels)\n",
            " 78%|███████▊  | 50/64 [00:00<00:00, 148.95it/s]/usr/local/lib/python3.7/dist-packages/skimage/segmentation/random_walker_segmentation.py:470: UserWarning: Random walker only segments unlabeled areas, where labels == 0. No zero valued areas in labels were found. Returning provided labels.\n",
            "  inds_isolated_seeds, isolated_values) = _preprocess(labels)\n",
            "100%|██████████| 64/64 [00:00<00:00, 151.20it/s]\n",
            "  0%|          | 0/64 [00:00<?, ?it/s]/usr/local/lib/python3.7/dist-packages/skimage/segmentation/random_walker_segmentation.py:470: UserWarning: Random walker only segments unlabeled areas, where labels == 0. No zero valued areas in labels were found. Returning provided labels.\n",
            "  inds_isolated_seeds, isolated_values) = _preprocess(labels)\n",
            "/usr/local/lib/python3.7/dist-packages/skimage/segmentation/random_walker_segmentation.py:470: UserWarning: Random walker only segments unlabeled areas, where labels == 0. No zero valued areas in labels were found. Returning provided labels.\n",
            "  inds_isolated_seeds, isolated_values) = _preprocess(labels)\n",
            "/usr/local/lib/python3.7/dist-packages/skimage/segmentation/random_walker_segmentation.py:470: UserWarning: Random walker only segments unlabeled areas, where labels == 0. No zero valued areas in labels were found. Returning provided labels.\n",
            "  inds_isolated_seeds, isolated_values) = _preprocess(labels)\n",
            " 31%|███▏      | 20/64 [00:00<00:00, 193.91it/s]/usr/local/lib/python3.7/dist-packages/skimage/segmentation/random_walker_segmentation.py:470: UserWarning: Random walker only segments unlabeled areas, where labels == 0. No zero valued areas in labels were found. Returning provided labels.\n",
            "  inds_isolated_seeds, isolated_values) = _preprocess(labels)\n",
            " 62%|██████▎   | 40/64 [00:00<00:00, 158.38it/s]/usr/local/lib/python3.7/dist-packages/skimage/segmentation/random_walker_segmentation.py:470: UserWarning: Random walker only segments unlabeled areas, where labels == 0. No zero valued areas in labels were found. Returning provided labels.\n",
            "  inds_isolated_seeds, isolated_values) = _preprocess(labels)\n",
            "100%|██████████| 64/64 [00:00<00:00, 164.50it/s]\n",
            " 47%|████▋     | 30/64 [00:00<00:00, 143.17it/s]/usr/local/lib/python3.7/dist-packages/skimage/segmentation/random_walker_segmentation.py:470: UserWarning: Random walker only segments unlabeled areas, where labels == 0. No zero valued areas in labels were found. Returning provided labels.\n",
            "  inds_isolated_seeds, isolated_values) = _preprocess(labels)\n",
            "/usr/local/lib/python3.7/dist-packages/skimage/segmentation/random_walker_segmentation.py:470: UserWarning: Random walker only segments unlabeled areas, where labels == 0. No zero valued areas in labels were found. Returning provided labels.\n",
            "  inds_isolated_seeds, isolated_values) = _preprocess(labels)\n",
            "100%|██████████| 64/64 [00:00<00:00, 151.84it/s]\n"
          ]
        },
        {
          "output_type": "stream",
          "name": "stdout",
          "text": [
            "Проверяем размерность модели: (64, 64, 64)\n"
          ]
        },
        {
          "output_type": "stream",
          "name": "stderr",
          "text": [
            "  0%|          | 0/64 [00:00<?, ?it/s]/usr/local/lib/python3.7/dist-packages/skimage/segmentation/random_walker_segmentation.py:470: UserWarning: Random walker only segments unlabeled areas, where labels == 0. No zero valued areas in labels were found. Returning provided labels.\n",
            "  inds_isolated_seeds, isolated_values) = _preprocess(labels)\n",
            "/usr/local/lib/python3.7/dist-packages/skimage/segmentation/random_walker_segmentation.py:470: UserWarning: Random walker only segments unlabeled areas, where labels == 0. No zero valued areas in labels were found. Returning provided labels.\n",
            "  inds_isolated_seeds, isolated_values) = _preprocess(labels)\n",
            " 28%|██▊       | 18/64 [00:00<00:00, 175.23it/s]/usr/local/lib/python3.7/dist-packages/skimage/segmentation/random_walker_segmentation.py:470: UserWarning: Random walker only segments unlabeled areas, where labels == 0. No zero valued areas in labels were found. Returning provided labels.\n",
            "  inds_isolated_seeds, isolated_values) = _preprocess(labels)\n",
            " 56%|█████▋    | 36/64 [00:00<00:00, 155.20it/s]/usr/local/lib/python3.7/dist-packages/skimage/segmentation/random_walker_segmentation.py:470: UserWarning: Random walker only segments unlabeled areas, where labels == 0. No zero valued areas in labels were found. Returning provided labels.\n",
            "  inds_isolated_seeds, isolated_values) = _preprocess(labels)\n",
            "/usr/local/lib/python3.7/dist-packages/skimage/segmentation/random_walker_segmentation.py:470: UserWarning: Random walker only segments unlabeled areas, where labels == 0. No zero valued areas in labels were found. Returning provided labels.\n",
            "  inds_isolated_seeds, isolated_values) = _preprocess(labels)\n",
            "/usr/local/lib/python3.7/dist-packages/skimage/segmentation/random_walker_segmentation.py:470: UserWarning: Random walker only segments unlabeled areas, where labels == 0. No zero valued areas in labels were found. Returning provided labels.\n",
            "  inds_isolated_seeds, isolated_values) = _preprocess(labels)\n",
            "/usr/local/lib/python3.7/dist-packages/skimage/segmentation/random_walker_segmentation.py:470: UserWarning: Random walker only segments unlabeled areas, where labels == 0. No zero valued areas in labels were found. Returning provided labels.\n",
            "  inds_isolated_seeds, isolated_values) = _preprocess(labels)\n",
            "100%|██████████| 64/64 [00:00<00:00, 173.12it/s]\n",
            "  0%|          | 0/64 [00:00<?, ?it/s]/usr/local/lib/python3.7/dist-packages/skimage/segmentation/random_walker_segmentation.py:470: UserWarning: Random walker only segments unlabeled areas, where labels == 0. No zero valued areas in labels were found. Returning provided labels.\n",
            "  inds_isolated_seeds, isolated_values) = _preprocess(labels)\n",
            "/usr/local/lib/python3.7/dist-packages/skimage/segmentation/random_walker_segmentation.py:470: UserWarning: Random walker only segments unlabeled areas, where labels == 0. No zero valued areas in labels were found. Returning provided labels.\n",
            "  inds_isolated_seeds, isolated_values) = _preprocess(labels)\n",
            " 25%|██▌       | 16/64 [00:00<00:00, 157.27it/s]/usr/local/lib/python3.7/dist-packages/skimage/segmentation/random_walker_segmentation.py:470: UserWarning: Random walker only segments unlabeled areas, where labels == 0. No zero valued areas in labels were found. Returning provided labels.\n",
            "  inds_isolated_seeds, isolated_values) = _preprocess(labels)\n",
            "/usr/local/lib/python3.7/dist-packages/skimage/segmentation/random_walker_segmentation.py:470: UserWarning: Random walker only segments unlabeled areas, where labels == 0. No zero valued areas in labels were found. Returning provided labels.\n",
            "  inds_isolated_seeds, isolated_values) = _preprocess(labels)\n",
            " 58%|█████▊    | 37/64 [00:00<00:00, 185.42it/s]/usr/local/lib/python3.7/dist-packages/skimage/segmentation/random_walker_segmentation.py:470: UserWarning: Random walker only segments unlabeled areas, where labels == 0. No zero valued areas in labels were found. Returning provided labels.\n",
            "  inds_isolated_seeds, isolated_values) = _preprocess(labels)\n",
            "/usr/local/lib/python3.7/dist-packages/skimage/segmentation/random_walker_segmentation.py:470: UserWarning: Random walker only segments unlabeled areas, where labels == 0. No zero valued areas in labels were found. Returning provided labels.\n",
            "  inds_isolated_seeds, isolated_values) = _preprocess(labels)\n",
            "/usr/local/lib/python3.7/dist-packages/skimage/segmentation/random_walker_segmentation.py:470: UserWarning: Random walker only segments unlabeled areas, where labels == 0. No zero valued areas in labels were found. Returning provided labels.\n",
            "  inds_isolated_seeds, isolated_values) = _preprocess(labels)\n",
            "100%|██████████| 64/64 [00:00<00:00, 161.14it/s]\n",
            "  0%|          | 0/64 [00:00<?, ?it/s]/usr/local/lib/python3.7/dist-packages/skimage/segmentation/random_walker_segmentation.py:470: UserWarning: Random walker only segments unlabeled areas, where labels == 0. No zero valued areas in labels were found. Returning provided labels.\n",
            "  inds_isolated_seeds, isolated_values) = _preprocess(labels)\n",
            "/usr/local/lib/python3.7/dist-packages/skimage/segmentation/random_walker_segmentation.py:470: UserWarning: Random walker only segments unlabeled areas, where labels == 0. No zero valued areas in labels were found. Returning provided labels.\n",
            "  inds_isolated_seeds, isolated_values) = _preprocess(labels)\n",
            " 23%|██▎       | 15/64 [00:00<00:00, 138.26it/s]/usr/local/lib/python3.7/dist-packages/skimage/segmentation/random_walker_segmentation.py:470: UserWarning: Random walker only segments unlabeled areas, where labels == 0. No zero valued areas in labels were found. Returning provided labels.\n",
            "  inds_isolated_seeds, isolated_values) = _preprocess(labels)\n",
            "/usr/local/lib/python3.7/dist-packages/skimage/segmentation/random_walker_segmentation.py:470: UserWarning: Random walker only segments unlabeled areas, where labels == 0. No zero valued areas in labels were found. Returning provided labels.\n",
            "  inds_isolated_seeds, isolated_values) = _preprocess(labels)\n",
            " 45%|████▌     | 29/64 [00:00<00:00, 116.87it/s]/usr/local/lib/python3.7/dist-packages/skimage/segmentation/random_walker_segmentation.py:470: UserWarning: Random walker only segments unlabeled areas, where labels == 0. No zero valued areas in labels were found. Returning provided labels.\n",
            "  inds_isolated_seeds, isolated_values) = _preprocess(labels)\n",
            "/usr/local/lib/python3.7/dist-packages/skimage/segmentation/random_walker_segmentation.py:470: UserWarning: Random walker only segments unlabeled areas, where labels == 0. No zero valued areas in labels were found. Returning provided labels.\n",
            "  inds_isolated_seeds, isolated_values) = _preprocess(labels)\n",
            "/usr/local/lib/python3.7/dist-packages/skimage/segmentation/random_walker_segmentation.py:470: UserWarning: Random walker only segments unlabeled areas, where labels == 0. No zero valued areas in labels were found. Returning provided labels.\n",
            "  inds_isolated_seeds, isolated_values) = _preprocess(labels)\n",
            " 83%|████████▎ | 53/64 [00:00<00:00, 96.96it/s] /usr/local/lib/python3.7/dist-packages/skimage/segmentation/random_walker_segmentation.py:470: UserWarning: Random walker only segments unlabeled areas, where labels == 0. No zero valued areas in labels were found. Returning provided labels.\n",
            "  inds_isolated_seeds, isolated_values) = _preprocess(labels)\n",
            "100%|██████████| 64/64 [00:00<00:00, 100.31it/s]\n"
          ]
        },
        {
          "output_type": "stream",
          "name": "stdout",
          "text": [
            "Проверяем размерность модели: (64, 64, 64)\n"
          ]
        },
        {
          "output_type": "stream",
          "name": "stderr",
          "text": [
            "100%|██████████| 64/64 [00:00<00:00, 72.81it/s]\n",
            " 23%|██▎       | 15/64 [00:00<00:01, 34.67it/s]/usr/local/lib/python3.7/dist-packages/skimage/segmentation/random_walker_segmentation.py:470: UserWarning: Random walker only segments unlabeled areas, where labels == 0. No zero valued areas in labels were found. Returning provided labels.\n",
            "  inds_isolated_seeds, isolated_values) = _preprocess(labels)\n",
            " 33%|███▎      | 21/64 [00:00<00:01, 40.08it/s]/usr/local/lib/python3.7/dist-packages/skimage/segmentation/random_walker_segmentation.py:470: UserWarning: Random walker only segments unlabeled areas, where labels == 0. No zero valued areas in labels were found. Returning provided labels.\n",
            "  inds_isolated_seeds, isolated_values) = _preprocess(labels)\n",
            " 75%|███████▌  | 48/64 [00:01<00:00, 48.38it/s]/usr/local/lib/python3.7/dist-packages/skimage/segmentation/random_walker_segmentation.py:470: UserWarning: Random walker only segments unlabeled areas, where labels == 0. No zero valued areas in labels were found. Returning provided labels.\n",
            "  inds_isolated_seeds, isolated_values) = _preprocess(labels)\n",
            "100%|██████████| 64/64 [00:01<00:00, 50.59it/s]\n",
            " 47%|████▋     | 30/64 [00:00<00:00, 146.52it/s]/usr/local/lib/python3.7/dist-packages/skimage/segmentation/random_walker_segmentation.py:470: UserWarning: Random walker only segments unlabeled areas, where labels == 0. No zero valued areas in labels were found. Returning provided labels.\n",
            "  inds_isolated_seeds, isolated_values) = _preprocess(labels)\n",
            "100%|██████████| 64/64 [00:00<00:00, 137.87it/s]\n"
          ]
        },
        {
          "output_type": "stream",
          "name": "stdout",
          "text": [
            "Проверяем размерность модели: (64, 64, 64)\n"
          ]
        },
        {
          "output_type": "stream",
          "name": "stderr",
          "text": [
            "  0%|          | 0/64 [00:00<?, ?it/s]/usr/local/lib/python3.7/dist-packages/skimage/segmentation/random_walker_segmentation.py:470: UserWarning: Random walker only segments unlabeled areas, where labels == 0. No zero valued areas in labels were found. Returning provided labels.\n",
            "  inds_isolated_seeds, isolated_values) = _preprocess(labels)\n",
            "/usr/local/lib/python3.7/dist-packages/skimage/segmentation/random_walker_segmentation.py:470: UserWarning: Random walker only segments unlabeled areas, where labels == 0. No zero valued areas in labels were found. Returning provided labels.\n",
            "  inds_isolated_seeds, isolated_values) = _preprocess(labels)\n",
            " 28%|██▊       | 18/64 [00:00<00:00, 174.67it/s]/usr/local/lib/python3.7/dist-packages/skimage/segmentation/random_walker_segmentation.py:470: UserWarning: Random walker only segments unlabeled areas, where labels == 0. No zero valued areas in labels were found. Returning provided labels.\n",
            "  inds_isolated_seeds, isolated_values) = _preprocess(labels)\n",
            "/usr/local/lib/python3.7/dist-packages/skimage/segmentation/random_walker_segmentation.py:470: UserWarning: Random walker only segments unlabeled areas, where labels == 0. No zero valued areas in labels were found. Returning provided labels.\n",
            "  inds_isolated_seeds, isolated_values) = _preprocess(labels)\n",
            " 56%|█████▋    | 36/64 [00:00<00:00, 172.17it/s]/usr/local/lib/python3.7/dist-packages/skimage/segmentation/random_walker_segmentation.py:470: UserWarning: Random walker only segments unlabeled areas, where labels == 0. No zero valued areas in labels were found. Returning provided labels.\n",
            "  inds_isolated_seeds, isolated_values) = _preprocess(labels)\n",
            "100%|██████████| 64/64 [00:00<00:00, 162.25it/s]\n",
            "  0%|          | 0/64 [00:00<?, ?it/s]/usr/local/lib/python3.7/dist-packages/skimage/segmentation/random_walker_segmentation.py:470: UserWarning: Random walker only segments unlabeled areas, where labels == 0. No zero valued areas in labels were found. Returning provided labels.\n",
            "  inds_isolated_seeds, isolated_values) = _preprocess(labels)\n",
            "100%|██████████| 64/64 [00:00<00:00, 161.64it/s]\n",
            "  0%|          | 0/64 [00:00<?, ?it/s]/usr/local/lib/python3.7/dist-packages/skimage/segmentation/random_walker_segmentation.py:470: UserWarning: Random walker only segments unlabeled areas, where labels == 0. No zero valued areas in labels were found. Returning provided labels.\n",
            "  inds_isolated_seeds, isolated_values) = _preprocess(labels)\n",
            "/usr/local/lib/python3.7/dist-packages/skimage/segmentation/random_walker_segmentation.py:470: UserWarning: Random walker only segments unlabeled areas, where labels == 0. No zero valued areas in labels were found. Returning provided labels.\n",
            "  inds_isolated_seeds, isolated_values) = _preprocess(labels)\n",
            " 23%|██▎       | 15/64 [00:00<00:00, 148.45it/s]/usr/local/lib/python3.7/dist-packages/skimage/segmentation/random_walker_segmentation.py:470: UserWarning: Random walker only segments unlabeled areas, where labels == 0. No zero valued areas in labels were found. Returning provided labels.\n",
            "  inds_isolated_seeds, isolated_values) = _preprocess(labels)\n",
            "100%|██████████| 64/64 [00:00<00:00, 155.48it/s]\n"
          ]
        },
        {
          "output_type": "stream",
          "name": "stdout",
          "text": [
            "Проверяем размерность модели: (64, 64, 64)\n"
          ]
        },
        {
          "output_type": "stream",
          "name": "stderr",
          "text": [
            "  0%|          | 0/64 [00:00<?, ?it/s]/usr/local/lib/python3.7/dist-packages/skimage/segmentation/random_walker_segmentation.py:470: UserWarning: Random walker only segments unlabeled areas, where labels == 0. No zero valued areas in labels were found. Returning provided labels.\n",
            "  inds_isolated_seeds, isolated_values) = _preprocess(labels)\n",
            " 25%|██▌       | 16/64 [00:00<00:00, 158.63it/s]/usr/local/lib/python3.7/dist-packages/skimage/segmentation/random_walker_segmentation.py:470: UserWarning: Random walker only segments unlabeled areas, where labels == 0. No zero valued areas in labels were found. Returning provided labels.\n",
            "  inds_isolated_seeds, isolated_values) = _preprocess(labels)\n",
            " 73%|███████▎  | 47/64 [00:00<00:00, 132.49it/s]/usr/local/lib/python3.7/dist-packages/skimage/segmentation/random_walker_segmentation.py:470: UserWarning: Random walker only segments unlabeled areas, where labels == 0. No zero valued areas in labels were found. Returning provided labels.\n",
            "  inds_isolated_seeds, isolated_values) = _preprocess(labels)\n",
            "100%|██████████| 64/64 [00:00<00:00, 133.00it/s]\n",
            " 20%|██        | 13/64 [00:00<00:00, 124.92it/s]/usr/local/lib/python3.7/dist-packages/skimage/segmentation/random_walker_segmentation.py:470: UserWarning: Random walker only segments unlabeled areas, where labels == 0. No zero valued areas in labels were found. Returning provided labels.\n",
            "  inds_isolated_seeds, isolated_values) = _preprocess(labels)\n",
            " 44%|████▍     | 28/64 [00:00<00:00, 137.82it/s]/usr/local/lib/python3.7/dist-packages/skimage/segmentation/random_walker_segmentation.py:470: UserWarning: Random walker only segments unlabeled areas, where labels == 0. No zero valued areas in labels were found. Returning provided labels.\n",
            "  inds_isolated_seeds, isolated_values) = _preprocess(labels)\n",
            "100%|██████████| 64/64 [00:00<00:00, 129.06it/s]\n",
            " 44%|████▍     | 28/64 [00:00<00:00, 133.75it/s]/usr/local/lib/python3.7/dist-packages/skimage/segmentation/random_walker_segmentation.py:470: UserWarning: Random walker only segments unlabeled areas, where labels == 0. No zero valued areas in labels were found. Returning provided labels.\n",
            "  inds_isolated_seeds, isolated_values) = _preprocess(labels)\n",
            " 69%|██████▉   | 44/64 [00:00<00:00, 142.41it/s]/usr/local/lib/python3.7/dist-packages/skimage/segmentation/random_walker_segmentation.py:470: UserWarning: Random walker only segments unlabeled areas, where labels == 0. No zero valued areas in labels were found. Returning provided labels.\n",
            "  inds_isolated_seeds, isolated_values) = _preprocess(labels)\n",
            "100%|██████████| 64/64 [00:00<00:00, 134.03it/s]\n"
          ]
        },
        {
          "output_type": "stream",
          "name": "stdout",
          "text": [
            "Проверяем размерность модели: (64, 64, 64)\n"
          ]
        },
        {
          "output_type": "stream",
          "name": "stderr",
          "text": [
            "100%|██████████| 64/64 [00:00<00:00, 134.16it/s]\n",
            " 22%|██▏       | 14/64 [00:00<00:00, 131.18it/s]/usr/local/lib/python3.7/dist-packages/skimage/segmentation/random_walker_segmentation.py:470: UserWarning: Random walker only segments unlabeled areas, where labels == 0. No zero valued areas in labels were found. Returning provided labels.\n",
            "  inds_isolated_seeds, isolated_values) = _preprocess(labels)\n",
            "/usr/local/lib/python3.7/dist-packages/skimage/segmentation/random_walker_segmentation.py:470: UserWarning: Random walker only segments unlabeled areas, where labels == 0. No zero valued areas in labels were found. Returning provided labels.\n",
            "  inds_isolated_seeds, isolated_values) = _preprocess(labels)\n",
            "100%|██████████| 64/64 [00:00<00:00, 134.83it/s]\n",
            "100%|██████████| 64/64 [00:00<00:00, 137.67it/s]\n"
          ]
        },
        {
          "output_type": "stream",
          "name": "stdout",
          "text": [
            "Проверяем размерность модели: (64, 64, 64)\n"
          ]
        },
        {
          "output_type": "stream",
          "name": "stderr",
          "text": [
            "  0%|          | 0/64 [00:00<?, ?it/s]/usr/local/lib/python3.7/dist-packages/skimage/segmentation/random_walker_segmentation.py:470: UserWarning: Random walker only segments unlabeled areas, where labels == 0. No zero valued areas in labels were found. Returning provided labels.\n",
            "  inds_isolated_seeds, isolated_values) = _preprocess(labels)\n",
            "/usr/local/lib/python3.7/dist-packages/skimage/segmentation/random_walker_segmentation.py:470: UserWarning: Random walker only segments unlabeled areas, where labels == 0. No zero valued areas in labels were found. Returning provided labels.\n",
            "  inds_isolated_seeds, isolated_values) = _preprocess(labels)\n",
            " 27%|██▋       | 17/64 [00:00<00:00, 161.71it/s]/usr/local/lib/python3.7/dist-packages/skimage/segmentation/random_walker_segmentation.py:470: UserWarning: Random walker only segments unlabeled areas, where labels == 0. No zero valued areas in labels were found. Returning provided labels.\n",
            "  inds_isolated_seeds, isolated_values) = _preprocess(labels)\n",
            " 53%|█████▎    | 34/64 [00:00<00:00, 161.00it/s]/usr/local/lib/python3.7/dist-packages/skimage/segmentation/random_walker_segmentation.py:470: UserWarning: Random walker only segments unlabeled areas, where labels == 0. No zero valued areas in labels were found. Returning provided labels.\n",
            "  inds_isolated_seeds, isolated_values) = _preprocess(labels)\n",
            "100%|██████████| 64/64 [00:00<00:00, 151.35it/s]\n",
            "  0%|          | 0/64 [00:00<?, ?it/s]/usr/local/lib/python3.7/dist-packages/skimage/segmentation/random_walker_segmentation.py:470: UserWarning: Random walker only segments unlabeled areas, where labels == 0. No zero valued areas in labels were found. Returning provided labels.\n",
            "  inds_isolated_seeds, isolated_values) = _preprocess(labels)\n",
            "/usr/local/lib/python3.7/dist-packages/skimage/segmentation/random_walker_segmentation.py:470: UserWarning: Random walker only segments unlabeled areas, where labels == 0. No zero valued areas in labels were found. Returning provided labels.\n",
            "  inds_isolated_seeds, isolated_values) = _preprocess(labels)\n",
            " 33%|███▎      | 21/64 [00:00<00:00, 194.39it/s]/usr/local/lib/python3.7/dist-packages/skimage/segmentation/random_walker_segmentation.py:470: UserWarning: Random walker only segments unlabeled areas, where labels == 0. No zero valued areas in labels were found. Returning provided labels.\n",
            "  inds_isolated_seeds, isolated_values) = _preprocess(labels)\n",
            " 64%|██████▍   | 41/64 [00:00<00:00, 170.06it/s]/usr/local/lib/python3.7/dist-packages/skimage/segmentation/random_walker_segmentation.py:470: UserWarning: Random walker only segments unlabeled areas, where labels == 0. No zero valued areas in labels were found. Returning provided labels.\n",
            "  inds_isolated_seeds, isolated_values) = _preprocess(labels)\n",
            "/usr/local/lib/python3.7/dist-packages/skimage/segmentation/random_walker_segmentation.py:470: UserWarning: Random walker only segments unlabeled areas, where labels == 0. No zero valued areas in labels were found. Returning provided labels.\n",
            "  inds_isolated_seeds, isolated_values) = _preprocess(labels)\n",
            "100%|██████████| 64/64 [00:00<00:00, 162.56it/s]\n",
            " 25%|██▌       | 16/64 [00:00<00:00, 158.15it/s]/usr/local/lib/python3.7/dist-packages/skimage/segmentation/random_walker_segmentation.py:470: UserWarning: Random walker only segments unlabeled areas, where labels == 0. No zero valued areas in labels were found. Returning provided labels.\n",
            "  inds_isolated_seeds, isolated_values) = _preprocess(labels)\n",
            "100%|██████████| 64/64 [00:00<00:00, 164.04it/s]\n"
          ]
        },
        {
          "output_type": "stream",
          "name": "stdout",
          "text": [
            "Проверяем размерность модели: (64, 64, 64)\n"
          ]
        },
        {
          "output_type": "stream",
          "name": "stderr",
          "text": [
            "100%|██████████| 64/64 [00:00<00:00, 135.20it/s]\n",
            "100%|██████████| 64/64 [00:00<00:00, 135.42it/s]\n",
            "100%|██████████| 64/64 [00:00<00:00, 133.73it/s]\n"
          ]
        },
        {
          "output_type": "stream",
          "name": "stdout",
          "text": [
            "Проверяем размерность модели: (64, 64, 64)\n"
          ]
        },
        {
          "output_type": "stream",
          "name": "stderr",
          "text": [
            "  0%|          | 0/64 [00:00<?, ?it/s]/usr/local/lib/python3.7/dist-packages/skimage/segmentation/random_walker_segmentation.py:470: UserWarning: Random walker only segments unlabeled areas, where labels == 0. No zero valued areas in labels were found. Returning provided labels.\n",
            "  inds_isolated_seeds, isolated_values) = _preprocess(labels)\n",
            "/usr/local/lib/python3.7/dist-packages/skimage/segmentation/random_walker_segmentation.py:470: UserWarning: Random walker only segments unlabeled areas, where labels == 0. No zero valued areas in labels were found. Returning provided labels.\n",
            "  inds_isolated_seeds, isolated_values) = _preprocess(labels)\n",
            "/usr/local/lib/python3.7/dist-packages/skimage/segmentation/random_walker_segmentation.py:470: UserWarning: Random walker only segments unlabeled areas, where labels == 0. No zero valued areas in labels were found. Returning provided labels.\n",
            "  inds_isolated_seeds, isolated_values) = _preprocess(labels)\n",
            "/usr/local/lib/python3.7/dist-packages/skimage/segmentation/random_walker_segmentation.py:470: UserWarning: Random walker only segments unlabeled areas, where labels == 0. No zero valued areas in labels were found. Returning provided labels.\n",
            "  inds_isolated_seeds, isolated_values) = _preprocess(labels)\n",
            " 33%|███▎      | 21/64 [00:00<00:00, 200.55it/s]/usr/local/lib/python3.7/dist-packages/skimage/segmentation/random_walker_segmentation.py:470: UserWarning: Random walker only segments unlabeled areas, where labels == 0. No zero valued areas in labels were found. Returning provided labels.\n",
            "  inds_isolated_seeds, isolated_values) = _preprocess(labels)\n",
            "/usr/local/lib/python3.7/dist-packages/skimage/segmentation/random_walker_segmentation.py:470: UserWarning: Random walker only segments unlabeled areas, where labels == 0. No zero valued areas in labels were found. Returning provided labels.\n",
            "  inds_isolated_seeds, isolated_values) = _preprocess(labels)\n",
            "/usr/local/lib/python3.7/dist-packages/skimage/segmentation/random_walker_segmentation.py:470: UserWarning: Random walker only segments unlabeled areas, where labels == 0. No zero valued areas in labels were found. Returning provided labels.\n",
            "  inds_isolated_seeds, isolated_values) = _preprocess(labels)\n",
            " 66%|██████▌   | 42/64 [00:00<00:00, 192.91it/s]/usr/local/lib/python3.7/dist-packages/skimage/segmentation/random_walker_segmentation.py:470: UserWarning: Random walker only segments unlabeled areas, where labels == 0. No zero valued areas in labels were found. Returning provided labels.\n",
            "  inds_isolated_seeds, isolated_values) = _preprocess(labels)\n",
            "/usr/local/lib/python3.7/dist-packages/skimage/segmentation/random_walker_segmentation.py:470: UserWarning: Random walker only segments unlabeled areas, where labels == 0. No zero valued areas in labels were found. Returning provided labels.\n",
            "  inds_isolated_seeds, isolated_values) = _preprocess(labels)\n",
            "100%|██████████| 64/64 [00:00<00:00, 198.46it/s]\n",
            "  0%|          | 0/64 [00:00<?, ?it/s]/usr/local/lib/python3.7/dist-packages/skimage/segmentation/random_walker_segmentation.py:470: UserWarning: Random walker only segments unlabeled areas, where labels == 0. No zero valued areas in labels were found. Returning provided labels.\n",
            "  inds_isolated_seeds, isolated_values) = _preprocess(labels)\n",
            "/usr/local/lib/python3.7/dist-packages/skimage/segmentation/random_walker_segmentation.py:470: UserWarning: Random walker only segments unlabeled areas, where labels == 0. No zero valued areas in labels were found. Returning provided labels.\n",
            "  inds_isolated_seeds, isolated_values) = _preprocess(labels)\n",
            " 25%|██▌       | 16/64 [00:00<00:00, 153.70it/s]/usr/local/lib/python3.7/dist-packages/skimage/segmentation/random_walker_segmentation.py:470: UserWarning: Random walker only segments unlabeled areas, where labels == 0. No zero valued areas in labels were found. Returning provided labels.\n",
            "  inds_isolated_seeds, isolated_values) = _preprocess(labels)\n",
            "/usr/local/lib/python3.7/dist-packages/skimage/segmentation/random_walker_segmentation.py:470: UserWarning: Random walker only segments unlabeled areas, where labels == 0. No zero valued areas in labels were found. Returning provided labels.\n",
            "  inds_isolated_seeds, isolated_values) = _preprocess(labels)\n",
            "/usr/local/lib/python3.7/dist-packages/skimage/segmentation/random_walker_segmentation.py:470: UserWarning: Random walker only segments unlabeled areas, where labels == 0. No zero valued areas in labels were found. Returning provided labels.\n",
            "  inds_isolated_seeds, isolated_values) = _preprocess(labels)\n",
            " 53%|█████▎    | 34/64 [00:00<00:00, 168.58it/s]/usr/local/lib/python3.7/dist-packages/skimage/segmentation/random_walker_segmentation.py:470: UserWarning: Random walker only segments unlabeled areas, where labels == 0. No zero valued areas in labels were found. Returning provided labels.\n",
            "  inds_isolated_seeds, isolated_values) = _preprocess(labels)\n",
            " 80%|███████▉  | 51/64 [00:00<00:00, 160.79it/s]/usr/local/lib/python3.7/dist-packages/skimage/segmentation/random_walker_segmentation.py:470: UserWarning: Random walker only segments unlabeled areas, where labels == 0. No zero valued areas in labels were found. Returning provided labels.\n",
            "  inds_isolated_seeds, isolated_values) = _preprocess(labels)\n",
            "/usr/local/lib/python3.7/dist-packages/skimage/segmentation/random_walker_segmentation.py:470: UserWarning: Random walker only segments unlabeled areas, where labels == 0. No zero valued areas in labels were found. Returning provided labels.\n",
            "  inds_isolated_seeds, isolated_values) = _preprocess(labels)\n",
            "100%|██████████| 64/64 [00:00<00:00, 165.32it/s]\n",
            "  0%|          | 0/64 [00:00<?, ?it/s]/usr/local/lib/python3.7/dist-packages/skimage/segmentation/random_walker_segmentation.py:470: UserWarning: Random walker only segments unlabeled areas, where labels == 0. No zero valued areas in labels were found. Returning provided labels.\n",
            "  inds_isolated_seeds, isolated_values) = _preprocess(labels)\n",
            "/usr/local/lib/python3.7/dist-packages/skimage/segmentation/random_walker_segmentation.py:470: UserWarning: Random walker only segments unlabeled areas, where labels == 0. No zero valued areas in labels were found. Returning provided labels.\n",
            "  inds_isolated_seeds, isolated_values) = _preprocess(labels)\n",
            "/usr/local/lib/python3.7/dist-packages/skimage/segmentation/random_walker_segmentation.py:470: UserWarning: Random walker only segments unlabeled areas, where labels == 0. No zero valued areas in labels were found. Returning provided labels.\n",
            "  inds_isolated_seeds, isolated_values) = _preprocess(labels)\n",
            "/usr/local/lib/python3.7/dist-packages/skimage/segmentation/random_walker_segmentation.py:470: UserWarning: Random walker only segments unlabeled areas, where labels == 0. No zero valued areas in labels were found. Returning provided labels.\n",
            "  inds_isolated_seeds, isolated_values) = _preprocess(labels)\n",
            " 30%|██▉       | 19/64 [00:00<00:00, 182.86it/s]/usr/local/lib/python3.7/dist-packages/skimage/segmentation/random_walker_segmentation.py:470: UserWarning: Random walker only segments unlabeled areas, where labels == 0. No zero valued areas in labels were found. Returning provided labels.\n",
            "  inds_isolated_seeds, isolated_values) = _preprocess(labels)\n",
            " 66%|██████▌   | 42/64 [00:00<00:00, 203.65it/s]/usr/local/lib/python3.7/dist-packages/skimage/segmentation/random_walker_segmentation.py:470: UserWarning: Random walker only segments unlabeled areas, where labels == 0. No zero valued areas in labels were found. Returning provided labels.\n",
            "  inds_isolated_seeds, isolated_values) = _preprocess(labels)\n",
            "/usr/local/lib/python3.7/dist-packages/skimage/segmentation/random_walker_segmentation.py:470: UserWarning: Random walker only segments unlabeled areas, where labels == 0. No zero valued areas in labels were found. Returning provided labels.\n",
            "  inds_isolated_seeds, isolated_values) = _preprocess(labels)\n",
            "/usr/local/lib/python3.7/dist-packages/skimage/segmentation/random_walker_segmentation.py:470: UserWarning: Random walker only segments unlabeled areas, where labels == 0. No zero valued areas in labels were found. Returning provided labels.\n",
            "  inds_isolated_seeds, isolated_values) = _preprocess(labels)\n",
            "/usr/local/lib/python3.7/dist-packages/skimage/segmentation/random_walker_segmentation.py:470: UserWarning: Random walker only segments unlabeled areas, where labels == 0. No zero valued areas in labels were found. Returning provided labels.\n",
            "  inds_isolated_seeds, isolated_values) = _preprocess(labels)\n",
            "100%|██████████| 64/64 [00:00<00:00, 201.66it/s]\n"
          ]
        },
        {
          "output_type": "stream",
          "name": "stdout",
          "text": [
            "Проверяем размерность модели: (64, 64, 64)\n"
          ]
        },
        {
          "output_type": "stream",
          "name": "stderr",
          "text": [
            " 23%|██▎       | 15/64 [00:00<00:00, 141.21it/s]/usr/local/lib/python3.7/dist-packages/skimage/segmentation/random_walker_segmentation.py:470: UserWarning: Random walker only segments unlabeled areas, where labels == 0. No zero valued areas in labels were found. Returning provided labels.\n",
            "  inds_isolated_seeds, isolated_values) = _preprocess(labels)\n",
            " 47%|████▋     | 30/64 [00:00<00:00, 139.34it/s]/usr/local/lib/python3.7/dist-packages/skimage/segmentation/random_walker_segmentation.py:470: UserWarning: Random walker only segments unlabeled areas, where labels == 0. No zero valued areas in labels were found. Returning provided labels.\n",
            "  inds_isolated_seeds, isolated_values) = _preprocess(labels)\n",
            "100%|██████████| 64/64 [00:00<00:00, 136.61it/s]\n",
            "  0%|          | 0/64 [00:00<?, ?it/s]/usr/local/lib/python3.7/dist-packages/skimage/segmentation/random_walker_segmentation.py:470: UserWarning: Random walker only segments unlabeled areas, where labels == 0. No zero valued areas in labels were found. Returning provided labels.\n",
            "  inds_isolated_seeds, isolated_values) = _preprocess(labels)\n",
            "/usr/local/lib/python3.7/dist-packages/skimage/segmentation/random_walker_segmentation.py:470: UserWarning: Random walker only segments unlabeled areas, where labels == 0. No zero valued areas in labels were found. Returning provided labels.\n",
            "  inds_isolated_seeds, isolated_values) = _preprocess(labels)\n",
            " 27%|██▋       | 17/64 [00:00<00:00, 169.52it/s]/usr/local/lib/python3.7/dist-packages/skimage/segmentation/random_walker_segmentation.py:470: UserWarning: Random walker only segments unlabeled areas, where labels == 0. No zero valued areas in labels were found. Returning provided labels.\n",
            "  inds_isolated_seeds, isolated_values) = _preprocess(labels)\n",
            " 53%|█████▎    | 34/64 [00:00<00:00, 164.29it/s]/usr/local/lib/python3.7/dist-packages/skimage/segmentation/random_walker_segmentation.py:470: UserWarning: Random walker only segments unlabeled areas, where labels == 0. No zero valued areas in labels were found. Returning provided labels.\n",
            "  inds_isolated_seeds, isolated_values) = _preprocess(labels)\n",
            " 80%|███████▉  | 51/64 [00:00<00:00, 160.29it/s]/usr/local/lib/python3.7/dist-packages/skimage/segmentation/random_walker_segmentation.py:470: UserWarning: Random walker only segments unlabeled areas, where labels == 0. No zero valued areas in labels were found. Returning provided labels.\n",
            "  inds_isolated_seeds, isolated_values) = _preprocess(labels)\n",
            "100%|██████████| 64/64 [00:00<00:00, 161.67it/s]\n",
            "  0%|          | 0/64 [00:00<?, ?it/s]/usr/local/lib/python3.7/dist-packages/skimage/segmentation/random_walker_segmentation.py:470: UserWarning: Random walker only segments unlabeled areas, where labels == 0. No zero valued areas in labels were found. Returning provided labels.\n",
            "  inds_isolated_seeds, isolated_values) = _preprocess(labels)\n",
            "/usr/local/lib/python3.7/dist-packages/skimage/segmentation/random_walker_segmentation.py:470: UserWarning: Random walker only segments unlabeled areas, where labels == 0. No zero valued areas in labels were found. Returning provided labels.\n",
            "  inds_isolated_seeds, isolated_values) = _preprocess(labels)\n",
            " 25%|██▌       | 16/64 [00:00<00:00, 154.72it/s]/usr/local/lib/python3.7/dist-packages/skimage/segmentation/random_walker_segmentation.py:470: UserWarning: Random walker only segments unlabeled areas, where labels == 0. No zero valued areas in labels were found. Returning provided labels.\n",
            "  inds_isolated_seeds, isolated_values) = _preprocess(labels)\n",
            "/usr/local/lib/python3.7/dist-packages/skimage/segmentation/random_walker_segmentation.py:470: UserWarning: Random walker only segments unlabeled areas, where labels == 0. No zero valued areas in labels were found. Returning provided labels.\n",
            "  inds_isolated_seeds, isolated_values) = _preprocess(labels)\n",
            " 55%|█████▍    | 35/64 [00:00<00:00, 174.60it/s]/usr/local/lib/python3.7/dist-packages/skimage/segmentation/random_walker_segmentation.py:470: UserWarning: Random walker only segments unlabeled areas, where labels == 0. No zero valued areas in labels were found. Returning provided labels.\n",
            "  inds_isolated_seeds, isolated_values) = _preprocess(labels)\n",
            "/usr/local/lib/python3.7/dist-packages/skimage/segmentation/random_walker_segmentation.py:470: UserWarning: Random walker only segments unlabeled areas, where labels == 0. No zero valued areas in labels were found. Returning provided labels.\n",
            "  inds_isolated_seeds, isolated_values) = _preprocess(labels)\n",
            " 83%|████████▎ | 53/64 [00:00<00:00, 162.34it/s]/usr/local/lib/python3.7/dist-packages/skimage/segmentation/random_walker_segmentation.py:470: UserWarning: Random walker only segments unlabeled areas, where labels == 0. No zero valued areas in labels were found. Returning provided labels.\n",
            "  inds_isolated_seeds, isolated_values) = _preprocess(labels)\n",
            "100%|██████████| 64/64 [00:00<00:00, 161.02it/s]\n"
          ]
        },
        {
          "output_type": "stream",
          "name": "stdout",
          "text": [
            "Проверяем размерность модели: (64, 64, 64)\n"
          ]
        },
        {
          "output_type": "stream",
          "name": "stderr",
          "text": [
            "100%|██████████| 64/64 [00:00<00:00, 130.89it/s]\n",
            "100%|██████████| 64/64 [00:00<00:00, 113.23it/s]\n",
            "100%|██████████| 64/64 [00:00<00:00, 140.94it/s]\n"
          ]
        },
        {
          "output_type": "stream",
          "name": "stdout",
          "text": [
            "Проверяем размерность модели: (64, 64, 64)\n"
          ]
        },
        {
          "output_type": "stream",
          "name": "stderr",
          "text": [
            "  0%|          | 0/64 [00:00<?, ?it/s]/usr/local/lib/python3.7/dist-packages/skimage/segmentation/random_walker_segmentation.py:470: UserWarning: Random walker only segments unlabeled areas, where labels == 0. No zero valued areas in labels were found. Returning provided labels.\n",
            "  inds_isolated_seeds, isolated_values) = _preprocess(labels)\n",
            "/usr/local/lib/python3.7/dist-packages/skimage/segmentation/random_walker_segmentation.py:470: UserWarning: Random walker only segments unlabeled areas, where labels == 0. No zero valued areas in labels were found. Returning provided labels.\n",
            "  inds_isolated_seeds, isolated_values) = _preprocess(labels)\n",
            "/usr/local/lib/python3.7/dist-packages/skimage/segmentation/random_walker_segmentation.py:470: UserWarning: Random walker only segments unlabeled areas, where labels == 0. No zero valued areas in labels were found. Returning provided labels.\n",
            "  inds_isolated_seeds, isolated_values) = _preprocess(labels)\n",
            " 27%|██▋       | 17/64 [00:00<00:00, 168.80it/s]/usr/local/lib/python3.7/dist-packages/skimage/segmentation/random_walker_segmentation.py:470: UserWarning: Random walker only segments unlabeled areas, where labels == 0. No zero valued areas in labels were found. Returning provided labels.\n",
            "  inds_isolated_seeds, isolated_values) = _preprocess(labels)\n",
            "/usr/local/lib/python3.7/dist-packages/skimage/segmentation/random_walker_segmentation.py:470: UserWarning: Random walker only segments unlabeled areas, where labels == 0. No zero valued areas in labels were found. Returning provided labels.\n",
            "  inds_isolated_seeds, isolated_values) = _preprocess(labels)\n",
            " 55%|█████▍    | 35/64 [00:00<00:00, 170.33it/s]/usr/local/lib/python3.7/dist-packages/skimage/segmentation/random_walker_segmentation.py:470: UserWarning: Random walker only segments unlabeled areas, where labels == 0. No zero valued areas in labels were found. Returning provided labels.\n",
            "  inds_isolated_seeds, isolated_values) = _preprocess(labels)\n",
            "100%|██████████| 64/64 [00:00<00:00, 161.54it/s]\n",
            "  0%|          | 0/64 [00:00<?, ?it/s]/usr/local/lib/python3.7/dist-packages/skimage/segmentation/random_walker_segmentation.py:470: UserWarning: Random walker only segments unlabeled areas, where labels == 0. No zero valued areas in labels were found. Returning provided labels.\n",
            "  inds_isolated_seeds, isolated_values) = _preprocess(labels)\n",
            "/usr/local/lib/python3.7/dist-packages/skimage/segmentation/random_walker_segmentation.py:470: UserWarning: Random walker only segments unlabeled areas, where labels == 0. No zero valued areas in labels were found. Returning provided labels.\n",
            "  inds_isolated_seeds, isolated_values) = _preprocess(labels)\n",
            " 36%|███▌      | 23/64 [00:00<00:00, 228.19it/s]/usr/local/lib/python3.7/dist-packages/skimage/segmentation/random_walker_segmentation.py:470: UserWarning: Random walker only segments unlabeled areas, where labels == 0. No zero valued areas in labels were found. Returning provided labels.\n",
            "  inds_isolated_seeds, isolated_values) = _preprocess(labels)\n",
            "/usr/local/lib/python3.7/dist-packages/skimage/segmentation/random_walker_segmentation.py:470: UserWarning: Random walker only segments unlabeled areas, where labels == 0. No zero valued areas in labels were found. Returning provided labels.\n",
            "  inds_isolated_seeds, isolated_values) = _preprocess(labels)\n",
            "/usr/local/lib/python3.7/dist-packages/skimage/segmentation/random_walker_segmentation.py:470: UserWarning: Random walker only segments unlabeled areas, where labels == 0. No zero valued areas in labels were found. Returning provided labels.\n",
            "  inds_isolated_seeds, isolated_values) = _preprocess(labels)\n",
            " 72%|███████▏  | 46/64 [00:00<00:00, 188.45it/s]/usr/local/lib/python3.7/dist-packages/skimage/segmentation/random_walker_segmentation.py:470: UserWarning: Random walker only segments unlabeled areas, where labels == 0. No zero valued areas in labels were found. Returning provided labels.\n",
            "  inds_isolated_seeds, isolated_values) = _preprocess(labels)\n",
            "/usr/local/lib/python3.7/dist-packages/skimage/segmentation/random_walker_segmentation.py:470: UserWarning: Random walker only segments unlabeled areas, where labels == 0. No zero valued areas in labels were found. Returning provided labels.\n",
            "  inds_isolated_seeds, isolated_values) = _preprocess(labels)\n",
            "/usr/local/lib/python3.7/dist-packages/skimage/segmentation/random_walker_segmentation.py:470: UserWarning: Random walker only segments unlabeled areas, where labels == 0. No zero valued areas in labels were found. Returning provided labels.\n",
            "  inds_isolated_seeds, isolated_values) = _preprocess(labels)\n",
            "100%|██████████| 64/64 [00:00<00:00, 189.23it/s]\n",
            "  0%|          | 0/64 [00:00<?, ?it/s]/usr/local/lib/python3.7/dist-packages/skimage/segmentation/random_walker_segmentation.py:470: UserWarning: Random walker only segments unlabeled areas, where labels == 0. No zero valued areas in labels were found. Returning provided labels.\n",
            "  inds_isolated_seeds, isolated_values) = _preprocess(labels)\n",
            " 19%|█▉        | 12/64 [00:00<00:00, 114.87it/s]/usr/local/lib/python3.7/dist-packages/skimage/segmentation/random_walker_segmentation.py:470: UserWarning: Random walker only segments unlabeled areas, where labels == 0. No zero valued areas in labels were found. Returning provided labels.\n",
            "  inds_isolated_seeds, isolated_values) = _preprocess(labels)\n",
            "/usr/local/lib/python3.7/dist-packages/skimage/segmentation/random_walker_segmentation.py:470: UserWarning: Random walker only segments unlabeled areas, where labels == 0. No zero valued areas in labels were found. Returning provided labels.\n",
            "  inds_isolated_seeds, isolated_values) = _preprocess(labels)\n",
            " 44%|████▍     | 28/64 [00:00<00:00, 140.66it/s]/usr/local/lib/python3.7/dist-packages/skimage/segmentation/random_walker_segmentation.py:470: UserWarning: Random walker only segments unlabeled areas, where labels == 0. No zero valued areas in labels were found. Returning provided labels.\n",
            "  inds_isolated_seeds, isolated_values) = _preprocess(labels)\n",
            " 70%|███████   | 45/64 [00:00<00:00, 147.47it/s]/usr/local/lib/python3.7/dist-packages/skimage/segmentation/random_walker_segmentation.py:470: UserWarning: Random walker only segments unlabeled areas, where labels == 0. No zero valued areas in labels were found. Returning provided labels.\n",
            "  inds_isolated_seeds, isolated_values) = _preprocess(labels)\n",
            "100%|██████████| 64/64 [00:00<00:00, 137.74it/s]\n"
          ]
        },
        {
          "output_type": "stream",
          "name": "stdout",
          "text": [
            "Проверяем размерность модели: (64, 64, 64)\n"
          ]
        },
        {
          "output_type": "stream",
          "name": "stderr",
          "text": [
            " 23%|██▎       | 15/64 [00:00<00:00, 144.60it/s]/usr/local/lib/python3.7/dist-packages/skimage/segmentation/random_walker_segmentation.py:470: UserWarning: Random walker only segments unlabeled areas, where labels == 0. No zero valued areas in labels were found. Returning provided labels.\n",
            "  inds_isolated_seeds, isolated_values) = _preprocess(labels)\n",
            " 70%|███████   | 45/64 [00:00<00:00, 140.67it/s]/usr/local/lib/python3.7/dist-packages/skimage/segmentation/random_walker_segmentation.py:470: UserWarning: Random walker only segments unlabeled areas, where labels == 0. No zero valued areas in labels were found. Returning provided labels.\n",
            "  inds_isolated_seeds, isolated_values) = _preprocess(labels)\n",
            "100%|██████████| 64/64 [00:00<00:00, 143.61it/s]\n",
            "100%|██████████| 64/64 [00:00<00:00, 148.29it/s]\n",
            "  0%|          | 0/64 [00:00<?, ?it/s]/usr/local/lib/python3.7/dist-packages/skimage/segmentation/random_walker_segmentation.py:470: UserWarning: Random walker only segments unlabeled areas, where labels == 0. No zero valued areas in labels were found. Returning provided labels.\n",
            "  inds_isolated_seeds, isolated_values) = _preprocess(labels)\n",
            " 44%|████▍     | 28/64 [00:00<00:00, 134.23it/s]/usr/local/lib/python3.7/dist-packages/skimage/segmentation/random_walker_segmentation.py:470: UserWarning: Random walker only segments unlabeled areas, where labels == 0. No zero valued areas in labels were found. Returning provided labels.\n",
            "  inds_isolated_seeds, isolated_values) = _preprocess(labels)\n",
            "100%|██████████| 64/64 [00:00<00:00, 139.65it/s]\n"
          ]
        },
        {
          "output_type": "stream",
          "name": "stdout",
          "text": [
            "Проверяем размерность модели: (64, 64, 64)\n"
          ]
        },
        {
          "output_type": "stream",
          "name": "stderr",
          "text": [
            "  0%|          | 0/64 [00:00<?, ?it/s]/usr/local/lib/python3.7/dist-packages/skimage/segmentation/random_walker_segmentation.py:470: UserWarning: Random walker only segments unlabeled areas, where labels == 0. No zero valued areas in labels were found. Returning provided labels.\n",
            "  inds_isolated_seeds, isolated_values) = _preprocess(labels)\n",
            "/usr/local/lib/python3.7/dist-packages/skimage/segmentation/random_walker_segmentation.py:470: UserWarning: Random walker only segments unlabeled areas, where labels == 0. No zero valued areas in labels were found. Returning provided labels.\n",
            "  inds_isolated_seeds, isolated_values) = _preprocess(labels)\n",
            " 28%|██▊       | 18/64 [00:00<00:00, 169.84it/s]/usr/local/lib/python3.7/dist-packages/skimage/segmentation/random_walker_segmentation.py:470: UserWarning: Random walker only segments unlabeled areas, where labels == 0. No zero valued areas in labels were found. Returning provided labels.\n",
            "  inds_isolated_seeds, isolated_values) = _preprocess(labels)\n",
            "/usr/local/lib/python3.7/dist-packages/skimage/segmentation/random_walker_segmentation.py:470: UserWarning: Random walker only segments unlabeled areas, where labels == 0. No zero valued areas in labels were found. Returning provided labels.\n",
            "  inds_isolated_seeds, isolated_values) = _preprocess(labels)\n",
            "/usr/local/lib/python3.7/dist-packages/skimage/segmentation/random_walker_segmentation.py:470: UserWarning: Random walker only segments unlabeled areas, where labels == 0. No zero valued areas in labels were found. Returning provided labels.\n",
            "  inds_isolated_seeds, isolated_values) = _preprocess(labels)\n",
            " 64%|██████▍   | 41/64 [00:00<00:00, 199.87it/s]/usr/local/lib/python3.7/dist-packages/skimage/segmentation/random_walker_segmentation.py:470: UserWarning: Random walker only segments unlabeled areas, where labels == 0. No zero valued areas in labels were found. Returning provided labels.\n",
            "  inds_isolated_seeds, isolated_values) = _preprocess(labels)\n",
            "/usr/local/lib/python3.7/dist-packages/skimage/segmentation/random_walker_segmentation.py:470: UserWarning: Random walker only segments unlabeled areas, where labels == 0. No zero valued areas in labels were found. Returning provided labels.\n",
            "  inds_isolated_seeds, isolated_values) = _preprocess(labels)\n",
            "/usr/local/lib/python3.7/dist-packages/skimage/segmentation/random_walker_segmentation.py:470: UserWarning: Random walker only segments unlabeled areas, where labels == 0. No zero valued areas in labels were found. Returning provided labels.\n",
            "  inds_isolated_seeds, isolated_values) = _preprocess(labels)\n",
            "100%|██████████| 64/64 [00:00<00:00, 183.55it/s]\n",
            "  0%|          | 0/64 [00:00<?, ?it/s]/usr/local/lib/python3.7/dist-packages/skimage/segmentation/random_walker_segmentation.py:470: UserWarning: Random walker only segments unlabeled areas, where labels == 0. No zero valued areas in labels were found. Returning provided labels.\n",
            "  inds_isolated_seeds, isolated_values) = _preprocess(labels)\n",
            "/usr/local/lib/python3.7/dist-packages/skimage/segmentation/random_walker_segmentation.py:470: UserWarning: Random walker only segments unlabeled areas, where labels == 0. No zero valued areas in labels were found. Returning provided labels.\n",
            "  inds_isolated_seeds, isolated_values) = _preprocess(labels)\n",
            "/usr/local/lib/python3.7/dist-packages/skimage/segmentation/random_walker_segmentation.py:470: UserWarning: Random walker only segments unlabeled areas, where labels == 0. No zero valued areas in labels were found. Returning provided labels.\n",
            "  inds_isolated_seeds, isolated_values) = _preprocess(labels)\n",
            " 27%|██▋       | 17/64 [00:00<00:00, 165.96it/s]/usr/local/lib/python3.7/dist-packages/skimage/segmentation/random_walker_segmentation.py:470: UserWarning: Random walker only segments unlabeled areas, where labels == 0. No zero valued areas in labels were found. Returning provided labels.\n",
            "  inds_isolated_seeds, isolated_values) = _preprocess(labels)\n",
            "/usr/local/lib/python3.7/dist-packages/skimage/segmentation/random_walker_segmentation.py:470: UserWarning: Random walker only segments unlabeled areas, where labels == 0. No zero valued areas in labels were found. Returning provided labels.\n",
            "  inds_isolated_seeds, isolated_values) = _preprocess(labels)\n",
            " 61%|██████    | 39/64 [00:00<00:00, 192.73it/s]/usr/local/lib/python3.7/dist-packages/skimage/segmentation/random_walker_segmentation.py:470: UserWarning: Random walker only segments unlabeled areas, where labels == 0. No zero valued areas in labels were found. Returning provided labels.\n",
            "  inds_isolated_seeds, isolated_values) = _preprocess(labels)\n",
            "/usr/local/lib/python3.7/dist-packages/skimage/segmentation/random_walker_segmentation.py:470: UserWarning: Random walker only segments unlabeled areas, where labels == 0. No zero valued areas in labels were found. Returning provided labels.\n",
            "  inds_isolated_seeds, isolated_values) = _preprocess(labels)\n",
            "/usr/local/lib/python3.7/dist-packages/skimage/segmentation/random_walker_segmentation.py:470: UserWarning: Random walker only segments unlabeled areas, where labels == 0. No zero valued areas in labels were found. Returning provided labels.\n",
            "  inds_isolated_seeds, isolated_values) = _preprocess(labels)\n",
            " 92%|█████████▏| 59/64 [00:00<00:00, 181.86it/s]/usr/local/lib/python3.7/dist-packages/skimage/segmentation/random_walker_segmentation.py:470: UserWarning: Random walker only segments unlabeled areas, where labels == 0. No zero valued areas in labels were found. Returning provided labels.\n",
            "  inds_isolated_seeds, isolated_values) = _preprocess(labels)\n",
            "100%|██████████| 64/64 [00:00<00:00, 184.45it/s]\n",
            "  0%|          | 0/64 [00:00<?, ?it/s]/usr/local/lib/python3.7/dist-packages/skimage/segmentation/random_walker_segmentation.py:470: UserWarning: Random walker only segments unlabeled areas, where labels == 0. No zero valued areas in labels were found. Returning provided labels.\n",
            "  inds_isolated_seeds, isolated_values) = _preprocess(labels)\n",
            "/usr/local/lib/python3.7/dist-packages/skimage/segmentation/random_walker_segmentation.py:470: UserWarning: Random walker only segments unlabeled areas, where labels == 0. No zero valued areas in labels were found. Returning provided labels.\n",
            "  inds_isolated_seeds, isolated_values) = _preprocess(labels)\n",
            " 36%|███▌      | 23/64 [00:00<00:00, 224.27it/s]/usr/local/lib/python3.7/dist-packages/skimage/segmentation/random_walker_segmentation.py:470: UserWarning: Random walker only segments unlabeled areas, where labels == 0. No zero valued areas in labels were found. Returning provided labels.\n",
            "  inds_isolated_seeds, isolated_values) = _preprocess(labels)\n",
            "/usr/local/lib/python3.7/dist-packages/skimage/segmentation/random_walker_segmentation.py:470: UserWarning: Random walker only segments unlabeled areas, where labels == 0. No zero valued areas in labels were found. Returning provided labels.\n",
            "  inds_isolated_seeds, isolated_values) = _preprocess(labels)\n",
            " 72%|███████▏  | 46/64 [00:00<00:00, 189.92it/s]/usr/local/lib/python3.7/dist-packages/skimage/segmentation/random_walker_segmentation.py:470: UserWarning: Random walker only segments unlabeled areas, where labels == 0. No zero valued areas in labels were found. Returning provided labels.\n",
            "  inds_isolated_seeds, isolated_values) = _preprocess(labels)\n",
            "/usr/local/lib/python3.7/dist-packages/skimage/segmentation/random_walker_segmentation.py:470: UserWarning: Random walker only segments unlabeled areas, where labels == 0. No zero valued areas in labels were found. Returning provided labels.\n",
            "  inds_isolated_seeds, isolated_values) = _preprocess(labels)\n",
            "/usr/local/lib/python3.7/dist-packages/skimage/segmentation/random_walker_segmentation.py:470: UserWarning: Random walker only segments unlabeled areas, where labels == 0. No zero valued areas in labels were found. Returning provided labels.\n",
            "  inds_isolated_seeds, isolated_values) = _preprocess(labels)\n",
            "100%|██████████| 64/64 [00:00<00:00, 191.74it/s]\n"
          ]
        },
        {
          "output_type": "stream",
          "name": "stdout",
          "text": [
            "Проверяем размерность модели: (64, 64, 64)\n"
          ]
        },
        {
          "output_type": "stream",
          "name": "stderr",
          "text": [
            "100%|██████████| 64/64 [00:00<00:00, 119.03it/s]\n",
            "100%|██████████| 64/64 [00:00<00:00, 127.80it/s]\n",
            "100%|██████████| 64/64 [00:00<00:00, 129.44it/s]\n"
          ]
        },
        {
          "output_type": "stream",
          "name": "stdout",
          "text": [
            "Проверяем размерность модели: (64, 64, 64)\n"
          ]
        },
        {
          "output_type": "stream",
          "name": "stderr",
          "text": [
            "100%|██████████| 64/64 [00:00<00:00, 124.88it/s]\n",
            "100%|██████████| 64/64 [00:00<00:00, 141.82it/s]\n",
            "  0%|          | 0/64 [00:00<?, ?it/s]/usr/local/lib/python3.7/dist-packages/skimage/segmentation/random_walker_segmentation.py:470: UserWarning: Random walker only segments unlabeled areas, where labels == 0. No zero valued areas in labels were found. Returning provided labels.\n",
            "  inds_isolated_seeds, isolated_values) = _preprocess(labels)\n",
            "100%|██████████| 64/64 [00:00<00:00, 100.61it/s]\n"
          ]
        },
        {
          "output_type": "stream",
          "name": "stdout",
          "text": [
            "Проверяем размерность модели: (64, 64, 64)\n"
          ]
        },
        {
          "output_type": "stream",
          "name": "stderr",
          "text": [
            "  0%|          | 0/64 [00:00<?, ?it/s]/usr/local/lib/python3.7/dist-packages/skimage/segmentation/random_walker_segmentation.py:470: UserWarning: Random walker only segments unlabeled areas, where labels == 0. No zero valued areas in labels were found. Returning provided labels.\n",
            "  inds_isolated_seeds, isolated_values) = _preprocess(labels)\n",
            " 53%|█████▎    | 34/64 [00:00<00:00, 147.41it/s]/usr/local/lib/python3.7/dist-packages/skimage/segmentation/random_walker_segmentation.py:470: UserWarning: Random walker only segments unlabeled areas, where labels == 0. No zero valued areas in labels were found. Returning provided labels.\n",
            "  inds_isolated_seeds, isolated_values) = _preprocess(labels)\n",
            "100%|██████████| 64/64 [00:00<00:00, 142.51it/s]\n",
            "  0%|          | 0/64 [00:00<?, ?it/s]/usr/local/lib/python3.7/dist-packages/skimage/segmentation/random_walker_segmentation.py:470: UserWarning: Random walker only segments unlabeled areas, where labels == 0. No zero valued areas in labels were found. Returning provided labels.\n",
            "  inds_isolated_seeds, isolated_values) = _preprocess(labels)\n",
            "/usr/local/lib/python3.7/dist-packages/skimage/segmentation/random_walker_segmentation.py:470: UserWarning: Random walker only segments unlabeled areas, where labels == 0. No zero valued areas in labels were found. Returning provided labels.\n",
            "  inds_isolated_seeds, isolated_values) = _preprocess(labels)\n",
            " 28%|██▊       | 18/64 [00:00<00:00, 170.44it/s]/usr/local/lib/python3.7/dist-packages/skimage/segmentation/random_walker_segmentation.py:470: UserWarning: Random walker only segments unlabeled areas, where labels == 0. No zero valued areas in labels were found. Returning provided labels.\n",
            "  inds_isolated_seeds, isolated_values) = _preprocess(labels)\n",
            "100%|██████████| 64/64 [00:00<00:00, 163.57it/s]\n",
            " 47%|████▋     | 30/64 [00:00<00:00, 141.02it/s]/usr/local/lib/python3.7/dist-packages/skimage/segmentation/random_walker_segmentation.py:470: UserWarning: Random walker only segments unlabeled areas, where labels == 0. No zero valued areas in labels were found. Returning provided labels.\n",
            "  inds_isolated_seeds, isolated_values) = _preprocess(labels)\n",
            "100%|██████████| 64/64 [00:00<00:00, 143.84it/s]\n"
          ]
        },
        {
          "output_type": "stream",
          "name": "stdout",
          "text": [
            "Проверяем размерность модели: (64, 64, 64)\n"
          ]
        },
        {
          "output_type": "stream",
          "name": "stderr",
          "text": [
            "  0%|          | 0/64 [00:00<?, ?it/s]/usr/local/lib/python3.7/dist-packages/skimage/segmentation/random_walker_segmentation.py:470: UserWarning: Random walker only segments unlabeled areas, where labels == 0. No zero valued areas in labels were found. Returning provided labels.\n",
            "  inds_isolated_seeds, isolated_values) = _preprocess(labels)\n",
            " 22%|██▏       | 14/64 [00:00<00:00, 134.58it/s]/usr/local/lib/python3.7/dist-packages/skimage/segmentation/random_walker_segmentation.py:470: UserWarning: Random walker only segments unlabeled areas, where labels == 0. No zero valued areas in labels were found. Returning provided labels.\n",
            "  inds_isolated_seeds, isolated_values) = _preprocess(labels)\n",
            " 66%|██████▌   | 42/64 [00:00<00:00, 126.51it/s]/usr/local/lib/python3.7/dist-packages/skimage/segmentation/random_walker_segmentation.py:470: UserWarning: Random walker only segments unlabeled areas, where labels == 0. No zero valued areas in labels were found. Returning provided labels.\n",
            "  inds_isolated_seeds, isolated_values) = _preprocess(labels)\n",
            "/usr/local/lib/python3.7/dist-packages/skimage/segmentation/random_walker_segmentation.py:470: UserWarning: Random walker only segments unlabeled areas, where labels == 0. No zero valued areas in labels were found. Returning provided labels.\n",
            "  inds_isolated_seeds, isolated_values) = _preprocess(labels)\n",
            " 94%|█████████▍| 60/64 [00:00<00:00, 143.33it/s]/usr/local/lib/python3.7/dist-packages/skimage/segmentation/random_walker_segmentation.py:470: UserWarning: Random walker only segments unlabeled areas, where labels == 0. No zero valued areas in labels were found. Returning provided labels.\n",
            "  inds_isolated_seeds, isolated_values) = _preprocess(labels)\n",
            "100%|██████████| 64/64 [00:00<00:00, 136.52it/s]\n",
            "  0%|          | 0/64 [00:00<?, ?it/s]/usr/local/lib/python3.7/dist-packages/skimage/segmentation/random_walker_segmentation.py:470: UserWarning: Random walker only segments unlabeled areas, where labels == 0. No zero valued areas in labels were found. Returning provided labels.\n",
            "  inds_isolated_seeds, isolated_values) = _preprocess(labels)\n",
            "/usr/local/lib/python3.7/dist-packages/skimage/segmentation/random_walker_segmentation.py:470: UserWarning: Random walker only segments unlabeled areas, where labels == 0. No zero valued areas in labels were found. Returning provided labels.\n",
            "  inds_isolated_seeds, isolated_values) = _preprocess(labels)\n",
            "/usr/local/lib/python3.7/dist-packages/skimage/segmentation/random_walker_segmentation.py:470: UserWarning: Random walker only segments unlabeled areas, where labels == 0. No zero valued areas in labels were found. Returning provided labels.\n",
            "  inds_isolated_seeds, isolated_values) = _preprocess(labels)\n",
            " 25%|██▌       | 16/64 [00:00<00:00, 150.43it/s]/usr/local/lib/python3.7/dist-packages/skimage/segmentation/random_walker_segmentation.py:470: UserWarning: Random walker only segments unlabeled areas, where labels == 0. No zero valued areas in labels were found. Returning provided labels.\n",
            "  inds_isolated_seeds, isolated_values) = _preprocess(labels)\n",
            " 73%|███████▎  | 47/64 [00:00<00:00, 146.52it/s]/usr/local/lib/python3.7/dist-packages/skimage/segmentation/random_walker_segmentation.py:470: UserWarning: Random walker only segments unlabeled areas, where labels == 0. No zero valued areas in labels were found. Returning provided labels.\n",
            "  inds_isolated_seeds, isolated_values) = _preprocess(labels)\n",
            "/usr/local/lib/python3.7/dist-packages/skimage/segmentation/random_walker_segmentation.py:470: UserWarning: Random walker only segments unlabeled areas, where labels == 0. No zero valued areas in labels were found. Returning provided labels.\n",
            "  inds_isolated_seeds, isolated_values) = _preprocess(labels)\n",
            "100%|██████████| 64/64 [00:00<00:00, 145.21it/s]\n",
            " 23%|██▎       | 15/64 [00:00<00:00, 146.80it/s]/usr/local/lib/python3.7/dist-packages/skimage/segmentation/random_walker_segmentation.py:470: UserWarning: Random walker only segments unlabeled areas, where labels == 0. No zero valued areas in labels were found. Returning provided labels.\n",
            "  inds_isolated_seeds, isolated_values) = _preprocess(labels)\n",
            " 73%|███████▎  | 47/64 [00:00<00:00, 141.90it/s]/usr/local/lib/python3.7/dist-packages/skimage/segmentation/random_walker_segmentation.py:470: UserWarning: Random walker only segments unlabeled areas, where labels == 0. No zero valued areas in labels were found. Returning provided labels.\n",
            "  inds_isolated_seeds, isolated_values) = _preprocess(labels)\n",
            "100%|██████████| 64/64 [00:00<00:00, 143.66it/s]\n"
          ]
        },
        {
          "output_type": "stream",
          "name": "stdout",
          "text": [
            "Проверяем размерность модели: (64, 64, 64)\n"
          ]
        },
        {
          "output_type": "stream",
          "name": "stderr",
          "text": [
            "  0%|          | 0/64 [00:00<?, ?it/s]/usr/local/lib/python3.7/dist-packages/skimage/segmentation/random_walker_segmentation.py:470: UserWarning: Random walker only segments unlabeled areas, where labels == 0. No zero valued areas in labels were found. Returning provided labels.\n",
            "  inds_isolated_seeds, isolated_values) = _preprocess(labels)\n",
            " 22%|██▏       | 14/64 [00:00<00:00, 137.50it/s]/usr/local/lib/python3.7/dist-packages/skimage/segmentation/random_walker_segmentation.py:470: UserWarning: Random walker only segments unlabeled areas, where labels == 0. No zero valued areas in labels were found. Returning provided labels.\n",
            "  inds_isolated_seeds, isolated_values) = _preprocess(labels)\n",
            "/usr/local/lib/python3.7/dist-packages/skimage/segmentation/random_walker_segmentation.py:470: UserWarning: Random walker only segments unlabeled areas, where labels == 0. No zero valued areas in labels were found. Returning provided labels.\n",
            "  inds_isolated_seeds, isolated_values) = _preprocess(labels)\n",
            " 47%|████▋     | 30/64 [00:00<00:00, 145.38it/s]/usr/local/lib/python3.7/dist-packages/skimage/segmentation/random_walker_segmentation.py:470: UserWarning: Random walker only segments unlabeled areas, where labels == 0. No zero valued areas in labels were found. Returning provided labels.\n",
            "  inds_isolated_seeds, isolated_values) = _preprocess(labels)\n",
            "/usr/local/lib/python3.7/dist-packages/skimage/segmentation/random_walker_segmentation.py:470: UserWarning: Random walker only segments unlabeled areas, where labels == 0. No zero valued areas in labels were found. Returning provided labels.\n",
            "  inds_isolated_seeds, isolated_values) = _preprocess(labels)\n",
            " 70%|███████   | 45/64 [00:00<00:00, 142.04it/s]/usr/local/lib/python3.7/dist-packages/skimage/segmentation/random_walker_segmentation.py:470: UserWarning: Random walker only segments unlabeled areas, where labels == 0. No zero valued areas in labels were found. Returning provided labels.\n",
            "  inds_isolated_seeds, isolated_values) = _preprocess(labels)\n",
            " 94%|█████████▍| 60/64 [00:00<00:00, 141.74it/s]/usr/local/lib/python3.7/dist-packages/skimage/segmentation/random_walker_segmentation.py:470: UserWarning: Random walker only segments unlabeled areas, where labels == 0. No zero valued areas in labels were found. Returning provided labels.\n",
            "  inds_isolated_seeds, isolated_values) = _preprocess(labels)\n",
            "100%|██████████| 64/64 [00:00<00:00, 144.27it/s]\n",
            "  0%|          | 0/64 [00:00<?, ?it/s]/usr/local/lib/python3.7/dist-packages/skimage/segmentation/random_walker_segmentation.py:470: UserWarning: Random walker only segments unlabeled areas, where labels == 0. No zero valued areas in labels were found. Returning provided labels.\n",
            "  inds_isolated_seeds, isolated_values) = _preprocess(labels)\n",
            "/usr/local/lib/python3.7/dist-packages/skimage/segmentation/random_walker_segmentation.py:470: UserWarning: Random walker only segments unlabeled areas, where labels == 0. No zero valued areas in labels were found. Returning provided labels.\n",
            "  inds_isolated_seeds, isolated_values) = _preprocess(labels)\n",
            "/usr/local/lib/python3.7/dist-packages/skimage/segmentation/random_walker_segmentation.py:470: UserWarning: Random walker only segments unlabeled areas, where labels == 0. No zero valued areas in labels were found. Returning provided labels.\n",
            "  inds_isolated_seeds, isolated_values) = _preprocess(labels)\n",
            " 27%|██▋       | 17/64 [00:00<00:00, 167.75it/s]/usr/local/lib/python3.7/dist-packages/skimage/segmentation/random_walker_segmentation.py:470: UserWarning: Random walker only segments unlabeled areas, where labels == 0. No zero valued areas in labels were found. Returning provided labels.\n",
            "  inds_isolated_seeds, isolated_values) = _preprocess(labels)\n",
            " 58%|█████▊    | 37/64 [00:00<00:00, 185.66it/s]/usr/local/lib/python3.7/dist-packages/skimage/segmentation/random_walker_segmentation.py:470: UserWarning: Random walker only segments unlabeled areas, where labels == 0. No zero valued areas in labels were found. Returning provided labels.\n",
            "  inds_isolated_seeds, isolated_values) = _preprocess(labels)\n",
            "/usr/local/lib/python3.7/dist-packages/skimage/segmentation/random_walker_segmentation.py:470: UserWarning: Random walker only segments unlabeled areas, where labels == 0. No zero valued areas in labels were found. Returning provided labels.\n",
            "  inds_isolated_seeds, isolated_values) = _preprocess(labels)\n",
            "100%|██████████| 64/64 [00:00<00:00, 154.87it/s]\n",
            "  0%|          | 0/64 [00:00<?, ?it/s]/usr/local/lib/python3.7/dist-packages/skimage/segmentation/random_walker_segmentation.py:470: UserWarning: Random walker only segments unlabeled areas, where labels == 0. No zero valued areas in labels were found. Returning provided labels.\n",
            "  inds_isolated_seeds, isolated_values) = _preprocess(labels)\n",
            "/usr/local/lib/python3.7/dist-packages/skimage/segmentation/random_walker_segmentation.py:470: UserWarning: Random walker only segments unlabeled areas, where labels == 0. No zero valued areas in labels were found. Returning provided labels.\n",
            "  inds_isolated_seeds, isolated_values) = _preprocess(labels)\n",
            " 20%|██        | 13/64 [00:00<00:00, 126.19it/s]/usr/local/lib/python3.7/dist-packages/skimage/segmentation/random_walker_segmentation.py:470: UserWarning: Random walker only segments unlabeled areas, where labels == 0. No zero valued areas in labels were found. Returning provided labels.\n",
            "  inds_isolated_seeds, isolated_values) = _preprocess(labels)\n",
            "/usr/local/lib/python3.7/dist-packages/skimage/segmentation/random_walker_segmentation.py:470: UserWarning: Random walker only segments unlabeled areas, where labels == 0. No zero valued areas in labels were found. Returning provided labels.\n",
            "  inds_isolated_seeds, isolated_values) = _preprocess(labels)\n",
            "/usr/local/lib/python3.7/dist-packages/skimage/segmentation/random_walker_segmentation.py:470: UserWarning: Random walker only segments unlabeled areas, where labels == 0. No zero valued areas in labels were found. Returning provided labels.\n",
            "  inds_isolated_seeds, isolated_values) = _preprocess(labels)\n",
            " 48%|████▊     | 31/64 [00:00<00:00, 154.44it/s]/usr/local/lib/python3.7/dist-packages/skimage/segmentation/random_walker_segmentation.py:470: UserWarning: Random walker only segments unlabeled areas, where labels == 0. No zero valued areas in labels were found. Returning provided labels.\n",
            "  inds_isolated_seeds, isolated_values) = _preprocess(labels)\n",
            "/usr/local/lib/python3.7/dist-packages/skimage/segmentation/random_walker_segmentation.py:470: UserWarning: Random walker only segments unlabeled areas, where labels == 0. No zero valued areas in labels were found. Returning provided labels.\n",
            "  inds_isolated_seeds, isolated_values) = _preprocess(labels)\n",
            "/usr/local/lib/python3.7/dist-packages/skimage/segmentation/random_walker_segmentation.py:470: UserWarning: Random walker only segments unlabeled areas, where labels == 0. No zero valued areas in labels were found. Returning provided labels.\n",
            "  inds_isolated_seeds, isolated_values) = _preprocess(labels)\n",
            " 77%|███████▋  | 49/64 [00:00<00:00, 165.06it/s]/usr/local/lib/python3.7/dist-packages/skimage/segmentation/random_walker_segmentation.py:470: UserWarning: Random walker only segments unlabeled areas, where labels == 0. No zero valued areas in labels were found. Returning provided labels.\n",
            "  inds_isolated_seeds, isolated_values) = _preprocess(labels)\n",
            "/usr/local/lib/python3.7/dist-packages/skimage/segmentation/random_walker_segmentation.py:470: UserWarning: Random walker only segments unlabeled areas, where labels == 0. No zero valued areas in labels were found. Returning provided labels.\n",
            "  inds_isolated_seeds, isolated_values) = _preprocess(labels)\n",
            "100%|██████████| 64/64 [00:00<00:00, 158.92it/s]\n"
          ]
        },
        {
          "output_type": "stream",
          "name": "stdout",
          "text": [
            "Проверяем размерность модели: (64, 64, 64)\n"
          ]
        },
        {
          "output_type": "stream",
          "name": "stderr",
          "text": [
            "  0%|          | 0/64 [00:00<?, ?it/s]/usr/local/lib/python3.7/dist-packages/skimage/segmentation/random_walker_segmentation.py:470: UserWarning: Random walker only segments unlabeled areas, where labels == 0. No zero valued areas in labels were found. Returning provided labels.\n",
            "  inds_isolated_seeds, isolated_values) = _preprocess(labels)\n",
            "100%|██████████| 64/64 [00:00<00:00, 135.24it/s]\n",
            "  0%|          | 0/64 [00:00<?, ?it/s]/usr/local/lib/python3.7/dist-packages/skimage/segmentation/random_walker_segmentation.py:470: UserWarning: Random walker only segments unlabeled areas, where labels == 0. No zero valued areas in labels were found. Returning provided labels.\n",
            "  inds_isolated_seeds, isolated_values) = _preprocess(labels)\n",
            " 41%|████      | 26/64 [00:00<00:00, 129.32it/s]/usr/local/lib/python3.7/dist-packages/skimage/segmentation/random_walker_segmentation.py:470: UserWarning: Random walker only segments unlabeled areas, where labels == 0. No zero valued areas in labels were found. Returning provided labels.\n",
            "  inds_isolated_seeds, isolated_values) = _preprocess(labels)\n",
            "100%|██████████| 64/64 [00:00<00:00, 130.32it/s]\n",
            " 25%|██▌       | 16/64 [00:00<00:00, 149.83it/s]/usr/local/lib/python3.7/dist-packages/skimage/segmentation/random_walker_segmentation.py:470: UserWarning: Random walker only segments unlabeled areas, where labels == 0. No zero valued areas in labels were found. Returning provided labels.\n",
            "  inds_isolated_seeds, isolated_values) = _preprocess(labels)\n",
            " 50%|█████     | 32/64 [00:00<00:00, 150.23it/s]/usr/local/lib/python3.7/dist-packages/skimage/segmentation/random_walker_segmentation.py:470: UserWarning: Random walker only segments unlabeled areas, where labels == 0. No zero valued areas in labels were found. Returning provided labels.\n",
            "  inds_isolated_seeds, isolated_values) = _preprocess(labels)\n",
            "/usr/local/lib/python3.7/dist-packages/skimage/segmentation/random_walker_segmentation.py:470: UserWarning: Random walker only segments unlabeled areas, where labels == 0. No zero valued areas in labels were found. Returning provided labels.\n",
            "  inds_isolated_seeds, isolated_values) = _preprocess(labels)\n",
            "100%|██████████| 64/64 [00:00<00:00, 148.54it/s]\n"
          ]
        },
        {
          "output_type": "stream",
          "name": "stdout",
          "text": [
            "Проверяем размерность модели: (64, 64, 64)\n"
          ]
        },
        {
          "output_type": "stream",
          "name": "stderr",
          "text": [
            "100%|██████████| 64/64 [00:00<00:00, 133.65it/s]\n",
            "100%|██████████| 64/64 [00:00<00:00, 120.03it/s]\n",
            "100%|██████████| 64/64 [00:00<00:00, 135.54it/s]\n"
          ]
        },
        {
          "output_type": "stream",
          "name": "stdout",
          "text": [
            "Проверяем размерность модели: (64, 64, 64)\n"
          ]
        },
        {
          "output_type": "stream",
          "name": "stderr",
          "text": [
            " 23%|██▎       | 15/64 [00:00<00:00, 148.02it/s]/usr/local/lib/python3.7/dist-packages/skimage/segmentation/random_walker_segmentation.py:470: UserWarning: Random walker only segments unlabeled areas, where labels == 0. No zero valued areas in labels were found. Returning provided labels.\n",
            "  inds_isolated_seeds, isolated_values) = _preprocess(labels)\n",
            "/usr/local/lib/python3.7/dist-packages/skimage/segmentation/random_walker_segmentation.py:470: UserWarning: Random walker only segments unlabeled areas, where labels == 0. No zero valued areas in labels were found. Returning provided labels.\n",
            "  inds_isolated_seeds, isolated_values) = _preprocess(labels)\n",
            " 75%|███████▌  | 48/64 [00:00<00:00, 147.18it/s]/usr/local/lib/python3.7/dist-packages/skimage/segmentation/random_walker_segmentation.py:470: UserWarning: Random walker only segments unlabeled areas, where labels == 0. No zero valued areas in labels were found. Returning provided labels.\n",
            "  inds_isolated_seeds, isolated_values) = _preprocess(labels)\n",
            "/usr/local/lib/python3.7/dist-packages/skimage/segmentation/random_walker_segmentation.py:470: UserWarning: Random walker only segments unlabeled areas, where labels == 0. No zero valued areas in labels were found. Returning provided labels.\n",
            "  inds_isolated_seeds, isolated_values) = _preprocess(labels)\n",
            "100%|██████████| 64/64 [00:00<00:00, 156.40it/s]\n",
            "  0%|          | 0/64 [00:00<?, ?it/s]/usr/local/lib/python3.7/dist-packages/skimage/segmentation/random_walker_segmentation.py:470: UserWarning: Random walker only segments unlabeled areas, where labels == 0. No zero valued areas in labels were found. Returning provided labels.\n",
            "  inds_isolated_seeds, isolated_values) = _preprocess(labels)\n",
            "/usr/local/lib/python3.7/dist-packages/skimage/segmentation/random_walker_segmentation.py:470: UserWarning: Random walker only segments unlabeled areas, where labels == 0. No zero valued areas in labels were found. Returning provided labels.\n",
            "  inds_isolated_seeds, isolated_values) = _preprocess(labels)\n",
            "/usr/local/lib/python3.7/dist-packages/skimage/segmentation/random_walker_segmentation.py:470: UserWarning: Random walker only segments unlabeled areas, where labels == 0. No zero valued areas in labels were found. Returning provided labels.\n",
            "  inds_isolated_seeds, isolated_values) = _preprocess(labels)\n",
            " 34%|███▍      | 22/64 [00:00<00:00, 219.97it/s]/usr/local/lib/python3.7/dist-packages/skimage/segmentation/random_walker_segmentation.py:470: UserWarning: Random walker only segments unlabeled areas, where labels == 0. No zero valued areas in labels were found. Returning provided labels.\n",
            "  inds_isolated_seeds, isolated_values) = _preprocess(labels)\n",
            "/usr/local/lib/python3.7/dist-packages/skimage/segmentation/random_walker_segmentation.py:470: UserWarning: Random walker only segments unlabeled areas, where labels == 0. No zero valued areas in labels were found. Returning provided labels.\n",
            "  inds_isolated_seeds, isolated_values) = _preprocess(labels)\n",
            "/usr/local/lib/python3.7/dist-packages/skimage/segmentation/random_walker_segmentation.py:470: UserWarning: Random walker only segments unlabeled areas, where labels == 0. No zero valued areas in labels were found. Returning provided labels.\n",
            "  inds_isolated_seeds, isolated_values) = _preprocess(labels)\n",
            "/usr/local/lib/python3.7/dist-packages/skimage/segmentation/random_walker_segmentation.py:470: UserWarning: Random walker only segments unlabeled areas, where labels == 0. No zero valued areas in labels were found. Returning provided labels.\n",
            "  inds_isolated_seeds, isolated_values) = _preprocess(labels)\n",
            "100%|██████████| 64/64 [00:00<00:00, 171.78it/s]\n",
            "  0%|          | 0/64 [00:00<?, ?it/s]/usr/local/lib/python3.7/dist-packages/skimage/segmentation/random_walker_segmentation.py:470: UserWarning: Random walker only segments unlabeled areas, where labels == 0. No zero valued areas in labels were found. Returning provided labels.\n",
            "  inds_isolated_seeds, isolated_values) = _preprocess(labels)\n",
            " 23%|██▎       | 15/64 [00:00<00:00, 145.40it/s]/usr/local/lib/python3.7/dist-packages/skimage/segmentation/random_walker_segmentation.py:470: UserWarning: Random walker only segments unlabeled areas, where labels == 0. No zero valued areas in labels were found. Returning provided labels.\n",
            "  inds_isolated_seeds, isolated_values) = _preprocess(labels)\n",
            " 47%|████▋     | 30/64 [00:00<00:00, 136.81it/s]/usr/local/lib/python3.7/dist-packages/skimage/segmentation/random_walker_segmentation.py:470: UserWarning: Random walker only segments unlabeled areas, where labels == 0. No zero valued areas in labels were found. Returning provided labels.\n",
            "  inds_isolated_seeds, isolated_values) = _preprocess(labels)\n",
            " 94%|█████████▍| 60/64 [00:00<00:00, 141.76it/s]/usr/local/lib/python3.7/dist-packages/skimage/segmentation/random_walker_segmentation.py:470: UserWarning: Random walker only segments unlabeled areas, where labels == 0. No zero valued areas in labels were found. Returning provided labels.\n",
            "  inds_isolated_seeds, isolated_values) = _preprocess(labels)\n",
            "100%|██████████| 64/64 [00:00<00:00, 140.58it/s]\n"
          ]
        },
        {
          "output_type": "stream",
          "name": "stdout",
          "text": [
            "Проверяем размерность модели: (64, 64, 64)\n"
          ]
        },
        {
          "output_type": "stream",
          "name": "stderr",
          "text": [
            " 47%|████▋     | 30/64 [00:00<00:00, 146.46it/s]/usr/local/lib/python3.7/dist-packages/skimage/segmentation/random_walker_segmentation.py:470: UserWarning: Random walker only segments unlabeled areas, where labels == 0. No zero valued areas in labels were found. Returning provided labels.\n",
            "  inds_isolated_seeds, isolated_values) = _preprocess(labels)\n",
            "/usr/local/lib/python3.7/dist-packages/skimage/segmentation/random_walker_segmentation.py:470: UserWarning: Random walker only segments unlabeled areas, where labels == 0. No zero valued areas in labels were found. Returning provided labels.\n",
            "  inds_isolated_seeds, isolated_values) = _preprocess(labels)\n",
            " 73%|███████▎  | 47/64 [00:00<00:00, 156.90it/s]/usr/local/lib/python3.7/dist-packages/skimage/segmentation/random_walker_segmentation.py:470: UserWarning: Random walker only segments unlabeled areas, where labels == 0. No zero valued areas in labels were found. Returning provided labels.\n",
            "  inds_isolated_seeds, isolated_values) = _preprocess(labels)\n",
            "100%|██████████| 64/64 [00:00<00:00, 159.22it/s]\n",
            " 44%|████▍     | 28/64 [00:00<00:00, 134.87it/s]/usr/local/lib/python3.7/dist-packages/skimage/segmentation/random_walker_segmentation.py:470: UserWarning: Random walker only segments unlabeled areas, where labels == 0. No zero valued areas in labels were found. Returning provided labels.\n",
            "  inds_isolated_seeds, isolated_values) = _preprocess(labels)\n",
            "/usr/local/lib/python3.7/dist-packages/skimage/segmentation/random_walker_segmentation.py:470: UserWarning: Random walker only segments unlabeled areas, where labels == 0. No zero valued areas in labels were found. Returning provided labels.\n",
            "  inds_isolated_seeds, isolated_values) = _preprocess(labels)\n",
            " 70%|███████   | 45/64 [00:00<00:00, 146.04it/s]/usr/local/lib/python3.7/dist-packages/skimage/segmentation/random_walker_segmentation.py:470: UserWarning: Random walker only segments unlabeled areas, where labels == 0. No zero valued areas in labels were found. Returning provided labels.\n",
            "  inds_isolated_seeds, isolated_values) = _preprocess(labels)\n",
            "100%|██████████| 64/64 [00:00<00:00, 142.19it/s]\n",
            "  0%|          | 0/64 [00:00<?, ?it/s]/usr/local/lib/python3.7/dist-packages/skimage/segmentation/random_walker_segmentation.py:470: UserWarning: Random walker only segments unlabeled areas, where labels == 0. No zero valued areas in labels were found. Returning provided labels.\n",
            "  inds_isolated_seeds, isolated_values) = _preprocess(labels)\n",
            "/usr/local/lib/python3.7/dist-packages/skimage/segmentation/random_walker_segmentation.py:470: UserWarning: Random walker only segments unlabeled areas, where labels == 0. No zero valued areas in labels were found. Returning provided labels.\n",
            "  inds_isolated_seeds, isolated_values) = _preprocess(labels)\n",
            " 25%|██▌       | 16/64 [00:00<00:00, 155.34it/s]/usr/local/lib/python3.7/dist-packages/skimage/segmentation/random_walker_segmentation.py:470: UserWarning: Random walker only segments unlabeled areas, where labels == 0. No zero valued areas in labels were found. Returning provided labels.\n",
            "  inds_isolated_seeds, isolated_values) = _preprocess(labels)\n",
            " 73%|███████▎  | 47/64 [00:00<00:00, 146.59it/s]/usr/local/lib/python3.7/dist-packages/skimage/segmentation/random_walker_segmentation.py:470: UserWarning: Random walker only segments unlabeled areas, where labels == 0. No zero valued areas in labels were found. Returning provided labels.\n",
            "  inds_isolated_seeds, isolated_values) = _preprocess(labels)\n",
            "/usr/local/lib/python3.7/dist-packages/skimage/segmentation/random_walker_segmentation.py:470: UserWarning: Random walker only segments unlabeled areas, where labels == 0. No zero valued areas in labels were found. Returning provided labels.\n",
            "  inds_isolated_seeds, isolated_values) = _preprocess(labels)\n",
            "100%|██████████| 64/64 [00:00<00:00, 140.40it/s]\n"
          ]
        },
        {
          "output_type": "stream",
          "name": "stdout",
          "text": [
            "Проверяем размерность модели: (64, 64, 64)\n"
          ]
        },
        {
          "output_type": "stream",
          "name": "stderr",
          "text": [
            " 50%|█████     | 32/64 [00:00<00:00, 148.43it/s]/usr/local/lib/python3.7/dist-packages/skimage/segmentation/random_walker_segmentation.py:470: UserWarning: Random walker only segments unlabeled areas, where labels == 0. No zero valued areas in labels were found. Returning provided labels.\n",
            "  inds_isolated_seeds, isolated_values) = _preprocess(labels)\n",
            "/usr/local/lib/python3.7/dist-packages/skimage/segmentation/random_walker_segmentation.py:470: UserWarning: Random walker only segments unlabeled areas, where labels == 0. No zero valued areas in labels were found. Returning provided labels.\n",
            "  inds_isolated_seeds, isolated_values) = _preprocess(labels)\n",
            "/usr/local/lib/python3.7/dist-packages/skimage/segmentation/random_walker_segmentation.py:470: UserWarning: Random walker only segments unlabeled areas, where labels == 0. No zero valued areas in labels were found. Returning provided labels.\n",
            "  inds_isolated_seeds, isolated_values) = _preprocess(labels)\n",
            " 77%|███████▋  | 49/64 [00:00<00:00, 155.27it/s]/usr/local/lib/python3.7/dist-packages/skimage/segmentation/random_walker_segmentation.py:470: UserWarning: Random walker only segments unlabeled areas, where labels == 0. No zero valued areas in labels were found. Returning provided labels.\n",
            "  inds_isolated_seeds, isolated_values) = _preprocess(labels)\n",
            "100%|██████████| 64/64 [00:00<00:00, 155.17it/s]\n",
            "  0%|          | 0/64 [00:00<?, ?it/s]/usr/local/lib/python3.7/dist-packages/skimage/segmentation/random_walker_segmentation.py:470: UserWarning: Random walker only segments unlabeled areas, where labels == 0. No zero valued areas in labels were found. Returning provided labels.\n",
            "  inds_isolated_seeds, isolated_values) = _preprocess(labels)\n",
            " 23%|██▎       | 15/64 [00:00<00:00, 138.72it/s]/usr/local/lib/python3.7/dist-packages/skimage/segmentation/random_walker_segmentation.py:470: UserWarning: Random walker only segments unlabeled areas, where labels == 0. No zero valued areas in labels were found. Returning provided labels.\n",
            "  inds_isolated_seeds, isolated_values) = _preprocess(labels)\n",
            "100%|██████████| 64/64 [00:00<00:00, 148.92it/s]\n",
            " 70%|███████   | 45/64 [00:00<00:00, 147.49it/s]/usr/local/lib/python3.7/dist-packages/skimage/segmentation/random_walker_segmentation.py:470: UserWarning: Random walker only segments unlabeled areas, where labels == 0. No zero valued areas in labels were found. Returning provided labels.\n",
            "  inds_isolated_seeds, isolated_values) = _preprocess(labels)\n",
            "/usr/local/lib/python3.7/dist-packages/skimage/segmentation/random_walker_segmentation.py:470: UserWarning: Random walker only segments unlabeled areas, where labels == 0. No zero valued areas in labels were found. Returning provided labels.\n",
            "  inds_isolated_seeds, isolated_values) = _preprocess(labels)\n",
            "100%|██████████| 64/64 [00:00<00:00, 148.16it/s]"
          ]
        },
        {
          "output_type": "stream",
          "name": "stdout",
          "text": [
            "Проверяем размерность модели: (64, 64, 64)\n"
          ]
        },
        {
          "output_type": "stream",
          "name": "stderr",
          "text": [
            "\n"
          ]
        }
      ]
    },
    {
      "cell_type": "code",
      "source": [
        "\n",
        "# porosity calculation\n",
        "def porosity_calc(arr,min_thresh=100,max_thresh=255,thresholding = False):\n",
        "  if thresholding:\n",
        "    ret,arr = cv2.threshold(arr,min_thresh,max_thresh,cv2.THRESH_BINARY_INV)\n",
        "  por = cv2.countNonZero(arr)/(arr.shape[0]*arr.shape[1])\n",
        "\n",
        "  return por\n"
      ],
      "metadata": {
        "id": "894pLgRPfwfn"
      },
      "execution_count": 35,
      "outputs": []
    },
    {
      "cell_type": "code",
      "source": [
        "def test_por(dataset_test,dim,min_thresh=100,max_thresh=255):\n",
        "  \n",
        "  por_general_1dim = []\n",
        "  # first dim\n",
        "  for i in range(0,len(dataset_test)):\n",
        "    por_sample_1dim = []\n",
        "    for j in range(0,len(dataset_test[0])):\n",
        "      if dim == 1:\n",
        "        a = porosity_calc(dataset_test[i][j,:,:],min_thresh,max_thresh,thresholding =True)\n",
        "      if dim == 2:\n",
        "        a = porosity_calc(dataset_test[i][:,j,:],min_thresh,max_thresh,thresholding =True)\n",
        "      if dim == 3:\n",
        "        a = porosity_calc(dataset_test[i][:,:,j],min_thresh,max_thresh,thresholding =True)\n",
        "      por_sample_1dim.append(a)\n",
        "\n",
        "    por_general_1dim.append(por_sample_1dim)\n",
        "\n",
        "  return np.array(por_general_1dim)\n",
        "\n",
        "\n",
        "por_general_1dim  = test_por(dataset_test,dim=1,min_thresh=115)\n",
        "por_general_2dim  = test_por(dataset_test,dim=2,min_thresh=115)\n",
        "por_general_3dim  = test_por(dataset_test,dim=3,min_thresh=115)"
      ],
      "metadata": {
        "id": "C84UsWK7jkDp"
      },
      "execution_count": 36,
      "outputs": []
    },
    {
      "cell_type": "code",
      "source": [
        "#por_test_1dim  = test_por(res_numpy_bin,dim=1)\n",
        "#por_test_2dim  = test_por(res_numpy_bin,dim=2)\n",
        "#por_test_3dim  = test_por(res_numpy_bin,dim=3)"
      ],
      "metadata": {
        "id": "TCVwC52tPqpH"
      },
      "execution_count": 37,
      "outputs": []
    },
    {
      "cell_type": "code",
      "source": [
        "por_test_1dim  = test_por(res_numpy,dim=1,min_thresh=108)\n",
        "por_test_2dim  = test_por(res_numpy,dim=2,min_thresh=108)\n",
        "por_test_3dim  = test_por(res_numpy,dim=3,min_thresh=108)"
      ],
      "metadata": {
        "id": "-4KKv_tg26xV"
      },
      "execution_count": 38,
      "outputs": []
    },
    {
      "cell_type": "code",
      "source": [
        "from ipywidgets import interact, IntSlider"
      ],
      "metadata": {
        "id": "5q48_XvC9ntu"
      },
      "execution_count": 39,
      "outputs": []
    },
    {
      "cell_type": "code",
      "source": [
        "def plot_res(i,j):\n",
        "  fig,ax = plt.subplots(1,2)\n",
        "  ax[0].imshow(res_numpy_bin[i][:,:,j],cmap='gray')\n",
        "  ax[0].set_title('Generated sample')\n",
        "  ax[1].imshow(dataset_test_bin[i][:,:,j],cmap='gray')\n",
        "  ax[1].set_title('Real sample')"
      ],
      "metadata": {
        "id": "iusVqoKG5Eur"
      },
      "execution_count": 50,
      "outputs": []
    },
    {
      "cell_type": "code",
      "source": [
        "interact(plot_res, j=IntSlider(min=0,max=63,step=1,value=1),i=IntSlider(min=1,max=28,step=1,value=20))"
      ],
      "metadata": {
        "colab": {
          "base_uri": "https://localhost:8080/",
          "height": 297,
          "referenced_widgets": [
            "fe67526d975144c1b5893e536038df05",
            "94dca0245db4475dbb3f58a6a0ffc1f6",
            "7639a15d974e45738aa12e2d2928a664",
            "3eff9d6f2c78474788628414ea194b9e",
            "8c20fc7b83f445dea99930d6b6d856eb",
            "ef77accc35574128a3c98e9132ab63d8",
            "f404d0d8820f47e5bbb9e0e73307da09",
            "14c3ed6c51764004acdc53d258c3c205",
            "c3b094a515c7408a82d5c91c4196d788",
            "9631252e17a44791b5106c854d3468a7"
          ]
        },
        "id": "gKCTAZR15qqI",
        "outputId": "5cd2bb9a-1b3d-4840-a4b3-fc0169bff834"
      },
      "execution_count": 51,
      "outputs": [
        {
          "output_type": "display_data",
          "data": {
            "text/plain": [
              "interactive(children=(IntSlider(value=20, description='i', max=28, min=1), IntSlider(value=1, description='j',…"
            ],
            "application/vnd.jupyter.widget-view+json": {
              "version_major": 2,
              "version_minor": 0,
              "model_id": "fe67526d975144c1b5893e536038df05"
            }
          },
          "metadata": {}
        },
        {
          "output_type": "execute_result",
          "data": {
            "text/plain": [
              "<function __main__.plot_res>"
            ]
          },
          "metadata": {},
          "execution_count": 51
        }
      ]
    },
    {
      "cell_type": "code",
      "source": [
        "plot_res(1,1)\n",
        "plot_res(8,52)\n",
        "plot_res(3,63)"
      ],
      "metadata": {
        "colab": {
          "base_uri": "https://localhost:8080/",
          "height": 614
        },
        "id": "ET0vaCSapiCx",
        "outputId": "31069cf4-f45a-430a-e0d7-ef11a5873bbd"
      },
      "execution_count": 53,
      "outputs": [
        {
          "output_type": "display_data",
          "data": {
            "text/plain": [
              "<Figure size 432x288 with 2 Axes>"
            ],
            "image/png": "[encoded data removed]"
          },
          "metadata": {
            "needs_background": "light"
          }
        },
        {
          "output_type": "display_data",
          "data": {
            "text/plain": [
              "<Figure size 432x288 with 2 Axes>"
            ],
            "image/png": "[encoded data removed]"
          },
          "metadata": {
            "needs_background": "light"
          }
        },
        {
          "output_type": "display_data",
          "data": {
            "text/plain": [
              "<Figure size 432x288 with 2 Axes>"
            ],
            "image/png": "[encoded data removed]"
          },
          "metadata": {
            "needs_background": "light"
          }
        }
      ]
    },
    {
      "cell_type": "code",
      "source": [
        "#central slices\n",
        "plot_res(20,34)\n",
        "plot_res(13,37)\n",
        "plot_res(12,43)"
      ],
      "metadata": {
        "colab": {
          "base_uri": "https://localhost:8080/",
          "height": 614
        },
        "id": "7wR6DKEa6B-s",
        "outputId": "b3a300f0-97b8-4b1a-98a3-0d874df39a28"
      },
      "execution_count": 42,
      "outputs": [
        {
          "output_type": "display_data",
          "data": {
            "text/plain": [
              "<Figure size 432x288 with 2 Axes>"
            ],
            "image/png": "[encoded data removed]"
          },
          "metadata": {
            "needs_background": "light"
          }
        },
        {
          "output_type": "display_data",
          "data": {
            "text/plain": [
              "<Figure size 432x288 with 2 Axes>"
            ],
            "image/png": "[encoded data removed]"
          },
          "metadata": {
            "needs_background": "light"
          }
        },
        {
          "output_type": "display_data",
          "data": {
            "text/plain": [
              "<Figure size 432x288 with 2 Axes>"
            ],
            "image/png": "[encoded data removed]"
          },
          "metadata": {
            "needs_background": "light"
          }
        }
      ]
    },
    {
      "cell_type": "code",
      "source": [
        "def averaging_por_per_dim(data):\n",
        "  avg_dim = []\n",
        "  for i in range(0,28):\n",
        "    a = data[i,:].mean()\n",
        "    avg_dim.append(a)\n",
        "  return np.array(avg_dim)\n",
        "avg1dim = averaging_por_per_dim(por_general_1dim)\n",
        "avg2dim = averaging_por_per_dim(por_general_2dim)\n",
        "avg3dim = averaging_por_per_dim(por_general_3dim)\n",
        "\n",
        "avg_test_1dim = averaging_por_per_dim(por_test_1dim) \n",
        "avg_test_2dim = averaging_por_per_dim(por_test_2dim)\n",
        "avg_test_3dim = averaging_por_per_dim(por_test_3dim)  \n"
      ],
      "metadata": {
        "id": "UcWWcWtmoZpI"
      },
      "execution_count": 43,
      "outputs": []
    },
    {
      "cell_type": "code",
      "source": [
        "\n",
        "data = np.hstack((avg1dim,avg2dim,avg3dim)).reshape(-1)\n",
        "data_test = np.hstack((avg_test_1dim,avg_test_2dim,avg_test_3dim)).reshape(-1)\n",
        "\n",
        "#data = np.hstack((por_general_1dim,por_general_2dim,por_general_3dim)).reshape(-1)\n",
        "#data_test = np.hstack((por_test_1dim,por_test_2dim,por_test_3dim)).reshape(-1)"
      ],
      "metadata": {
        "id": "dt4ypXEVn5nh"
      },
      "execution_count": null,
      "outputs": []
    },
    {
      "cell_type": "code",
      "source": [
        "fig,axes = plt.subplots(1,2,figsize=(5,6))\n",
        "sns.boxplot(data=data,ax=axes[0]).set(\n",
        "    xlabel='Real data', \n",
        "    ylabel='Porosity'\n",
        ")\n",
        "sns.boxplot(data=data_test,ax=axes[1],color='r').set(\n",
        "    xlabel='Synthesised'\n",
        ")\n",
        "fig.tight_layout()"
      ],
      "metadata": {
        "id": "Iaz60WYchLMa"
      },
      "execution_count": null,
      "outputs": []
    },
    {
      "cell_type": "markdown",
      "source": [
        "# Minkowski functionals calculation"
      ],
      "metadata": {
        "id": "CHpEfPOepkY_"
      }
    },
    {
      "cell_type": "code",
      "source": [
        "\n",
        "# porosity calculation\n",
        "def thresholding(arr,min_thresh=100,max_thresh=255):\n",
        "    for i in range(0,len(dataset_test)):\n",
        "\n",
        "      for j in range(0,len(dataset_test[0])):\n",
        "          ret,arr[i][j,:,:] = cv2.threshold(arr[i][j,:,:],min_thresh,max_thresh,cv2.THRESH_BINARY_INV)\n",
        "          ret,arr[i][:,j,:] = cv2.threshold(arr[i][:,j,:],min_thresh,max_thresh,cv2.THRESH_BINARY_INV)\n",
        "          ret,arr[i][:,:,j] = cv2.threshold(arr[i][:,:,j],min_thresh,max_thresh,cv2.THRESH_BINARY_INV)   \n",
        "   # ret,arr = cv2.threshold(arr,min_thresh,max_thresh,cv2.THRESH_BINARY_INV)\n",
        "\n",
        "    return arr\n"
      ],
      "metadata": {
        "id": "8KKSVeFKdvhz"
      },
      "execution_count": 840,
      "outputs": []
    },
    {
      "cell_type": "code",
      "source": [
        "#dataset_test_bin1 = thresholding(dataset_test,min_thresh=115)"
      ],
      "metadata": {
        "id": "kKFEsmjHfNpl"
      },
      "execution_count": 841,
      "outputs": []
    },
    {
      "cell_type": "code",
      "source": [
        "#res_numpy_bin1 = thresholding(res_numpy,min_thresh=108)"
      ],
      "metadata": {
        "id": "XUjXK_safU6o"
      },
      "execution_count": 842,
      "outputs": []
    },
    {
      "cell_type": "code",
      "source": [
        "#minkowski.functions_close(res_numpy[25][40,:,:])"
      ],
      "metadata": {
        "id": "DFEgSAyBD-I_"
      },
      "execution_count": 843,
      "outputs": []
    },
    {
      "cell_type": "code",
      "source": [
        "def minkowski_func_calc(dataset):\n",
        "  surface_area = []\n",
        "  circumference = []\n",
        "  Euler_characteristic = []\n",
        "  for i in range(1,len(dataset)):\n",
        "    minkows = minkowski.functions_open(dataset[i][:,:,:])\n",
        "    surface_area.append(minkows[1].sum())\n",
        "    circumference.append(minkows[2].sum())\n",
        "    Euler_characteristic.append(minkows[3].sum())\n",
        "\n",
        "  return np.array(surface_area),np.array(circumference), np.array(Euler_characteristic)\n",
        "\n"
      ],
      "metadata": {
        "id": "wGkFSn4G3BFm"
      },
      "execution_count": 844,
      "outputs": []
    },
    {
      "cell_type": "code",
      "source": [
        "surface_area_gan, circum_gan, euler_gan = minkowski_func_calc(res_numpy)"
      ],
      "metadata": {
        "id": "jNBp7tLeEDJ7"
      },
      "execution_count": 846,
      "outputs": []
    },
    {
      "cell_type": "code",
      "source": [
        "surface_area, circum, euler = minkowski_func_calc(dataset_test)"
      ],
      "metadata": {
        "id": "feSw8Lth3-JK"
      },
      "execution_count": 847,
      "outputs": []
    },
    {
      "cell_type": "code",
      "source": [
        "fig,axes = plt.subplots(1,2,figsize=(5,6))\n",
        "fig.suptitle('Surface area ')\n",
        "plt.subplots_adjust(left=None, bottom=None, right=None, top=None, wspace=0.5, hspace=None)\n",
        "sns.boxplot(data=surface_area,ax=axes[0]).set(\n",
        "    xlabel='Real data', \n",
        " #   ylabel='Surface area'\n",
        ")\n",
        "sns.boxplot(data=surface_area_gan,ax=axes[1],color='r').set(\n",
        "    xlabel='Synthesised'\n",
        ")"
      ],
      "metadata": {
        "colab": {
          "base_uri": "https://localhost:8080/",
          "height": 448
        },
        "id": "EKUKgqrr4FDA",
        "outputId": "2dd6a936-4eac-4b21-d1d2-29cbf64b5849"
      },
      "execution_count": 848,
      "outputs": [
        {
          "output_type": "execute_result",
          "data": {
            "text/plain": [
              "[Text(0.5, 0, 'Synthesised')]"
            ]
          },
          "metadata": {},
          "execution_count": 848
        },
        {
          "output_type": "display_data",
          "data": {
            "text/plain": [
              "<Figure size 360x432 with 2 Axes>"
            ],
            "image/png": "[encoded data removed]"
          },
          "metadata": {
            "needs_background": "light"
          }
        }
      ]
    },
    {
      "cell_type": "code",
      "source": [
        "fig,axes = plt.subplots(1,2,figsize=(5,6))\n",
        "fig.suptitle('Circumference')\n",
        "plt.subplots_adjust(left=None, bottom=None, right=None, top=None, wspace=0.5, hspace=None)\n",
        "sns.boxplot(data=circum,ax=axes[0]).set(\n",
        "    xlabel='Real data', \n",
        "    #ylabel='Porosity'\n",
        ")\n",
        "sns.boxplot(data=circum_gan,ax=axes[1],color='r').set(\n",
        "    xlabel='Synthesised'\n",
        ")"
      ],
      "metadata": {
        "colab": {
          "base_uri": "https://localhost:8080/",
          "height": 448
        },
        "id": "YdjiguGQ5xOL",
        "outputId": "eb0a034d-93ef-4b57-f21f-01e09b7e986e"
      },
      "execution_count": 849,
      "outputs": [
        {
          "output_type": "execute_result",
          "data": {
            "text/plain": [
              "[Text(0.5, 0, 'Synthesised')]"
            ]
          },
          "metadata": {},
          "execution_count": 849
        },
        {
          "output_type": "display_data",
          "data": {
            "text/plain": [
              "<Figure size 360x432 with 2 Axes>"
            ],
            "image/png": "[encoded data removed]"
          },
          "metadata": {
            "needs_background": "light"
          }
        }
      ]
    },
    {
      "cell_type": "code",
      "source": [
        "fig,axes = plt.subplots(1,2,figsize=(5,6))\n",
        "fig.suptitle('Euler characteristic')\n",
        "plt.subplots_adjust(left=None, bottom=None, right=None, top=None, wspace=0.5, hspace=None)\n",
        "sns.boxplot(data=euler,ax=axes[0]).set(\n",
        "    xlabel='Real data', \n",
        " #   ylabel='Porosity'\n",
        ")\n",
        "sns.boxplot(data=euler_gan,ax=axes[1],color='r').set(\n",
        "    xlabel='Synthesised'\n",
        ")\n"
      ],
      "metadata": {
        "colab": {
          "base_uri": "https://localhost:8080/",
          "height": 448
        },
        "id": "QsbnNyJR49_H",
        "outputId": "7f7de9bf-b1a0-416d-d193-8f519ecffed5"
      },
      "execution_count": 850,
      "outputs": [
        {
          "output_type": "execute_result",
          "data": {
            "text/plain": [
              "[Text(0.5, 0, 'Synthesised')]"
            ]
          },
          "metadata": {},
          "execution_count": 850
        },
        {
          "output_type": "display_data",
          "data": {
            "text/plain": [
              "<Figure size 360x432 with 2 Axes>"
            ],
            "image/png": "[encoded data removed]"
          },
          "metadata": {
            "needs_background": "light"
          }
        }
      ]
    },
    {
      "cell_type": "markdown",
      "source": [
        "# Permeability calculation"
      ],
      "metadata": {
        "id": "5omeviSnv0SZ"
      }
    },
    {
      "cell_type": "code",
      "source": [
        "import porespy as ps\n",
        "import openpnm as op"
      ],
      "metadata": {
        "id": "XDoEc2Vuv_FY"
      },
      "execution_count": null,
      "outputs": []
    },
    {
      "cell_type": "code",
      "source": [
        "### Расчет проницаемости по направлению Z\n",
        "\n",
        "def get_permeability_left_right(im, resolutios=1, sizes):\n",
        "    # Проверка размеров модели\n",
        "    if len(sizes) == 1:\n",
        "        y_size = sizes[0]\n",
        "        x_size = sizes[0]\n",
        "        z_size = sizes[0]\n",
        "    else:\n",
        "        y_size = sizes[0]\n",
        "        x_size = sizes[1]\n",
        "        z_size = sizes[2]\n",
        "    \n",
        "    ### 1. Достаем сеть из 3D модели\n",
        "    net = ps.networks.snow2(\n",
        "    #    im=img3d,\n",
        "       phases= im,\n",
        "        voxel_size = 1, # 20nm\n",
        "      #  boundary_faces=[\"top\", \"bottom\", \"front\", \"back\", \"left\", \"right\"]\n",
        "    )\n",
        "    ### 2. Импортируем сеть и получем связи модели и ее геометрию\n",
        "    pn, geo = op.io.PoreSpy.load(net)\n",
        "    ### 3. Проверка связей модели \n",
        "    h = pn.check_network_health()\n",
        "    ### 4. Удаляем закрытые поры\n",
        "    op.topotools.trim(network=pn, pores=h['trim_pores'])\n",
        "    h = pn.check_network_health()\n",
        "    \n",
        "    if len(pn[\"pore.left\"][pn[\"pore.left\"] == True]) == 0 or len(pn[\"pore.right\"][pn[\"pore.right\"] == True]) == 0:\n",
        "        return 0\n",
        "    \n",
        "    ### 5. Подписываем среду для опытов \n",
        "    air = op.phases.Air(network=pn)\n",
        "    ### 6. Задаем физику среды\n",
        "    phys_air = op.physics.GenericPhysics(network=pn, phase=air, geometry=geo)\n",
        "    ### 7. Назначаем физику соединений\n",
        "    model = op.models.physics.hydraulic_conductance.hagen_poiseuille\n",
        "    ### 8. Добаваляем физику в модель\n",
        "    phys_air.add_model(propname='throat.hydraulic_conductance',\n",
        "                       model=model,\n",
        "                       pore_viscosity='pore.viscosity',\n",
        "                       pore_area='pore.area',\n",
        "                       throat_area='throat.area',\n",
        "                       conduit_lengths='throat.conduit_lengths')\n",
        "    \n",
        "    ### 9. Задаем алгоритм течения и граничные условия\n",
        "    perm = op.algorithms.StokesFlow(network=pn)\n",
        "    perm.setup(phase=air)\n",
        "    perm.set_value_BC(pores=pn.pores('left'), values=20)\n",
        "    perm.set_value_BC(pores=pn.pores('right'), values=0)\n",
        "    perm.run()\n",
        "    ### 10. Производим расчет проницаемости\n",
        "    Q = perm.rate(pores=pn.pores('left'), mode='group')[0] # m3/s\n",
        "    A = (y_size * x_size) * resolution**2 # m2\n",
        "    L = z_size * resolution # m\n",
        "    mu = air['pore.viscosity'].max() # kg/(m*s)\n",
        "    delta_P = 20 # Pa\n",
        "    K = Q * L * mu / (A * delta_P) # m2\n",
        "    \n",
        "    K = K / 0.987e-12 * 1000  # mDarcy\n",
        "    \n",
        "    return K"
      ],
      "metadata": {
        "id": "XaCoGa1_v2Lp"
      },
      "execution_count": 160,
      "outputs": []
    },
    {
      "cell_type": "code",
      "source": [
        "im = ps.generators.blobs(shape=[400, 400], porosity=0.6, blobiness=2)\n",
        "fig, ax = plt.subplots(figsize=(4, 4))\n",
        "ax.imshow(im)"
      ],
      "metadata": {
        "colab": {
          "base_uri": "https://localhost:8080/",
          "height": 286
        },
        "id": "qKJtu8KM1My1",
        "outputId": "a4603fee-f692-4748-ef07-8ffe9aeb6019"
      },
      "execution_count": 501,
      "outputs": [
        {
          "output_type": "execute_result",
          "data": {
            "text/plain": [
              "<matplotlib.image.AxesImage at 0x7f7e4732c650>"
            ]
          },
          "metadata": {},
          "execution_count": 501
        },
        {
          "output_type": "display_data",
          "data": {
            "text/plain": [
              "<Figure size 288x288 with 1 Axes>"
            ],
            "image/png": "[encoded data removed]"
          },
          "metadata": {
            "needs_background": "light"
          }
        }
      ]
    },
    {
      "cell_type": "code",
      "source": [
        "im = np.array(thresh1,dtype=bool)\n",
        "fig, ax = plt.subplots(figsize=(4, 4))\n",
        "ax.imshow(im)"
      ],
      "metadata": {
        "colab": {
          "base_uri": "https://localhost:8080/",
          "height": 285
        },
        "id": "D4rV51wu1OWr",
        "outputId": "db69c890-4b9b-4e26-b7a6-bd4a6ce1238f"
      },
      "execution_count": 458,
      "outputs": [
        {
          "output_type": "execute_result",
          "data": {
            "text/plain": [
              "<matplotlib.image.AxesImage at 0x7f7e7df48610>"
            ]
          },
          "metadata": {},
          "execution_count": 458
        },
        {
          "output_type": "display_data",
          "data": {
            "text/plain": [
              "<Figure size 288x288 with 1 Axes>"
            ],
            "image/png": "[encoded data removed]"
          },
          "metadata": {
            "needs_background": "light"
          }
        }
      ]
    },
    {
      "cell_type": "code",
      "source": [
        "test = np.array(dataset_test_bin[21],dtype=bool)"
      ],
      "metadata": {
        "id": "O_Wqnw7bnR5u"
      },
      "execution_count": 535,
      "outputs": []
    },
    {
      "cell_type": "code",
      "source": [
        "net = ps.networks.snow(test,voxel_size=1,boundary_faces=[\"top\", \"bottom\", \"front\", \"back\", \"left\", \"right\"])"
      ],
      "metadata": {
        "colab": {
          "base_uri": "https://localhost:8080/",
          "height": 166
        },
        "id": "3sOgWlvLwbfz",
        "outputId": "2217f62a-ba2b-4189-f633-6ca547e6e6c5"
      },
      "execution_count": 540,
      "outputs": [
        {
          "output_type": "error",
          "ename": "AttributeError",
          "evalue": "ignored",
          "traceback": [
            "\u001b[0;31m---------------------------------------------------------------------------\u001b[0m",
            "\u001b[0;31mAttributeError\u001b[0m                            Traceback (most recent call last)",
            "\u001b[0;32m<ipython-input-540-b522af2155b0>\u001b[0m in \u001b[0;36m<module>\u001b[0;34m()\u001b[0m\n\u001b[0;32m----> 1\u001b[0;31m \u001b[0mnet\u001b[0m \u001b[0;34m=\u001b[0m \u001b[0mps\u001b[0m\u001b[0;34m.\u001b[0m\u001b[0mnetworks\u001b[0m\u001b[0;34m.\u001b[0m\u001b[0msnow\u001b[0m\u001b[0;34m(\u001b[0m\u001b[0mtest\u001b[0m\u001b[0;34m,\u001b[0m\u001b[0mvoxel_size\u001b[0m\u001b[0;34m=\u001b[0m\u001b[0;36m1\u001b[0m\u001b[0;34m,\u001b[0m\u001b[0mboundary_faces\u001b[0m\u001b[0;34m=\u001b[0m\u001b[0;34m[\u001b[0m\u001b[0;34m\"top\"\u001b[0m\u001b[0;34m,\u001b[0m \u001b[0;34m\"bottom\"\u001b[0m\u001b[0;34m,\u001b[0m \u001b[0;34m\"front\"\u001b[0m\u001b[0;34m,\u001b[0m \u001b[0;34m\"back\"\u001b[0m\u001b[0;34m,\u001b[0m \u001b[0;34m\"left\"\u001b[0m\u001b[0;34m,\u001b[0m \u001b[0;34m\"right\"\u001b[0m\u001b[0;34m]\u001b[0m\u001b[0;34m)\u001b[0m\u001b[0;34m\u001b[0m\u001b[0;34m\u001b[0m\u001b[0m\n\u001b[0m",
            "\u001b[0;31mAttributeError\u001b[0m: module 'porespy.networks' has no attribute 'snow'"
          ]
        }
      ]
    },
    {
      "cell_type": "code",
      "source": [
        "try:\n",
        "    pn,geo = op.io.PoreSpy.import_data(net.network)\n",
        "except AttributeError:\n",
        "    pn,geo = op.io.from_porespy(net.network)"
      ],
      "metadata": {
        "id": "6kzI5EZb1Bbv"
      },
      "execution_count": 537,
      "outputs": []
    },
    {
      "cell_type": "code",
      "source": [
        "h = pn.check_network_health()\n",
        "    ### 4. Удаляем закрытые поры\n",
        "op.topotools.trim(network=pn, pores=h['trim_pores'])\n",
        "h = pn.check_network_health()"
      ],
      "metadata": {
        "id": "3aSbdMWd2aQ3"
      },
      "execution_count": 527,
      "outputs": []
    },
    {
      "cell_type": "code",
      "source": [
        "op.network.Cubic()"
      ],
      "metadata": {
        "id": "SWdisg8btWNN"
      },
      "execution_count": null,
      "outputs": []
    },
    {
      "cell_type": "code",
      "source": [
        "pn = op.network.Cubic(shape=[100, 100, 1])\n",
        "geo = op.geometry.StickAndBall(network=pn, pores=pn.Ps, throats=pn.Ts)\n",
        "air = op.phases.Air(network=pn)\n",
        "water = op.phases.Water(network=pn)\n",
        "phys = op.physics.Standard(network=pn, phase=air, geometry=geo)\n",
        "phys_water = op.physics.Standard(network=pn, phase=water, geometry=geo)"
      ],
      "metadata": {
        "colab": {
          "base_uri": "https://localhost:8080/"
        },
        "id": "ltBiR3xVm1Ko",
        "outputId": "adece150-6ecb-4e07-9222-09bc5f4cc6f8"
      },
      "execution_count": 520,
      "outputs": [
        {
          "output_type": "stream",
          "name": "stderr",
          "text": [
            "------------------------------------------------------------\n",
            "CRITICAL   : front and back labels have been switched to obey the right-hand rule \n",
            "SOURCE     : openpnm.network.Cubic.__init__ \n",
            "TIME STAMP : 2022-05-24 10:32:07,348\n",
            "------------------------------------------------------------\n"
          ]
        }
      ]
    },
    {
      "cell_type": "code",
      "source": [
        "ip = op.algorithms.InvasionPercolation(network=pn)\n",
        "ip.setup(phase=air)\n",
        "ip.set_inlets(pores=pn.pores(['left']))\n",
        "ip.run()"
      ],
      "metadata": {
        "id": "3m4kf-s3ldRD"
      },
      "execution_count": 521,
      "outputs": []
    },
    {
      "cell_type": "code",
      "source": [
        "st = op.algorithms.StokesFlow(network=pn)\n",
        "st.setup(phase=water)\n",
        "st.set_value_BC(pores=pn.pores('front'), values=1)\n",
        "st.set_value_BC(pores=pn.pores('back'), values=0)"
      ],
      "metadata": {
        "id": "Qno1r5MulqF-"
      },
      "execution_count": 522,
      "outputs": []
    },
    {
      "cell_type": "code",
      "source": [
        "st.run()\n",
        "Qmax = st.rate(pores=pn.pores('front'))\n",
        "print(Qmax)"
      ],
      "metadata": {
        "colab": {
          "base_uri": "https://localhost:8080/"
        },
        "id": "_J16cAfjl9in",
        "outputId": "7a1c8615-a2a2-46fd-f3d0-c83077c105ad"
      },
      "execution_count": 523,
      "outputs": [
        {
          "output_type": "stream",
          "name": "stdout",
          "text": [
            "[0.04642892]\n"
          ]
        }
      ]
    },
    {
      "cell_type": "code",
      "source": [
        " ### 5. Подписываем среду для опытов \n",
        "air = op.phases.Air(network=pn)\n",
        "\n",
        "water = op.phases.Water(network=pn)\n",
        "phys_water = op.physics.Standard(network=pn, phase=water, geometry=geo)\n",
        "    ### 6. Задаем физику среды\n",
        "phys_air = op.physics.Standard(network=pn, phase=air, geometry=geo)\n",
        "    ### 7. Назначаем физику соединений\n",
        "model = op.models.physics.hydraulic_conductance.hagen_poiseuille\n",
        "    ### 8. Добаваляем физику в модель\n",
        "phys_air.add_model(propname='throat.hydraulic_conductance',\n",
        "                       model=model,\n",
        "                       pore_viscosity='pore.viscosity',\n",
        "                       pore_area='pore.area',\n",
        "                       throat_area='throat.area',\n",
        "                       conduit_lengths='throat.conduit_lengths')\n",
        "    \n",
        "    ### 9. Задаем алгоритм течения и граничные условия\n",
        "perm = op.algorithms.StokesFlow(network=pn)\n",
        "perm.setup(phase=air)\n",
        "perm.set_value_BC(pores=pn.pores('left'), values=20)\n",
        "perm.set_value_BC(pores=pn.pores('right'), values=0)\n",
        "perm.run()"
      ],
      "metadata": {
        "colab": {
          "base_uri": "https://localhost:8080/",
          "height": 1000
        },
        "id": "Jpi4MPJq3GEh",
        "outputId": "2804bf28-ad8c-4098-c8b1-18ed6537bbb4"
      },
      "execution_count": 478,
      "outputs": [
        {
          "output_type": "stream",
          "name": "stderr",
          "text": [
            "------------------------------------------------------------\n",
            "ERROR      : throat.flow_shape_factors was not run since the following property is\n",
            "             missing: 'pore.area' \n",
            "SOURCE     : openpnm.core.ModelsMixin._regen \n",
            "TIME STAMP : 2022-05-24 10:20:43,434\n",
            "------------------------------------------------------------\n",
            "------------------------------------------------------------\n",
            "ERROR      : throat.hydraulic_conductance was not run since the following property is\n",
            "             missing: 'pore.area' \n",
            "SOURCE     : openpnm.core.ModelsMixin._regen \n",
            "TIME STAMP : 2022-05-24 10:20:43,440\n",
            "------------------------------------------------------------\n",
            "------------------------------------------------------------\n",
            "ERROR      : throat.poisson_shape_factors was not run since the following property is\n",
            "             missing: 'pore.area' \n",
            "SOURCE     : openpnm.core.ModelsMixin._regen \n",
            "TIME STAMP : 2022-05-24 10:20:43,448\n",
            "------------------------------------------------------------\n",
            "------------------------------------------------------------\n",
            "ERROR      : throat.diffusive_conductance was not run since the following property is\n",
            "             missing: 'pore.area' \n",
            "SOURCE     : openpnm.core.ModelsMixin._regen \n",
            "TIME STAMP : 2022-05-24 10:20:43,451\n",
            "------------------------------------------------------------\n",
            "------------------------------------------------------------\n",
            "ERROR      : throat.ad_dif_conductance was not run since the following property is\n",
            "             missing: 'throat.hydraulic_conductance' \n",
            "SOURCE     : openpnm.core.ModelsMixin._regen \n",
            "TIME STAMP : 2022-05-24 10:20:43,458\n",
            "------------------------------------------------------------\n",
            "------------------------------------------------------------\n",
            "ERROR      : throat.thermal_conductance was not run since the following property is\n",
            "             missing: 'pore.area' \n",
            "SOURCE     : openpnm.core.ModelsMixin._regen \n",
            "TIME STAMP : 2022-05-24 10:20:43,467\n",
            "------------------------------------------------------------\n",
            "------------------------------------------------------------\n",
            "ERROR      : throat.electrical_conductance was not run since the following property is\n",
            "             missing: 'pore.area' \n",
            "SOURCE     : openpnm.core.ModelsMixin._regen \n",
            "TIME STAMP : 2022-05-24 10:20:43,471\n",
            "------------------------------------------------------------\n",
            "------------------------------------------------------------\n",
            "ERROR      : throat.hydraulic_conductance was not run since the following property is\n",
            "             missing: 'pore.area' \n",
            "SOURCE     : openpnm.core.ModelsMixin._regen \n",
            "TIME STAMP : 2022-05-24 10:20:43,476\n",
            "------------------------------------------------------------\n"
          ]
        },
        {
          "output_type": "error",
          "ename": "KeyError",
          "evalue": "ignored",
          "traceback": [
            "\u001b[0;31m---------------------------------------------------------------------------\u001b[0m",
            "\u001b[0;31mKeyError\u001b[0m                                  Traceback (most recent call last)",
            "\u001b[0;32m<ipython-input-478-7e2b926b4b3d>\u001b[0m in \u001b[0;36m<module>\u001b[0;34m()\u001b[0m\n\u001b[1;32m     17\u001b[0m \u001b[0mperm\u001b[0m \u001b[0;34m=\u001b[0m \u001b[0mop\u001b[0m\u001b[0;34m.\u001b[0m\u001b[0malgorithms\u001b[0m\u001b[0;34m.\u001b[0m\u001b[0mStokesFlow\u001b[0m\u001b[0;34m(\u001b[0m\u001b[0mnetwork\u001b[0m\u001b[0;34m=\u001b[0m\u001b[0mpn\u001b[0m\u001b[0;34m)\u001b[0m\u001b[0;34m\u001b[0m\u001b[0;34m\u001b[0m\u001b[0m\n\u001b[1;32m     18\u001b[0m \u001b[0mperm\u001b[0m\u001b[0;34m.\u001b[0m\u001b[0msetup\u001b[0m\u001b[0;34m(\u001b[0m\u001b[0mphase\u001b[0m\u001b[0;34m=\u001b[0m\u001b[0mair\u001b[0m\u001b[0;34m)\u001b[0m\u001b[0;34m\u001b[0m\u001b[0;34m\u001b[0m\u001b[0m\n\u001b[0;32m---> 19\u001b[0;31m \u001b[0mperm\u001b[0m\u001b[0;34m.\u001b[0m\u001b[0mset_value_BC\u001b[0m\u001b[0;34m(\u001b[0m\u001b[0mpores\u001b[0m\u001b[0;34m=\u001b[0m\u001b[0mpn\u001b[0m\u001b[0;34m.\u001b[0m\u001b[0mpores\u001b[0m\u001b[0;34m(\u001b[0m\u001b[0;34m'left'\u001b[0m\u001b[0;34m)\u001b[0m\u001b[0;34m,\u001b[0m \u001b[0mvalues\u001b[0m\u001b[0;34m=\u001b[0m\u001b[0;36m20\u001b[0m\u001b[0;34m)\u001b[0m\u001b[0;34m\u001b[0m\u001b[0;34m\u001b[0m\u001b[0m\n\u001b[0m\u001b[1;32m     20\u001b[0m \u001b[0mperm\u001b[0m\u001b[0;34m.\u001b[0m\u001b[0mset_value_BC\u001b[0m\u001b[0;34m(\u001b[0m\u001b[0mpores\u001b[0m\u001b[0;34m=\u001b[0m\u001b[0mpn\u001b[0m\u001b[0;34m.\u001b[0m\u001b[0mpores\u001b[0m\u001b[0;34m(\u001b[0m\u001b[0;34m'right'\u001b[0m\u001b[0;34m)\u001b[0m\u001b[0;34m,\u001b[0m \u001b[0mvalues\u001b[0m\u001b[0;34m=\u001b[0m\u001b[0;36m0\u001b[0m\u001b[0;34m)\u001b[0m\u001b[0;34m\u001b[0m\u001b[0;34m\u001b[0m\u001b[0m\n\u001b[1;32m     21\u001b[0m \u001b[0mperm\u001b[0m\u001b[0;34m.\u001b[0m\u001b[0mrun\u001b[0m\u001b[0;34m(\u001b[0m\u001b[0;34m)\u001b[0m\u001b[0;34m\u001b[0m\u001b[0;34m\u001b[0m\u001b[0m\n",
            "\u001b[0;32m/usr/local/lib/python3.7/dist-packages/openpnm/core/Base.py\u001b[0m in \u001b[0;36mpores\u001b[0;34m(self, labels, mode, asmask, target)\u001b[0m\n\u001b[1;32m    858\u001b[0m         \u001b[0marray\u001b[0m\u001b[0;34m(\u001b[0m\u001b[0;34m[\u001b[0m \u001b[0;36m24\u001b[0m\u001b[0;34m,\u001b[0m  \u001b[0;36m49\u001b[0m\u001b[0;34m,\u001b[0m  \u001b[0;36m74\u001b[0m\u001b[0;34m,\u001b[0m  \u001b[0;36m99\u001b[0m\u001b[0;34m,\u001b[0m \u001b[0;36m124\u001b[0m\u001b[0;34m]\u001b[0m\u001b[0;34m)\u001b[0m\u001b[0;34m\u001b[0m\u001b[0;34m\u001b[0m\u001b[0m\n\u001b[1;32m    859\u001b[0m         \"\"\"\n\u001b[0;32m--> 860\u001b[0;31m         \u001b[0mind\u001b[0m \u001b[0;34m=\u001b[0m \u001b[0mself\u001b[0m\u001b[0;34m.\u001b[0m\u001b[0m_get_indices\u001b[0m\u001b[0;34m(\u001b[0m\u001b[0melement\u001b[0m\u001b[0;34m=\u001b[0m\u001b[0;34m'pore'\u001b[0m\u001b[0;34m,\u001b[0m \u001b[0mlabels\u001b[0m\u001b[0;34m=\u001b[0m\u001b[0mlabels\u001b[0m\u001b[0;34m,\u001b[0m \u001b[0mmode\u001b[0m\u001b[0;34m=\u001b[0m\u001b[0mmode\u001b[0m\u001b[0;34m)\u001b[0m\u001b[0;34m\u001b[0m\u001b[0;34m\u001b[0m\u001b[0m\n\u001b[0m\u001b[1;32m    861\u001b[0m         \u001b[0;32mif\u001b[0m \u001b[0mtarget\u001b[0m \u001b[0;32mis\u001b[0m \u001b[0;32mnot\u001b[0m \u001b[0;32mNone\u001b[0m\u001b[0;34m:\u001b[0m\u001b[0;34m\u001b[0m\u001b[0;34m\u001b[0m\u001b[0m\n\u001b[1;32m    862\u001b[0m             \u001b[0mind\u001b[0m \u001b[0;34m=\u001b[0m \u001b[0mtarget\u001b[0m\u001b[0;34m.\u001b[0m\u001b[0mmap_pores\u001b[0m\u001b[0;34m(\u001b[0m\u001b[0mpores\u001b[0m\u001b[0;34m=\u001b[0m\u001b[0mind\u001b[0m\u001b[0;34m,\u001b[0m \u001b[0morigin\u001b[0m\u001b[0;34m=\u001b[0m\u001b[0mself\u001b[0m\u001b[0;34m,\u001b[0m \u001b[0mfiltered\u001b[0m\u001b[0;34m=\u001b[0m\u001b[0;32mTrue\u001b[0m\u001b[0;34m)\u001b[0m\u001b[0;34m\u001b[0m\u001b[0;34m\u001b[0m\u001b[0m\n",
            "\u001b[0;32m/usr/local/lib/python3.7/dist-packages/openpnm/core/Base.py\u001b[0m in \u001b[0;36m_get_indices\u001b[0;34m(self, element, labels, mode)\u001b[0m\n\u001b[1;32m    749\u001b[0m             \u001b[0munion\u001b[0m \u001b[0;34m=\u001b[0m \u001b[0mnp\u001b[0m\u001b[0;34m.\u001b[0m\u001b[0mzeros_like\u001b[0m\u001b[0;34m(\u001b[0m\u001b[0mself\u001b[0m\u001b[0;34m[\u001b[0m\u001b[0melement\u001b[0m\u001b[0;34m+\u001b[0m\u001b[0;34m'.all'\u001b[0m\u001b[0;34m]\u001b[0m\u001b[0;34m,\u001b[0m \u001b[0mdtype\u001b[0m\u001b[0;34m=\u001b[0m\u001b[0mbool\u001b[0m\u001b[0;34m)\u001b[0m\u001b[0;34m\u001b[0m\u001b[0;34m\u001b[0m\u001b[0m\n\u001b[1;32m    750\u001b[0m             \u001b[0;32mfor\u001b[0m \u001b[0mitem\u001b[0m \u001b[0;32min\u001b[0m \u001b[0mlabels\u001b[0m\u001b[0;34m:\u001b[0m  \u001b[0;31m# Iterate over labels and collect all indices\u001b[0m\u001b[0;34m\u001b[0m\u001b[0;34m\u001b[0m\u001b[0m\n\u001b[0;32m--> 751\u001b[0;31m                 \u001b[0munion\u001b[0m \u001b[0;34m=\u001b[0m \u001b[0munion\u001b[0m \u001b[0;34m+\u001b[0m \u001b[0mself\u001b[0m\u001b[0;34m[\u001b[0m\u001b[0melement\u001b[0m\u001b[0;34m+\u001b[0m\u001b[0;34m'.'\u001b[0m\u001b[0;34m+\u001b[0m\u001b[0mitem\u001b[0m\u001b[0;34m.\u001b[0m\u001b[0msplit\u001b[0m\u001b[0;34m(\u001b[0m\u001b[0;34m'.'\u001b[0m\u001b[0;34m)\u001b[0m\u001b[0;34m[\u001b[0m\u001b[0;34m-\u001b[0m\u001b[0;36m1\u001b[0m\u001b[0;34m]\u001b[0m\u001b[0;34m]\u001b[0m\u001b[0;34m\u001b[0m\u001b[0;34m\u001b[0m\u001b[0m\n\u001b[0m\u001b[1;32m    752\u001b[0m             \u001b[0mind\u001b[0m \u001b[0;34m=\u001b[0m \u001b[0munion\u001b[0m\u001b[0;34m\u001b[0m\u001b[0;34m\u001b[0m\u001b[0m\n\u001b[1;32m    753\u001b[0m         \u001b[0;32melif\u001b[0m \u001b[0mmode\u001b[0m \u001b[0;32min\u001b[0m \u001b[0;34m[\u001b[0m\u001b[0;34m'and'\u001b[0m\u001b[0;34m,\u001b[0m \u001b[0;34m'all'\u001b[0m\u001b[0;34m,\u001b[0m \u001b[0;34m'intersection'\u001b[0m\u001b[0;34m]\u001b[0m\u001b[0;34m:\u001b[0m\u001b[0;34m\u001b[0m\u001b[0;34m\u001b[0m\u001b[0m\n",
            "\u001b[0;32m/usr/local/lib/python3.7/dist-packages/openpnm/network/GenericNetwork.py\u001b[0m in \u001b[0;36m__getitem__\u001b[0;34m(self, key)\u001b[0m\n\u001b[1;32m    155\u001b[0m             \u001b[0mself\u001b[0m\u001b[0;34m.\u001b[0m\u001b[0m_gen_ids\u001b[0m\u001b[0;34m(\u001b[0m\u001b[0;34m)\u001b[0m\u001b[0;34m\u001b[0m\u001b[0;34m\u001b[0m\u001b[0m\n\u001b[1;32m    156\u001b[0m             \u001b[0;32mreturn\u001b[0m \u001b[0mself\u001b[0m\u001b[0;34m.\u001b[0m\u001b[0mget\u001b[0m\u001b[0;34m(\u001b[0m\u001b[0;34mf\"{element}._id\"\u001b[0m\u001b[0;34m)\u001b[0m\u001b[0;34m\u001b[0m\u001b[0;34m\u001b[0m\u001b[0m\n\u001b[0;32m--> 157\u001b[0;31m         \u001b[0mvals\u001b[0m \u001b[0;34m=\u001b[0m \u001b[0msuper\u001b[0m\u001b[0;34m(\u001b[0m\u001b[0;34m)\u001b[0m\u001b[0;34m.\u001b[0m\u001b[0m__getitem__\u001b[0m\u001b[0;34m(\u001b[0m\u001b[0mkey\u001b[0m\u001b[0;34m)\u001b[0m\u001b[0;34m\u001b[0m\u001b[0;34m\u001b[0m\u001b[0m\n\u001b[0m\u001b[1;32m    158\u001b[0m         \u001b[0;32mreturn\u001b[0m \u001b[0mvals\u001b[0m\u001b[0;34m\u001b[0m\u001b[0;34m\u001b[0m\u001b[0m\n\u001b[1;32m    159\u001b[0m \u001b[0;34m\u001b[0m\u001b[0m\n",
            "\u001b[0;32m/usr/local/lib/python3.7/dist-packages/openpnm/core/Base.py\u001b[0m in \u001b[0;36m__getitem__\u001b[0;34m(self, key)\u001b[0m\n\u001b[1;32m    281\u001b[0m         \u001b[0;31m#     self[element + '.' + prop] = vals\u001b[0m\u001b[0;34m\u001b[0m\u001b[0;34m\u001b[0m\u001b[0;34m\u001b[0m\u001b[0m\n\u001b[1;32m    282\u001b[0m         \u001b[0;32melse\u001b[0m\u001b[0;34m:\u001b[0m\u001b[0;34m\u001b[0m\u001b[0;34m\u001b[0m\u001b[0m\n\u001b[0;32m--> 283\u001b[0;31m             \u001b[0;32mraise\u001b[0m \u001b[0mKeyError\u001b[0m\u001b[0;34m(\u001b[0m\u001b[0mkey\u001b[0m\u001b[0;34m)\u001b[0m\u001b[0;34m\u001b[0m\u001b[0;34m\u001b[0m\u001b[0m\n\u001b[0m\u001b[1;32m    284\u001b[0m         \u001b[0;32mreturn\u001b[0m \u001b[0mvals\u001b[0m\u001b[0;34m\u001b[0m\u001b[0;34m\u001b[0m\u001b[0m\n\u001b[1;32m    285\u001b[0m \u001b[0;34m\u001b[0m\u001b[0m\n",
            "\u001b[0;31mKeyError\u001b[0m: 'pore.left'"
          ]
        }
      ]
    },
    {
      "cell_type": "code",
      "source": [
        ""
      ],
      "metadata": {
        "id": "v2yUeCluj2lQ"
      },
      "execution_count": null,
      "outputs": []
    }
  ]
}